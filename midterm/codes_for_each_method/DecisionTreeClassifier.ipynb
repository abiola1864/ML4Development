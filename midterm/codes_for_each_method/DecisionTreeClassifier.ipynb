{
 "cells": [
  {
   "cell_type": "code",
   "execution_count": 4,
   "metadata": {},
   "outputs": [],
   "source": [
    "# Python ≥3.5 is required\n",
    "import sys\n",
    "assert sys.version_info >= (3, 5)\n",
    "\n",
    "# Scikit-Learn ≥0.20 is required\n",
    "import sklearn\n",
    "assert sklearn.__version__ >= \"0.20\"\n",
    "\n",
    "# Common imports\n",
    "import numpy as np\n",
    "import os\n",
    "\n",
    "# to make this notebook's output stable across runs\n",
    "np.random.seed(42)"
   ]
  },
  {
   "cell_type": "code",
   "execution_count": 5,
   "metadata": {},
   "outputs": [],
   "source": [
    "import pandas as pd\n",
    "class StringConverter(dict):\n",
    "\n",
    "    def __contains__(self, item):\n",
    "\n",
    "        return True\n",
    "\n",
    "    def __getitem__(self, item):\n",
    "\n",
    "        return str\n",
    "\n",
    "    def get(self, default=None):\n",
    "\n",
    "        return str\n",
    "\n",
    "def load_data(data_path = \"/Users/vishali/Desktop/SPRING 2021/project-ml\"):\n",
    "    csv_path = os.path.join(data_path, \"ch_imputed.csv\")\n",
    "    return pd.read_csv(csv_path, low_memory = False)"
   ]
  },
  {
   "cell_type": "code",
   "execution_count": 40,
   "metadata": {},
   "outputs": [],
   "source": [
    "ch = load_data()"
   ]
  },
  {
   "cell_type": "code",
   "execution_count": 41,
   "metadata": {},
   "outputs": [],
   "source": [
    "ch.info()"
   ]
  },
  {
   "cell_type": "code",
   "execution_count": 42,
   "metadata": {},
   "outputs": [
    {
     "data": {
      "text/html": [
       "<div>\n",
       "<style scoped>\n",
       "    .dataframe tbody tr th:only-of-type {\n",
       "        vertical-align: middle;\n",
       "    }\n",
       "\n",
       "    .dataframe tbody tr th {\n",
       "        vertical-align: top;\n",
       "    }\n",
       "\n",
       "    .dataframe thead th {\n",
       "        text-align: right;\n",
       "    }\n",
       "</style>\n",
       "<table border=\"1\" class=\"dataframe\">\n",
       "  <thead>\n",
       "    <tr style=\"text-align: right;\">\n",
       "      <th></th>\n",
       "      <th>Unnamed: 0</th>\n",
       "      <th>X</th>\n",
       "      <th>sd1</th>\n",
       "      <th>hv204</th>\n",
       "      <th>hv206</th>\n",
       "      <th>hv207</th>\n",
       "      <th>hv208</th>\n",
       "      <th>hv209</th>\n",
       "      <th>hv210</th>\n",
       "      <th>hv211</th>\n",
       "      <th>...</th>\n",
       "      <th>PET_2015</th>\n",
       "      <th>Proximity_to_tiol_Borders</th>\n",
       "      <th>Proximity_to_Protected_Areas</th>\n",
       "      <th>Proximity_to_Water</th>\n",
       "      <th>Rainfall_2015</th>\n",
       "      <th>Travel_Times_2015</th>\n",
       "      <th>UN_Population_Density_2015</th>\n",
       "      <th>Wet_Days_2015</th>\n",
       "      <th>washhands</th>\n",
       "      <th>smoke</th>\n",
       "    </tr>\n",
       "  </thead>\n",
       "  <tbody>\n",
       "    <tr>\n",
       "      <th>count</th>\n",
       "      <td>9395.000000</td>\n",
       "      <td>9395.000000</td>\n",
       "      <td>9395.000000</td>\n",
       "      <td>9395.000000</td>\n",
       "      <td>9395.000000</td>\n",
       "      <td>9395.000000</td>\n",
       "      <td>9395.000000</td>\n",
       "      <td>9395.000000</td>\n",
       "      <td>9395.000000</td>\n",
       "      <td>9395.000000</td>\n",
       "      <td>...</td>\n",
       "      <td>9395.000000</td>\n",
       "      <td>9395.000000</td>\n",
       "      <td>9395.000000</td>\n",
       "      <td>9395.000000</td>\n",
       "      <td>9395.000000</td>\n",
       "      <td>9395.000000</td>\n",
       "      <td>9395.000000</td>\n",
       "      <td>9395.000000</td>\n",
       "      <td>9395.000000</td>\n",
       "      <td>9395.000000</td>\n",
       "    </tr>\n",
       "    <tr>\n",
       "      <th>mean</th>\n",
       "      <td>4698.000000</td>\n",
       "      <td>22262.091964</td>\n",
       "      <td>0.482278</td>\n",
       "      <td>128.520809</td>\n",
       "      <td>0.219372</td>\n",
       "      <td>0.531985</td>\n",
       "      <td>0.112826</td>\n",
       "      <td>0.017030</td>\n",
       "      <td>0.168175</td>\n",
       "      <td>0.019159</td>\n",
       "      <td>...</td>\n",
       "      <td>2.861483</td>\n",
       "      <td>23235.013448</td>\n",
       "      <td>29222.281985</td>\n",
       "      <td>22814.013185</td>\n",
       "      <td>1079.743748</td>\n",
       "      <td>38.247741</td>\n",
       "      <td>1003.719147</td>\n",
       "      <td>16.182889</td>\n",
       "      <td>0.108675</td>\n",
       "      <td>0.825652</td>\n",
       "    </tr>\n",
       "    <tr>\n",
       "      <th>std</th>\n",
       "      <td>2712.247223</td>\n",
       "      <td>12738.764883</td>\n",
       "      <td>0.499712</td>\n",
       "      <td>286.127055</td>\n",
       "      <td>0.413843</td>\n",
       "      <td>0.499002</td>\n",
       "      <td>0.316397</td>\n",
       "      <td>0.129391</td>\n",
       "      <td>0.374041</td>\n",
       "      <td>0.137091</td>\n",
       "      <td>...</td>\n",
       "      <td>0.188219</td>\n",
       "      <td>14578.638448</td>\n",
       "      <td>18926.488291</td>\n",
       "      <td>13932.925922</td>\n",
       "      <td>219.290823</td>\n",
       "      <td>27.971789</td>\n",
       "      <td>1533.360813</td>\n",
       "      <td>0.627466</td>\n",
       "      <td>0.311247</td>\n",
       "      <td>0.379429</td>\n",
       "    </tr>\n",
       "    <tr>\n",
       "      <th>min</th>\n",
       "      <td>1.000000</td>\n",
       "      <td>1.000000</td>\n",
       "      <td>0.000000</td>\n",
       "      <td>2.000000</td>\n",
       "      <td>0.000000</td>\n",
       "      <td>0.000000</td>\n",
       "      <td>0.000000</td>\n",
       "      <td>0.000000</td>\n",
       "      <td>0.000000</td>\n",
       "      <td>0.000000</td>\n",
       "      <td>...</td>\n",
       "      <td>2.450000</td>\n",
       "      <td>225.640000</td>\n",
       "      <td>0.000000</td>\n",
       "      <td>0.000000</td>\n",
       "      <td>740.600000</td>\n",
       "      <td>0.000000</td>\n",
       "      <td>145.520000</td>\n",
       "      <td>15.180000</td>\n",
       "      <td>0.000000</td>\n",
       "      <td>0.000000</td>\n",
       "    </tr>\n",
       "    <tr>\n",
       "      <th>25%</th>\n",
       "      <td>2349.500000</td>\n",
       "      <td>11275.500000</td>\n",
       "      <td>0.000000</td>\n",
       "      <td>15.000000</td>\n",
       "      <td>0.000000</td>\n",
       "      <td>0.000000</td>\n",
       "      <td>0.000000</td>\n",
       "      <td>0.000000</td>\n",
       "      <td>0.000000</td>\n",
       "      <td>0.000000</td>\n",
       "      <td>...</td>\n",
       "      <td>2.690000</td>\n",
       "      <td>10497.340000</td>\n",
       "      <td>12487.380000</td>\n",
       "      <td>11861.150000</td>\n",
       "      <td>872.000000</td>\n",
       "      <td>16.640000</td>\n",
       "      <td>458.850000</td>\n",
       "      <td>15.630000</td>\n",
       "      <td>0.000000</td>\n",
       "      <td>1.000000</td>\n",
       "    </tr>\n",
       "    <tr>\n",
       "      <th>50%</th>\n",
       "      <td>4698.000000</td>\n",
       "      <td>22154.000000</td>\n",
       "      <td>0.000000</td>\n",
       "      <td>30.000000</td>\n",
       "      <td>0.000000</td>\n",
       "      <td>1.000000</td>\n",
       "      <td>0.000000</td>\n",
       "      <td>0.000000</td>\n",
       "      <td>0.000000</td>\n",
       "      <td>0.000000</td>\n",
       "      <td>...</td>\n",
       "      <td>2.890000</td>\n",
       "      <td>21882.130000</td>\n",
       "      <td>26923.400000</td>\n",
       "      <td>22821.100000</td>\n",
       "      <td>1053.330000</td>\n",
       "      <td>35.330000</td>\n",
       "      <td>552.060000</td>\n",
       "      <td>16.390000</td>\n",
       "      <td>0.000000</td>\n",
       "      <td>1.000000</td>\n",
       "    </tr>\n",
       "    <tr>\n",
       "      <th>75%</th>\n",
       "      <td>7046.500000</td>\n",
       "      <td>32813.000000</td>\n",
       "      <td>1.000000</td>\n",
       "      <td>60.000000</td>\n",
       "      <td>0.000000</td>\n",
       "      <td>1.000000</td>\n",
       "      <td>0.000000</td>\n",
       "      <td>0.000000</td>\n",
       "      <td>0.000000</td>\n",
       "      <td>0.000000</td>\n",
       "      <td>...</td>\n",
       "      <td>3.000000</td>\n",
       "      <td>36685.810000</td>\n",
       "      <td>45813.810000</td>\n",
       "      <td>32177.580000</td>\n",
       "      <td>1243.900000</td>\n",
       "      <td>53.950000</td>\n",
       "      <td>738.380000</td>\n",
       "      <td>16.560000</td>\n",
       "      <td>0.000000</td>\n",
       "      <td>1.000000</td>\n",
       "    </tr>\n",
       "    <tr>\n",
       "      <th>max</th>\n",
       "      <td>9395.000000</td>\n",
       "      <td>44985.000000</td>\n",
       "      <td>1.000000</td>\n",
       "      <td>996.000000</td>\n",
       "      <td>1.000000</td>\n",
       "      <td>1.000000</td>\n",
       "      <td>1.000000</td>\n",
       "      <td>1.000000</td>\n",
       "      <td>1.000000</td>\n",
       "      <td>1.000000</td>\n",
       "      <td>...</td>\n",
       "      <td>3.170000</td>\n",
       "      <td>55444.900000</td>\n",
       "      <td>71428.820000</td>\n",
       "      <td>65493.430000</td>\n",
       "      <td>1621.000000</td>\n",
       "      <td>175.810000</td>\n",
       "      <td>10562.060000</td>\n",
       "      <td>17.310000</td>\n",
       "      <td>1.000000</td>\n",
       "      <td>1.000000</td>\n",
       "    </tr>\n",
       "  </tbody>\n",
       "</table>\n",
       "<p>8 rows × 40 columns</p>\n",
       "</div>"
      ],
      "text/plain": [
       "        Unnamed: 0             X          sd1        hv204        hv206  \\\n",
       "count  9395.000000   9395.000000  9395.000000  9395.000000  9395.000000   \n",
       "mean   4698.000000  22262.091964     0.482278   128.520809     0.219372   \n",
       "std    2712.247223  12738.764883     0.499712   286.127055     0.413843   \n",
       "min       1.000000      1.000000     0.000000     2.000000     0.000000   \n",
       "25%    2349.500000  11275.500000     0.000000    15.000000     0.000000   \n",
       "50%    4698.000000  22154.000000     0.000000    30.000000     0.000000   \n",
       "75%    7046.500000  32813.000000     1.000000    60.000000     0.000000   \n",
       "max    9395.000000  44985.000000     1.000000   996.000000     1.000000   \n",
       "\n",
       "             hv207        hv208        hv209        hv210        hv211  ...  \\\n",
       "count  9395.000000  9395.000000  9395.000000  9395.000000  9395.000000  ...   \n",
       "mean      0.531985     0.112826     0.017030     0.168175     0.019159  ...   \n",
       "std       0.499002     0.316397     0.129391     0.374041     0.137091  ...   \n",
       "min       0.000000     0.000000     0.000000     0.000000     0.000000  ...   \n",
       "25%       0.000000     0.000000     0.000000     0.000000     0.000000  ...   \n",
       "50%       1.000000     0.000000     0.000000     0.000000     0.000000  ...   \n",
       "75%       1.000000     0.000000     0.000000     0.000000     0.000000  ...   \n",
       "max       1.000000     1.000000     1.000000     1.000000     1.000000  ...   \n",
       "\n",
       "          PET_2015  Proximity_to_tiol_Borders  Proximity_to_Protected_Areas  \\\n",
       "count  9395.000000                9395.000000                   9395.000000   \n",
       "mean      2.861483               23235.013448                  29222.281985   \n",
       "std       0.188219               14578.638448                  18926.488291   \n",
       "min       2.450000                 225.640000                      0.000000   \n",
       "25%       2.690000               10497.340000                  12487.380000   \n",
       "50%       2.890000               21882.130000                  26923.400000   \n",
       "75%       3.000000               36685.810000                  45813.810000   \n",
       "max       3.170000               55444.900000                  71428.820000   \n",
       "\n",
       "       Proximity_to_Water  Rainfall_2015  Travel_Times_2015  \\\n",
       "count         9395.000000    9395.000000        9395.000000   \n",
       "mean         22814.013185    1079.743748          38.247741   \n",
       "std          13932.925922     219.290823          27.971789   \n",
       "min              0.000000     740.600000           0.000000   \n",
       "25%          11861.150000     872.000000          16.640000   \n",
       "50%          22821.100000    1053.330000          35.330000   \n",
       "75%          32177.580000    1243.900000          53.950000   \n",
       "max          65493.430000    1621.000000         175.810000   \n",
       "\n",
       "       UN_Population_Density_2015  Wet_Days_2015    washhands        smoke  \n",
       "count                 9395.000000    9395.000000  9395.000000  9395.000000  \n",
       "mean                  1003.719147      16.182889     0.108675     0.825652  \n",
       "std                   1533.360813       0.627466     0.311247     0.379429  \n",
       "min                    145.520000      15.180000     0.000000     0.000000  \n",
       "25%                    458.850000      15.630000     0.000000     1.000000  \n",
       "50%                    552.060000      16.390000     0.000000     1.000000  \n",
       "75%                    738.380000      16.560000     0.000000     1.000000  \n",
       "max                  10562.060000      17.310000     1.000000     1.000000  \n",
       "\n",
       "[8 rows x 40 columns]"
      ]
     },
     "execution_count": 42,
     "metadata": {},
     "output_type": "execute_result"
    }
   ],
   "source": []
  },
  {
   "cell_type": "code",
   "execution_count": 44,
   "metadata": {},
   "outputs": [
    {
     "name": "stdout",
     "output_type": "stream",
     "text": [
      "<class 'pandas.core.frame.DataFrame'>\n",
      "RangeIndex: 9395 entries, 0 to 9394\n",
      "Data columns (total 42 columns):\n",
      " #   Column                          Non-Null Count  Dtype  \n",
      "---  ------                          --------------  -----  \n",
      " 0   Unnamed: 0                      9395 non-null   int64  \n",
      " 1   X                               9395 non-null   int64  \n",
      " 2   whsd                            9395 non-null   object \n",
      " 3   sd1                             9395 non-null   int64  \n",
      " 4   hv204                           9395 non-null   int64  \n",
      " 5   hv206                           9395 non-null   int64  \n",
      " 6   hv207                           9395 non-null   int64  \n",
      " 7   hv208                           9395 non-null   int64  \n",
      " 8   hv209                           9395 non-null   int64  \n",
      " 9   hv210                           9395 non-null   int64  \n",
      " 10  hv211                           9395 non-null   int64  \n",
      " 11  hv212                           9395 non-null   int64  \n",
      " 12  hv216                           9395 non-null   int64  \n",
      " 13  hv225                           9395 non-null   int64  \n",
      " 14  hv227                           9395 non-null   int64  \n",
      " 15  hv237                           9395 non-null   int64  \n",
      " 16  hv243a                          9395 non-null   int64  \n",
      " 17  hml1                            9395 non-null   int64  \n",
      " 18  Annual_Precipitation_2015       9395 non-null   float64\n",
      " 19  Aridity_2015                    9395 non-null   float64\n",
      " 20  Day_Land_Surface_Temp_2015      9395 non-null   float64\n",
      " 21  Diurl_Temperature_Range_2015    9395 non-null   float64\n",
      " 22  Enhanced_Vegetation_Index_2015  9395 non-null   float64\n",
      " 23  Global_Human_Footprint          9395 non-null   float64\n",
      " 24  Growing_Season_Length           9395 non-null   int64  \n",
      " 25  Irrigation                      9395 non-null   float64\n",
      " 26  Land_Surface_Temperature_2015   9395 non-null   float64\n",
      " 27  ITN_Coverage_2015               9395 non-null   float64\n",
      " 28  Mean_Temperature_2015           9395 non-null   float64\n",
      " 29  Nightlights_Composite           9395 non-null   float64\n",
      " 30  Night_Land_Surface_Temp_2015    9395 non-null   float64\n",
      " 31  PET_2015                        9395 non-null   float64\n",
      " 32  Proximity_to_tiol_Borders       9395 non-null   float64\n",
      " 33  Proximity_to_Protected_Areas    9395 non-null   float64\n",
      " 34  Proximity_to_Water              9395 non-null   float64\n",
      " 35  Rainfall_2015                   9395 non-null   float64\n",
      " 36  Travel_Times_2015               9395 non-null   float64\n",
      " 37  UN_Population_Density_2015      9395 non-null   float64\n",
      " 38  Wet_Days_2015                   9395 non-null   float64\n",
      " 39  v025                            9395 non-null   object \n",
      " 40  washhands                       9395 non-null   int64  \n",
      " 41  smoke                           9395 non-null   int64  \n",
      "dtypes: float64(20), int64(20), object(2)\n",
      "memory usage: 3.0+ MB\n"
     ]
    }
   ],
   "source": []
  },
  {
   "cell_type": "code",
   "execution_count": 45,
   "metadata": {},
   "outputs": [],
   "source": [
    "# drop object dtypes\n",
    "del ch['whsd']\n",
    "del ch['v025']"
   ]
  },
  {
   "cell_type": "code",
   "execution_count": 46,
   "metadata": {},
   "outputs": [
    {
     "name": "stdout",
     "output_type": "stream",
     "text": [
      "<class 'pandas.core.frame.DataFrame'>\n",
      "RangeIndex: 9395 entries, 0 to 9394\n",
      "Data columns (total 40 columns):\n",
      " #   Column                          Non-Null Count  Dtype  \n",
      "---  ------                          --------------  -----  \n",
      " 0   Unnamed: 0                      9395 non-null   int64  \n",
      " 1   X                               9395 non-null   int64  \n",
      " 2   sd1                             9395 non-null   int64  \n",
      " 3   hv204                           9395 non-null   int64  \n",
      " 4   hv206                           9395 non-null   int64  \n",
      " 5   hv207                           9395 non-null   int64  \n",
      " 6   hv208                           9395 non-null   int64  \n",
      " 7   hv209                           9395 non-null   int64  \n",
      " 8   hv210                           9395 non-null   int64  \n",
      " 9   hv211                           9395 non-null   int64  \n",
      " 10  hv212                           9395 non-null   int64  \n",
      " 11  hv216                           9395 non-null   int64  \n",
      " 12  hv225                           9395 non-null   int64  \n",
      " 13  hv227                           9395 non-null   int64  \n",
      " 14  hv237                           9395 non-null   int64  \n",
      " 15  hv243a                          9395 non-null   int64  \n",
      " 16  hml1                            9395 non-null   int64  \n",
      " 17  Annual_Precipitation_2015       9395 non-null   float64\n",
      " 18  Aridity_2015                    9395 non-null   float64\n",
      " 19  Day_Land_Surface_Temp_2015      9395 non-null   float64\n",
      " 20  Diurl_Temperature_Range_2015    9395 non-null   float64\n",
      " 21  Enhanced_Vegetation_Index_2015  9395 non-null   float64\n",
      " 22  Global_Human_Footprint          9395 non-null   float64\n",
      " 23  Growing_Season_Length           9395 non-null   int64  \n",
      " 24  Irrigation                      9395 non-null   float64\n",
      " 25  Land_Surface_Temperature_2015   9395 non-null   float64\n",
      " 26  ITN_Coverage_2015               9395 non-null   float64\n",
      " 27  Mean_Temperature_2015           9395 non-null   float64\n",
      " 28  Nightlights_Composite           9395 non-null   float64\n",
      " 29  Night_Land_Surface_Temp_2015    9395 non-null   float64\n",
      " 30  PET_2015                        9395 non-null   float64\n",
      " 31  Proximity_to_tiol_Borders       9395 non-null   float64\n",
      " 32  Proximity_to_Protected_Areas    9395 non-null   float64\n",
      " 33  Proximity_to_Water              9395 non-null   float64\n",
      " 34  Rainfall_2015                   9395 non-null   float64\n",
      " 35  Travel_Times_2015               9395 non-null   float64\n",
      " 36  UN_Population_Density_2015      9395 non-null   float64\n",
      " 37  Wet_Days_2015                   9395 non-null   float64\n",
      " 38  washhands                       9395 non-null   int64  \n",
      " 39  smoke                           9395 non-null   int64  \n",
      "dtypes: float64(20), int64(20)\n",
      "memory usage: 2.9 MB\n"
     ]
    }
   ],
   "source": [
    "ch.info()"
   ]
  },
  {
   "cell_type": "code",
   "execution_count": 48,
   "metadata": {},
   "outputs": [],
   "source": [
    "X = ch.drop('sd1', axis=1)\n",
    "y = ch['sd1']"
   ]
  },
  {
   "cell_type": "code",
   "execution_count": 49,
   "metadata": {},
   "outputs": [],
   "source": [
    "from sklearn.model_selection import train_test_split"
   ]
  },
  {
   "cell_type": "code",
   "execution_count": 50,
   "metadata": {},
   "outputs": [],
   "source": [
    "X_train, X_test, y_train, y_test = train_test_split(X, y, test_size=0.2, random_state=1)\n",
    "\n",
    "X_train, X_val, y_train, y_val = train_test_split(X_train, y_train, test_size=0.25, random_state=1) "
   ]
  },
  {
   "cell_type": "code",
   "execution_count": 51,
   "metadata": {},
   "outputs": [
    {
     "data": {
      "text/plain": [
       "DecisionTreeClassifier()"
      ]
     },
     "execution_count": 51,
     "metadata": {},
     "output_type": "execute_result"
    }
   ],
   "source": [
    "from sklearn.tree import DecisionTreeClassifier\n",
    "classifier = DecisionTreeClassifier()\n",
    "classifier.fit(X_train, y_train)"
   ]
  },
  {
   "cell_type": "code",
   "execution_count": 52,
   "metadata": {},
   "outputs": [],
   "source": [
    "y_pred = classifier.predict(X_test)"
   ]
  },
  {
   "cell_type": "code",
   "execution_count": 53,
   "metadata": {},
   "outputs": [
    {
     "name": "stdout",
     "output_type": "stream",
     "text": [
      "[[888  89]\n",
      " [ 83 819]]\n",
      "              precision    recall  f1-score   support\n",
      "\n",
      "           0       0.91      0.91      0.91       977\n",
      "           1       0.90      0.91      0.90       902\n",
      "\n",
      "    accuracy                           0.91      1879\n",
      "   macro avg       0.91      0.91      0.91      1879\n",
      "weighted avg       0.91      0.91      0.91      1879\n",
      "\n"
     ]
    }
   ],
   "source": [
    "from sklearn.metrics import classification_report, confusion_matrix\n",
    "CM = confusion_matrix(y_test, y_pred)\n",
    "print(confusion_matrix(y_test, y_pred))\n",
    "print(classification_report(y_test, y_pred))"
   ]
  },
  {
   "cell_type": "code",
   "execution_count": 106,
   "metadata": {},
   "outputs": [
    {
     "name": "stdout",
     "output_type": "stream",
     "text": [
      "0.09201773835920177\n",
      "0.09109518935516889\n",
      "0.9079822616407982\n"
     ]
    }
   ],
   "source": [
    "TN = CM[0][0]\n",
    "FN = CM[1][0]\n",
    "TP = CM[1][1]\n",
    "FP = CM[0][1]\n",
    "\n",
    "FNR = FN/(TP+FN)\n",
    "FPR = FP/(FP+TN)\n",
    "TPR = TP/(TP+FN)\n",
    "print(FNR)\n",
    "print(FPR)\n",
    "print(TPR)"
   ]
  },
  {
   "cell_type": "code",
   "execution_count": 138,
   "metadata": {},
   "outputs": [
    {
     "data": {
      "text/plain": [
       "0.4679020664869722"
      ]
     },
     "execution_count": 138,
     "metadata": {},
     "output_type": "execute_result"
    }
   ],
   "source": [
    "from sklearn.metrics import roc_curve\n",
    "from sklearn.metrics import auc\n",
    "\n",
    "# Compute fpr, tpr, thresholds and roc auc\n",
    "fpr, tpr, thresholds = roc_curve(y_pred, y_test)\n",
    "roc_auc = auc(fpr, tpr)\n",
    "roc_auc\n"
   ]
  },
  {
   "cell_type": "code",
   "execution_count": 65,
   "metadata": {},
   "outputs": [],
   "source": [
    "from sklearn import tree\n",
    "from sklearn.model_selection import GridSearchCV\n",
    "import random\n",
    "from random import randint"
   ]
  },
  {
   "cell_type": "code",
   "execution_count": 143,
   "metadata": {},
   "outputs": [
    {
     "name": "stdout",
     "output_type": "stream",
     "text": [
      "0.516338477913784 {'criterion': 'gini', 'max_depth': 1, 'min_samples_leaf': 1}\n"
     ]
    }
   ],
   "source": [
    "max_depth_range = range(1,10)\n",
    "min_samples_leaf_range = range(1,10)\n",
    "parameters = {'criterion': ['gini'], 'max_depth': max_depth_range, 'min_samples_leaf': min_samples_leaf_range}\n",
    "clf = GridSearchCV(tree.DecisionTreeClassifier(), parameters, n_jobs=4, cv= 5)\n",
    "clf.fit(X=X, y=y)\n",
    "tree_model = clf.best_estimator_\n",
    "print (clf.best_score_, clf.best_params_) "
   ]
  },
  {
   "cell_type": "code",
   "execution_count": 144,
   "metadata": {},
   "outputs": [
    {
     "data": {
      "text/plain": [
       "DecisionTreeClassifier(max_depth=1)"
      ]
     },
     "execution_count": 144,
     "metadata": {},
     "output_type": "execute_result"
    }
   ],
   "source": [
    "from sklearn.tree import DecisionTreeClassifier\n",
    "classifier4 = DecisionTreeClassifier(max_depth = 1, min_samples_leaf = 1)\n",
    "classifier4.fit(X_train, y_train)"
   ]
  },
  {
   "cell_type": "code",
   "execution_count": 145,
   "metadata": {},
   "outputs": [],
   "source": [
    "y_predA = classifier4.predict(X_val)"
   ]
  },
  {
   "cell_type": "code",
   "execution_count": 146,
   "metadata": {},
   "outputs": [],
   "source": [
    "y_pred2 = classifier4.predict(X_test)"
   ]
  },
  {
   "cell_type": "code",
   "execution_count": 147,
   "metadata": {},
   "outputs": [
    {
     "name": "stdout",
     "output_type": "stream",
     "text": [
      "[[979   6]\n",
      " [876  18]]\n",
      "              precision    recall  f1-score   support\n",
      "\n",
      "           0       0.53      0.99      0.69       985\n",
      "           1       0.75      0.02      0.04       894\n",
      "\n",
      "    accuracy                           0.53      1879\n",
      "   macro avg       0.64      0.51      0.36      1879\n",
      "weighted avg       0.63      0.53      0.38      1879\n",
      "\n"
     ]
    }
   ],
   "source": [
    "from sklearn.metrics import classification_report, confusion_matrix\n",
    "CM2 = confusion_matrix(y_val, y_predA)\n",
    "print(confusion_matrix(y_val, y_predA))\n",
    "print(classification_report(y_val, y_pred))"
   ]
  },
  {
   "cell_type": "code",
   "execution_count": 148,
   "metadata": {},
   "outputs": [
    {
     "name": "stdout",
     "output_type": "stream",
     "text": [
      "[[975  10]\n",
      " [881  13]]\n",
      "              precision    recall  f1-score   support\n",
      "\n",
      "           0       0.53      0.99      0.69       985\n",
      "           1       0.75      0.02      0.04       894\n",
      "\n",
      "    accuracy                           0.53      1879\n",
      "   macro avg       0.64      0.51      0.36      1879\n",
      "weighted avg       0.63      0.53      0.38      1879\n",
      "\n"
     ]
    }
   ],
   "source": [
    "from sklearn.metrics import classification_report, confusion_matrix\n",
    "CM2 = confusion_matrix(y_val, y_pred2)\n",
    "print(confusion_matrix(y_val, y_pred2))\n",
    "print(classification_report(y_val, y_pred))"
   ]
  },
  {
   "cell_type": "code",
   "execution_count": 149,
   "metadata": {},
   "outputs": [
    {
     "name": "stdout",
     "output_type": "stream",
     "text": [
      "0.6465324384787472\n",
      "0.05279187817258883\n"
     ]
    }
   ],
   "source": [
    "TN1 = CM2[0][0]\n",
    "FN1 = CM2[1][0]\n",
    "TP1 = CM2[1][1]\n",
    "FP1 = CM2[0][1]\n",
    "\n",
    "FNR1 = FN/(TP+FN)\n",
    "FPR1 = FP/(FP+TN)\n",
    "print(FNR1)\n",
    "print(FPR1)"
   ]
  },
  {
   "cell_type": "code",
   "execution_count": 150,
   "metadata": {},
   "outputs": [
    {
     "data": {
      "text/plain": [
       "0.5452703335832083"
      ]
     },
     "execution_count": 150,
     "metadata": {},
     "output_type": "execute_result"
    }
   ],
   "source": [
    "from sklearn.metrics import roc_curve\n",
    "from sklearn.metrics import auc\n",
    "\n",
    "# Compute fpr, tpr, thresholds and roc auc\n",
    "fpr, tpr, thresholds = roc_curve(y_pred2, y_val)\n",
    "roc_auc = auc(fpr, tpr)\n",
    "roc_auc\n"
   ]
  },
  {
   "cell_type": "code",
   "execution_count": null,
   "metadata": {},
   "outputs": [],
   "source": [
    "# Part 2: Maternal Health"
   ]
  },
  {
   "cell_type": "code",
   "execution_count": 151,
   "metadata": {},
   "outputs": [],
   "source": [
    "def load_data(data_path = \"/Users/vishali/Desktop/SPRING 2021/project-ml\"):\n",
    "    csv_path = os.path.join(data_path, \"mh_imputed.csv\")\n",
    "    return pd.read_csv(csv_path, low_memory = False)"
   ]
  },
  {
   "cell_type": "code",
   "execution_count": 152,
   "metadata": {},
   "outputs": [],
   "source": [
    "mh = load_data()"
   ]
  },
  {
   "cell_type": "code",
   "execution_count": 153,
   "metadata": {},
   "outputs": [],
   "source": [
    "X = mh.drop('anemia', axis=1)\n",
    "y = mh['anemia']"
   ]
  },
  {
   "cell_type": "code",
   "execution_count": 154,
   "metadata": {},
   "outputs": [],
   "source": [
    "from sklearn.model_selection import train_test_split\n",
    "X_train, X_test, y_train, y_test = train_test_split(X, y, test_size=0.2, random_state=1)\n",
    "\n",
    "X_train, X_val, y_train, y_val = train_test_split(X_train, y_train, test_size=0.25, random_state=1) "
   ]
  },
  {
   "cell_type": "code",
   "execution_count": 155,
   "metadata": {},
   "outputs": [
    {
     "data": {
      "text/plain": [
       "DecisionTreeClassifier()"
      ]
     },
     "execution_count": 155,
     "metadata": {},
     "output_type": "execute_result"
    }
   ],
   "source": [
    "from sklearn.tree import DecisionTreeClassifier\n",
    "classifier = DecisionTreeClassifier()\n",
    "classifier.fit(X_train, y_train)"
   ]
  },
  {
   "cell_type": "code",
   "execution_count": 156,
   "metadata": {},
   "outputs": [],
   "source": [
    "y_pred = classifier.predict(X_test)"
   ]
  },
  {
   "cell_type": "code",
   "execution_count": 157,
   "metadata": {},
   "outputs": [
    {
     "name": "stdout",
     "output_type": "stream",
     "text": [
      "[[3135  364]\n",
      " [ 374  530]]\n",
      "              precision    recall  f1-score   support\n",
      "\n",
      "           0       0.89      0.90      0.89      3499\n",
      "           1       0.59      0.59      0.59       904\n",
      "\n",
      "    accuracy                           0.83      4403\n",
      "   macro avg       0.74      0.74      0.74      4403\n",
      "weighted avg       0.83      0.83      0.83      4403\n",
      "\n"
     ]
    }
   ],
   "source": [
    "from sklearn.metrics import classification_report, confusion_matrix\n",
    "CM = confusion_matrix(y_test, y_pred)\n",
    "print(confusion_matrix(y_test, y_pred))\n",
    "print(classification_report(y_test, y_pred))"
   ]
  },
  {
   "cell_type": "code",
   "execution_count": 158,
   "metadata": {},
   "outputs": [
    {
     "name": "stdout",
     "output_type": "stream",
     "text": [
      "0.413716814159292\n",
      "0.10402972277793655\n"
     ]
    }
   ],
   "source": [
    "TN = CM[0][0]\n",
    "FN = CM[1][0]\n",
    "TP = CM[1][1]\n",
    "FP = CM[0][1]\n",
    "\n",
    "FNR = FN/(TP+FN)\n",
    "FPR = FP/(FP+TN)\n",
    "print(FNR)\n",
    "print(FPR)"
   ]
  },
  {
   "cell_type": "code",
   "execution_count": 159,
   "metadata": {},
   "outputs": [
    {
     "data": {
      "text/plain": [
       "0.7431290456053242"
      ]
     },
     "execution_count": 159,
     "metadata": {},
     "output_type": "execute_result"
    }
   ],
   "source": [
    "from sklearn.metrics import roc_curve\n",
    "from sklearn.metrics import auc\n",
    "\n",
    "# Compute fpr, tpr, thresholds and roc auc\n",
    "fpr, tpr, thresholds = roc_curve(y_pred, y_test)\n",
    "roc_auc = auc(fpr, tpr)\n",
    "roc_auc"
   ]
  },
  {
   "cell_type": "code",
   "execution_count": 160,
   "metadata": {},
   "outputs": [],
   "source": [
    "from sklearn import tree\n",
    "from sklearn.model_selection import GridSearchCV\n",
    "import random\n",
    "from random import randint"
   ]
  },
  {
   "cell_type": "code",
   "execution_count": 161,
   "metadata": {},
   "outputs": [
    {
     "name": "stdout",
     "output_type": "stream",
     "text": [
      "0.8004724794740028 {'criterion': 'entropy', 'max_depth': 1}\n"
     ]
    }
   ],
   "source": [
    "max_depth_range = range(1,10)\n",
    "min_samples_leaf_range = range(1,10)\n",
    "parameters = [{'criterion': ['entropy', 'gini'], 'max_depth': max_depth_range},\n",
    "              {'min_samples_leaf': min_samples_leaf_range}]\n",
    "clf = GridSearchCV(tree.DecisionTreeClassifier(), parameters, cv = 5)\n",
    "clf.fit(X=X, y=y)\n",
    "tree_model = clf.best_estimator_\n",
    "print (clf.best_score_, clf.best_params_) "
   ]
  },
  {
   "cell_type": "code",
   "execution_count": 164,
   "metadata": {},
   "outputs": [
    {
     "data": {
      "text/plain": [
       "DecisionTreeClassifier(max_depth=1)"
      ]
     },
     "execution_count": 164,
     "metadata": {},
     "output_type": "execute_result"
    }
   ],
   "source": [
    "from sklearn.tree import DecisionTreeClassifier\n",
    "classifier2 = DecisionTreeClassifier(max_depth = 1)\n",
    "classifier2.fit(X_train, y_train)"
   ]
  },
  {
   "cell_type": "code",
   "execution_count": 165,
   "metadata": {},
   "outputs": [],
   "source": [
    "y_pred = classifier2.predict(X_val)"
   ]
  },
  {
   "cell_type": "code",
   "execution_count": 166,
   "metadata": {},
   "outputs": [
    {
     "name": "stdout",
     "output_type": "stream",
     "text": [
      "[[3513    0]\n",
      " [ 890    0]]\n",
      "              precision    recall  f1-score   support\n",
      "\n",
      "           0       0.80      1.00      0.89      3513\n",
      "           1       0.00      0.00      0.00       890\n",
      "\n",
      "    accuracy                           0.80      4403\n",
      "   macro avg       0.40      0.50      0.44      4403\n",
      "weighted avg       0.64      0.80      0.71      4403\n",
      "\n"
     ]
    },
    {
     "name": "stderr",
     "output_type": "stream",
     "text": [
      "/Users/vishali/opt/anaconda3/lib/python3.8/site-packages/sklearn/metrics/_classification.py:1221: UndefinedMetricWarning: Precision and F-score are ill-defined and being set to 0.0 in labels with no predicted samples. Use `zero_division` parameter to control this behavior.\n",
      "  _warn_prf(average, modifier, msg_start, len(result))\n"
     ]
    }
   ],
   "source": [
    "from sklearn.metrics import classification_report, confusion_matrix\n",
    "CM2 = confusion_matrix(y_val, y_pred)\n",
    "print(confusion_matrix(y_val, y_pred))\n",
    "print(classification_report(y_val, y_pred))"
   ]
  },
  {
   "cell_type": "code",
   "execution_count": 167,
   "metadata": {},
   "outputs": [
    {
     "name": "stdout",
     "output_type": "stream",
     "text": [
      "0.413716814159292\n",
      "0.10402972277793655\n"
     ]
    }
   ],
   "source": [
    "TN1 = CM2[0][0]\n",
    "FN1 = CM2[1][0]\n",
    "TP1 = CM2[1][1]\n",
    "FP1 = CM2[0][1]\n",
    "\n",
    "FNR1 = FN/(TP+FN)\n",
    "FPR1 = FP/(FP+TN)\n",
    "print(FNR1)\n",
    "print(FPR1)"
   ]
  },
  {
   "cell_type": "code",
   "execution_count": 169,
   "metadata": {},
   "outputs": [
    {
     "name": "stderr",
     "output_type": "stream",
     "text": [
      "/Users/vishali/opt/anaconda3/lib/python3.8/site-packages/sklearn/metrics/_ranking.py:811: UndefinedMetricWarning: No positive samples in y_true, true positive value should be meaningless\n",
      "  warnings.warn(\"No positive samples in y_true, \"\n"
     ]
    },
    {
     "data": {
      "text/plain": [
       "nan"
      ]
     },
     "execution_count": 169,
     "metadata": {},
     "output_type": "execute_result"
    }
   ],
   "source": [
    "from sklearn.metrics import roc_curve\n",
    "from sklearn.metrics import auc\n",
    "\n",
    "# Compute fpr, tpr, thresholds and roc auc\n",
    "fpr, tpr, thresholds = roc_curve(y_pred, y_val)\n",
    "roc_auc = auc(fpr, tpr)\n",
    "roc_auc"
   ]
  },
  {
   "cell_type": "code",
   "execution_count": 170,
   "metadata": {},
   "outputs": [
    {
     "data": {
      "text/html": [
       "<div>\n",
       "<style scoped>\n",
       "    .dataframe tbody tr th:only-of-type {\n",
       "        vertical-align: middle;\n",
       "    }\n",
       "\n",
       "    .dataframe tbody tr th {\n",
       "        vertical-align: top;\n",
       "    }\n",
       "\n",
       "    .dataframe thead th {\n",
       "        text-align: right;\n",
       "    }\n",
       "</style>\n",
       "<table border=\"1\" class=\"dataframe\">\n",
       "  <thead>\n",
       "    <tr style=\"text-align: right;\">\n",
       "      <th></th>\n",
       "      <th>Unnamed: 0</th>\n",
       "      <th>X</th>\n",
       "      <th>v467c</th>\n",
       "      <th>hv204</th>\n",
       "      <th>hv206</th>\n",
       "      <th>hv207</th>\n",
       "      <th>hv208</th>\n",
       "      <th>hv209</th>\n",
       "      <th>hv210</th>\n",
       "      <th>hv211</th>\n",
       "      <th>...</th>\n",
       "      <th>PET_2015</th>\n",
       "      <th>Proximity_to_National_Borders</th>\n",
       "      <th>Proximity_to_Protected_Areas</th>\n",
       "      <th>Proximity_to_Water</th>\n",
       "      <th>Rainfall_2015</th>\n",
       "      <th>Travel_Times_2015</th>\n",
       "      <th>UN_Population_Density_2015</th>\n",
       "      <th>Wet_Days_2015</th>\n",
       "      <th>smoke</th>\n",
       "      <th>washhands</th>\n",
       "    </tr>\n",
       "  </thead>\n",
       "  <tbody>\n",
       "    <tr>\n",
       "      <th>count</th>\n",
       "      <td>44988.000000</td>\n",
       "      <td>44988.000000</td>\n",
       "      <td>44988.000000</td>\n",
       "      <td>44988.000000</td>\n",
       "      <td>44988.000000</td>\n",
       "      <td>44988.000000</td>\n",
       "      <td>44988.000000</td>\n",
       "      <td>44988.000000</td>\n",
       "      <td>44988.000000</td>\n",
       "      <td>44988.000000</td>\n",
       "      <td>...</td>\n",
       "      <td>44988.000000</td>\n",
       "      <td>44988.000000</td>\n",
       "      <td>44988.000000</td>\n",
       "      <td>44988.000000</td>\n",
       "      <td>44988.000000</td>\n",
       "      <td>44988.000000</td>\n",
       "      <td>44988.000000</td>\n",
       "      <td>44988.000000</td>\n",
       "      <td>44988.000000</td>\n",
       "      <td>44988.000000</td>\n",
       "    </tr>\n",
       "    <tr>\n",
       "      <th>mean</th>\n",
       "      <td>22494.500000</td>\n",
       "      <td>22494.500000</td>\n",
       "      <td>0.517783</td>\n",
       "      <td>162.658620</td>\n",
       "      <td>0.268516</td>\n",
       "      <td>0.580799</td>\n",
       "      <td>0.151396</td>\n",
       "      <td>0.029341</td>\n",
       "      <td>0.168556</td>\n",
       "      <td>0.022384</td>\n",
       "      <td>...</td>\n",
       "      <td>2.857777</td>\n",
       "      <td>23680.332020</td>\n",
       "      <td>29972.461377</td>\n",
       "      <td>23374.102287</td>\n",
       "      <td>1078.388691</td>\n",
       "      <td>37.404914</td>\n",
       "      <td>1127.388953</td>\n",
       "      <td>16.212796</td>\n",
       "      <td>0.819685</td>\n",
       "      <td>0.128123</td>\n",
       "    </tr>\n",
       "    <tr>\n",
       "      <th>std</th>\n",
       "      <td>12987.061292</td>\n",
       "      <td>12987.061292</td>\n",
       "      <td>0.499689</td>\n",
       "      <td>327.793449</td>\n",
       "      <td>0.443192</td>\n",
       "      <td>0.493434</td>\n",
       "      <td>0.358438</td>\n",
       "      <td>0.168763</td>\n",
       "      <td>0.374363</td>\n",
       "      <td>0.147930</td>\n",
       "      <td>...</td>\n",
       "      <td>0.183175</td>\n",
       "      <td>14561.540236</td>\n",
       "      <td>19104.858188</td>\n",
       "      <td>13770.484973</td>\n",
       "      <td>216.128756</td>\n",
       "      <td>28.398749</td>\n",
       "      <td>1759.374216</td>\n",
       "      <td>0.619992</td>\n",
       "      <td>0.384454</td>\n",
       "      <td>0.334230</td>\n",
       "    </tr>\n",
       "    <tr>\n",
       "      <th>min</th>\n",
       "      <td>1.000000</td>\n",
       "      <td>1.000000</td>\n",
       "      <td>0.000000</td>\n",
       "      <td>1.000000</td>\n",
       "      <td>0.000000</td>\n",
       "      <td>0.000000</td>\n",
       "      <td>0.000000</td>\n",
       "      <td>0.000000</td>\n",
       "      <td>0.000000</td>\n",
       "      <td>0.000000</td>\n",
       "      <td>...</td>\n",
       "      <td>2.450000</td>\n",
       "      <td>225.643966</td>\n",
       "      <td>0.000000</td>\n",
       "      <td>0.000000</td>\n",
       "      <td>740.600000</td>\n",
       "      <td>0.000000</td>\n",
       "      <td>145.523895</td>\n",
       "      <td>15.180833</td>\n",
       "      <td>0.000000</td>\n",
       "      <td>0.000000</td>\n",
       "    </tr>\n",
       "    <tr>\n",
       "      <th>25%</th>\n",
       "      <td>11247.750000</td>\n",
       "      <td>11247.750000</td>\n",
       "      <td>0.000000</td>\n",
       "      <td>15.000000</td>\n",
       "      <td>0.000000</td>\n",
       "      <td>0.000000</td>\n",
       "      <td>0.000000</td>\n",
       "      <td>0.000000</td>\n",
       "      <td>0.000000</td>\n",
       "      <td>0.000000</td>\n",
       "      <td>...</td>\n",
       "      <td>2.691667</td>\n",
       "      <td>10862.760050</td>\n",
       "      <td>13068.324810</td>\n",
       "      <td>12557.675680</td>\n",
       "      <td>875.200000</td>\n",
       "      <td>15.357143</td>\n",
       "      <td>458.852473</td>\n",
       "      <td>15.849167</td>\n",
       "      <td>1.000000</td>\n",
       "      <td>0.000000</td>\n",
       "    </tr>\n",
       "    <tr>\n",
       "      <th>50%</th>\n",
       "      <td>22494.500000</td>\n",
       "      <td>22494.500000</td>\n",
       "      <td>1.000000</td>\n",
       "      <td>30.000000</td>\n",
       "      <td>0.000000</td>\n",
       "      <td>1.000000</td>\n",
       "      <td>0.000000</td>\n",
       "      <td>0.000000</td>\n",
       "      <td>0.000000</td>\n",
       "      <td>0.000000</td>\n",
       "      <td>...</td>\n",
       "      <td>2.891667</td>\n",
       "      <td>22674.780890</td>\n",
       "      <td>28938.692330</td>\n",
       "      <td>23393.676430</td>\n",
       "      <td>1051.400000</td>\n",
       "      <td>34.498630</td>\n",
       "      <td>553.622628</td>\n",
       "      <td>16.532499</td>\n",
       "      <td>1.000000</td>\n",
       "      <td>0.000000</td>\n",
       "    </tr>\n",
       "    <tr>\n",
       "      <th>75%</th>\n",
       "      <td>33741.250000</td>\n",
       "      <td>33741.250000</td>\n",
       "      <td>1.000000</td>\n",
       "      <td>60.000000</td>\n",
       "      <td>1.000000</td>\n",
       "      <td>1.000000</td>\n",
       "      <td>0.000000</td>\n",
       "      <td>0.000000</td>\n",
       "      <td>0.000000</td>\n",
       "      <td>0.000000</td>\n",
       "      <td>...</td>\n",
       "      <td>3.000000</td>\n",
       "      <td>37382.571370</td>\n",
       "      <td>46502.618000</td>\n",
       "      <td>32385.721920</td>\n",
       "      <td>1237.416667</td>\n",
       "      <td>53.297521</td>\n",
       "      <td>748.146228</td>\n",
       "      <td>16.561666</td>\n",
       "      <td>1.000000</td>\n",
       "      <td>0.000000</td>\n",
       "    </tr>\n",
       "    <tr>\n",
       "      <th>max</th>\n",
       "      <td>44988.000000</td>\n",
       "      <td>44988.000000</td>\n",
       "      <td>1.000000</td>\n",
       "      <td>998.000000</td>\n",
       "      <td>1.000000</td>\n",
       "      <td>1.000000</td>\n",
       "      <td>1.000000</td>\n",
       "      <td>1.000000</td>\n",
       "      <td>1.000000</td>\n",
       "      <td>1.000000</td>\n",
       "      <td>...</td>\n",
       "      <td>3.166667</td>\n",
       "      <td>55444.901540</td>\n",
       "      <td>71428.815020</td>\n",
       "      <td>65493.432620</td>\n",
       "      <td>1621.000000</td>\n",
       "      <td>175.811475</td>\n",
       "      <td>10562.064580</td>\n",
       "      <td>17.305834</td>\n",
       "      <td>1.000000</td>\n",
       "      <td>1.000000</td>\n",
       "    </tr>\n",
       "  </tbody>\n",
       "</table>\n",
       "<p>8 rows × 39 columns</p>\n",
       "</div>"
      ],
      "text/plain": [
       "         Unnamed: 0             X         v467c         hv204         hv206  \\\n",
       "count  44988.000000  44988.000000  44988.000000  44988.000000  44988.000000   \n",
       "mean   22494.500000  22494.500000      0.517783    162.658620      0.268516   \n",
       "std    12987.061292  12987.061292      0.499689    327.793449      0.443192   \n",
       "min        1.000000      1.000000      0.000000      1.000000      0.000000   \n",
       "25%    11247.750000  11247.750000      0.000000     15.000000      0.000000   \n",
       "50%    22494.500000  22494.500000      1.000000     30.000000      0.000000   \n",
       "75%    33741.250000  33741.250000      1.000000     60.000000      1.000000   \n",
       "max    44988.000000  44988.000000      1.000000    998.000000      1.000000   \n",
       "\n",
       "              hv207         hv208         hv209         hv210         hv211  \\\n",
       "count  44988.000000  44988.000000  44988.000000  44988.000000  44988.000000   \n",
       "mean       0.580799      0.151396      0.029341      0.168556      0.022384   \n",
       "std        0.493434      0.358438      0.168763      0.374363      0.147930   \n",
       "min        0.000000      0.000000      0.000000      0.000000      0.000000   \n",
       "25%        0.000000      0.000000      0.000000      0.000000      0.000000   \n",
       "50%        1.000000      0.000000      0.000000      0.000000      0.000000   \n",
       "75%        1.000000      0.000000      0.000000      0.000000      0.000000   \n",
       "max        1.000000      1.000000      1.000000      1.000000      1.000000   \n",
       "\n",
       "       ...      PET_2015  Proximity_to_National_Borders  \\\n",
       "count  ...  44988.000000                   44988.000000   \n",
       "mean   ...      2.857777                   23680.332020   \n",
       "std    ...      0.183175                   14561.540236   \n",
       "min    ...      2.450000                     225.643966   \n",
       "25%    ...      2.691667                   10862.760050   \n",
       "50%    ...      2.891667                   22674.780890   \n",
       "75%    ...      3.000000                   37382.571370   \n",
       "max    ...      3.166667                   55444.901540   \n",
       "\n",
       "       Proximity_to_Protected_Areas  Proximity_to_Water  Rainfall_2015  \\\n",
       "count                  44988.000000        44988.000000   44988.000000   \n",
       "mean                   29972.461377        23374.102287    1078.388691   \n",
       "std                    19104.858188        13770.484973     216.128756   \n",
       "min                        0.000000            0.000000     740.600000   \n",
       "25%                    13068.324810        12557.675680     875.200000   \n",
       "50%                    28938.692330        23393.676430    1051.400000   \n",
       "75%                    46502.618000        32385.721920    1237.416667   \n",
       "max                    71428.815020        65493.432620    1621.000000   \n",
       "\n",
       "       Travel_Times_2015  UN_Population_Density_2015  Wet_Days_2015  \\\n",
       "count       44988.000000                44988.000000   44988.000000   \n",
       "mean           37.404914                 1127.388953      16.212796   \n",
       "std            28.398749                 1759.374216       0.619992   \n",
       "min             0.000000                  145.523895      15.180833   \n",
       "25%            15.357143                  458.852473      15.849167   \n",
       "50%            34.498630                  553.622628      16.532499   \n",
       "75%            53.297521                  748.146228      16.561666   \n",
       "max           175.811475                10562.064580      17.305834   \n",
       "\n",
       "              smoke     washhands  \n",
       "count  44988.000000  44988.000000  \n",
       "mean       0.819685      0.128123  \n",
       "std        0.384454      0.334230  \n",
       "min        0.000000      0.000000  \n",
       "25%        1.000000      0.000000  \n",
       "50%        1.000000      0.000000  \n",
       "75%        1.000000      0.000000  \n",
       "max        1.000000      1.000000  \n",
       "\n",
       "[8 rows x 39 columns]"
      ]
     },
     "execution_count": 170,
     "metadata": {},
     "output_type": "execute_result"
    }
   ],
   "source": [
    "# General Health\n",
    "def load_data(data_path = \"/Users/vishali/Desktop/SPRING 2021/project-ml\"):\n",
    "    csv_path = os.path.join(data_path, \"gh_imputed.csv\")\n",
    "    return pd.read_csv(csv_path, low_memory = False)\n",
    "gh = load_data()\n",
    "gh.describe()"
   ]
  },
  {
   "cell_type": "code",
   "execution_count": 171,
   "metadata": {},
   "outputs": [],
   "source": [
    "del gh['X']\n",
    "X = gh.drop('v467c', axis=1)\n",
    "y = gh['v467c']"
   ]
  },
  {
   "cell_type": "code",
   "execution_count": 172,
   "metadata": {},
   "outputs": [],
   "source": [
    "from sklearn.model_selection import train_test_split\n",
    "X_train, X_test, y_train, y_test = train_test_split(X, y, test_size=0.2, random_state=1)\n",
    "\n",
    "X_train, X_val, y_train, y_val = train_test_split(X_train, y_train, test_size=0.25, random_state=1) "
   ]
  },
  {
   "cell_type": "code",
   "execution_count": 175,
   "metadata": {},
   "outputs": [
    {
     "data": {
      "text/plain": [
       "DecisionTreeClassifier()"
      ]
     },
     "execution_count": 175,
     "metadata": {},
     "output_type": "execute_result"
    }
   ],
   "source": [
    "from sklearn.tree import DecisionTreeClassifier\n",
    "classifier = DecisionTreeClassifier()\n",
    "classifier.fit(X_train, y_train)"
   ]
  },
  {
   "cell_type": "code",
   "execution_count": 177,
   "metadata": {},
   "outputs": [],
   "source": [
    "y_pred = classifier.predict(X_test)"
   ]
  },
  {
   "cell_type": "code",
   "execution_count": 178,
   "metadata": {},
   "outputs": [
    {
     "name": "stdout",
     "output_type": "stream",
     "text": [
      "[[3510  863]\n",
      " [ 831 3794]]\n",
      "              precision    recall  f1-score   support\n",
      "\n",
      "           0       0.81      0.80      0.81      4373\n",
      "           1       0.81      0.82      0.82      4625\n",
      "\n",
      "    accuracy                           0.81      8998\n",
      "   macro avg       0.81      0.81      0.81      8998\n",
      "weighted avg       0.81      0.81      0.81      8998\n",
      "\n"
     ]
    }
   ],
   "source": [
    "from sklearn.metrics import classification_report, confusion_matrix\n",
    "CM = confusion_matrix(y_test, y_pred)\n",
    "print(confusion_matrix(y_test, y_pred))\n",
    "print(classification_report(y_test, y_pred))"
   ]
  },
  {
   "cell_type": "code",
   "execution_count": 179,
   "metadata": {},
   "outputs": [
    {
     "name": "stdout",
     "output_type": "stream",
     "text": [
      "0.1796756756756757\n",
      "0.1973473587925909\n"
     ]
    }
   ],
   "source": [
    "TN = CM[0][0]\n",
    "FN = CM[1][0]\n",
    "TP = CM[1][1]\n",
    "FP = CM[0][1]\n",
    "\n",
    "FNR = FN/(TP+FN)\n",
    "FPR = FP/(FP+TN)\n",
    "print(FNR)\n",
    "print(FPR)"
   ]
  },
  {
   "cell_type": "code",
   "execution_count": 180,
   "metadata": {},
   "outputs": [
    {
     "data": {
      "text/plain": [
       "0.8116285105730663"
      ]
     },
     "execution_count": 180,
     "metadata": {},
     "output_type": "execute_result"
    }
   ],
   "source": [
    "from sklearn.metrics import roc_curve\n",
    "from sklearn.metrics import auc\n",
    "\n",
    "# Compute fpr, tpr, thresholds and roc auc\n",
    "fpr, tpr, thresholds = roc_curve(y_pred, y_test)\n",
    "roc_auc = auc(fpr, tpr)\n",
    "roc_auc"
   ]
  },
  {
   "cell_type": "code",
   "execution_count": 181,
   "metadata": {},
   "outputs": [],
   "source": [
    "from sklearn import tree\n",
    "from sklearn.model_selection import GridSearchCV\n",
    "import random\n",
    "from random import randint"
   ]
  },
  {
   "cell_type": "code",
   "execution_count": 182,
   "metadata": {},
   "outputs": [
    {
     "name": "stdout",
     "output_type": "stream",
     "text": [
      "0.6285882604962069 {'max_depth': 3}\n"
     ]
    }
   ],
   "source": [
    "parameters = {\"max_depth\": range(1, 10)}\n",
    "clf = GridSearchCV(tree.DecisionTreeClassifier(), parameters, n_jobs=4, cv= 5)\n",
    "clf.fit(X=X, y=y)\n",
    "tree_model = clf.best_estimator_\n",
    "print (clf.best_score_, clf.best_params_) "
   ]
  },
  {
   "cell_type": "code",
   "execution_count": 183,
   "metadata": {},
   "outputs": [
    {
     "data": {
      "text/plain": [
       "DecisionTreeClassifier(max_depth=3)"
      ]
     },
     "execution_count": 183,
     "metadata": {},
     "output_type": "execute_result"
    }
   ],
   "source": [
    "from sklearn.tree import DecisionTreeClassifier\n",
    "classifier4 = DecisionTreeClassifier(max_depth = 3)\n",
    "classifier4.fit(X_train, y_train)"
   ]
  },
  {
   "cell_type": "code",
   "execution_count": 184,
   "metadata": {},
   "outputs": [],
   "source": [
    "y_predA = classifier4.predict(X_val)"
   ]
  },
  {
   "cell_type": "code",
   "execution_count": 185,
   "metadata": {},
   "outputs": [
    {
     "name": "stdout",
     "output_type": "stream",
     "text": [
      "[[3030 1325]\n",
      " [1695 2948]]\n",
      "              precision    recall  f1-score   support\n",
      "\n",
      "           0       0.47      0.47      0.47      4355\n",
      "           1       0.51      0.51      0.51      4643\n",
      "\n",
      "    accuracy                           0.49      8998\n",
      "   macro avg       0.49      0.49      0.49      8998\n",
      "weighted avg       0.49      0.49      0.49      8998\n",
      "\n"
     ]
    }
   ],
   "source": [
    "from sklearn.metrics import classification_report, confusion_matrix\n",
    "CM2 = confusion_matrix(y_val, y_predA)\n",
    "print(confusion_matrix(y_val, y_predA))\n",
    "print(classification_report(y_val, y_pred))"
   ]
  },
  {
   "cell_type": "code",
   "execution_count": 186,
   "metadata": {},
   "outputs": [
    {
     "name": "stdout",
     "output_type": "stream",
     "text": [
      "0.1796756756756757\n",
      "0.1973473587925909\n"
     ]
    }
   ],
   "source": [
    "TN1 = CM2[0][0]\n",
    "FN1 = CM2[1][0]\n",
    "TP1 = CM2[1][1]\n",
    "FP1 = CM2[0][1]\n",
    "\n",
    "FNR1 = FN/(TP+FN)\n",
    "FPR1 = FP/(FP+TN)\n",
    "print(FNR1)\n",
    "print(FPR1)"
   ]
  },
  {
   "cell_type": "code",
   "execution_count": 187,
   "metadata": {},
   "outputs": [
    {
     "data": {
      "text/plain": [
       "0.6655916255260976"
      ]
     },
     "execution_count": 187,
     "metadata": {},
     "output_type": "execute_result"
    }
   ],
   "source": [
    "from sklearn.metrics import roc_curve\n",
    "from sklearn.metrics import auc\n",
    "\n",
    "# Compute fpr, tpr, thresholds and roc auc\n",
    "fpr, tpr, thresholds = roc_curve(y_predA, y_val)\n",
    "roc_auc = auc(fpr, tpr)\n",
    "roc_auc"
   ]
  },
  {
   "cell_type": "code",
   "execution_count": null,
   "metadata": {},
   "outputs": [],
   "source": []
  }
 ],
 "metadata": {
  "kernelspec": {
   "display_name": "Python 3",
   "language": "python",
   "name": "python3"
  },
  "language_info": {
   "codemirror_mode": {
    "name": "ipython",
    "version": 3
   },
   "file_extension": ".py",
   "mimetype": "text/x-python",
   "name": "python",
   "nbconvert_exporter": "python",
   "pygments_lexer": "ipython3",
   "version": "3.8.3"
  }
 },
 "nbformat": 4,
 "nbformat_minor": 4
}
