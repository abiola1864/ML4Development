{
 "cells": [
  {
   "cell_type": "code",
   "execution_count": 1,
   "metadata": {},
   "outputs": [],
   "source": [
    "import sys\n",
    "assert sys.version_info >= (3, 5)\n",
    "\n",
    "# Scikit-Learn ≥0.20 is required\n",
    "import sklearn\n",
    "assert sklearn.__version__ >= \"0.20\"\n",
    "\n",
    "# Common imports\n",
    "import numpy as np\n",
    "import os\n",
    "\n",
    "# to make this notebook's output stable across runs\n",
    "np.random.seed(42)"
   ]
  },
  {
   "cell_type": "code",
   "execution_count": 2,
   "metadata": {},
   "outputs": [],
   "source": [
    "import pandas as pd\n",
    "class StringConverter(dict):\n",
    "\n",
    "    def __contains__(self, item):\n",
    "\n",
    "        return True\n",
    "\n",
    "    def __getitem__(self, item):\n",
    "\n",
    "        return str\n",
    "\n",
    "    def get(self, default=None):\n",
    "\n",
    "        return str\n",
    "\n",
    "def load_data(data_path = \"/Users/vishali/Desktop/SPRING 2021/project-ml\"):\n",
    "    csv_path = os.path.join(data_path, \"topcleandata.csv\")\n",
    "    return pd.read_csv(csv_path, low_memory = False)"
   ]
  },
  {
   "cell_type": "code",
   "execution_count": 4,
   "metadata": {},
   "outputs": [],
   "source": [
    "new = load_data()"
   ]
  },
  {
   "cell_type": "code",
   "execution_count": 5,
   "metadata": {},
   "outputs": [],
   "source": [
    "new = new.dropna(subset=['ha57'])"
   ]
  },
  {
   "cell_type": "code",
   "execution_count": 6,
   "metadata": {},
   "outputs": [],
   "source": [
    "new['ha57'] = pd.Categorical(new.ha57)\n",
    "y = new['ha57']\n",
    "X = new.drop(['ha57', 'hc11','DHSCC', 'DHSCLUST'], axis = 1)\n",
    "from sklearn.model_selection import train_test_split\n",
    "X_train, X_test, y_train, y_test = train_test_split(X, y, test_size=0.2, random_state=1)\n",
    "X_train, X_val, y_train, y_val = train_test_split(X_train, y_train, test_size=0.25, random_state=1)"
   ]
  },
  {
   "cell_type": "code",
   "execution_count": 12,
   "metadata": {},
   "outputs": [],
   "source": [
    "import pandas as pd\n",
    "import numpy as np\n",
    "import matplotlib.pyplot as plt\n",
    "from sklearn.ensemble import ExtraTreesClassifier\n",
    "from sklearn.feature_selection import SelectFromModel\n",
    "from sklearn.metrics import accuracy_score\n",
    "from sklearn.metrics import classification_report, confusion_matrix"
   ]
  },
  {
   "cell_type": "code",
   "execution_count": 9,
   "metadata": {},
   "outputs": [
    {
     "name": "stdout",
     "output_type": "stream",
     "text": [
      "[0.02716129 0.0701349  0.03063945 0.00792304 0.03392081 0.00708026\n",
      " 0.00187802 0.02589834 0.01026254 0.00151873 0.01537945 0.02044931\n",
      " 0.02278226 0.0545124  0.00046202 0.02023646 0.01528682 0.02730013\n",
      " 0.02743102 0.02649963 0.0279871  0.03021893 0.05285952 0.01296001\n",
      " 0.01042349 0.01229775 0.01258366 0.01646355 0.01104051 0.01389834\n",
      " 0.00040669 0.01330112 0.01185519 0.01363259 0.00999837 0.01413158\n",
      " 0.02363744 0.01994041 0.01830991 0.01896707 0.01913734 0.02012039\n",
      " 0.01214419 0.02090373 0.01515657 0.01406065 0.0141016  0.00750109\n",
      " 0.01676262 0.01229435 0.01286348 0.01387604 0.01232179 0.01708604]\n"
     ]
    },
    {
     "data": {
      "text/plain": [
       "<matplotlib.axes._subplots.AxesSubplot at 0x7fbf4063ad00>"
      ]
     },
     "execution_count": 9,
     "metadata": {},
     "output_type": "execute_result"
    },
    {
     "data": {
      "image/png": "[encoded data removed]",
      "text/plain": [
       "<Figure size 432x288 with 1 Axes>"
      ]
     },
     "metadata": {
      "needs_background": "light"
     },
     "output_type": "display_data"
    }
   ],
   "source": [
    "# plot for Feature Importance\n",
    "model = ExtraTreesClassifier()\n",
    "model.fit(X,y)\n",
    "print(model.feature_importances_) #use inbuilt class feature_importances of tree based classifiers\n",
    "#plot graph of feature importances for better visualization\n",
    "feat_importances = pd.Series(model.feature_importances_, index=X.columns)\n",
    "feat_importances.nlargest(25).plot(kind='barh')"
   ]
  },
  {
   "cell_type": "code",
   "execution_count": 10,
   "metadata": {},
   "outputs": [],
   "source": [
    "# feature selection\n",
    "def select_features(X_train, y_train, X_test):\n",
    "\t# configure to select a subset of features\n",
    "\tfs = SelectFromModel(ExtraTreesClassifier(n_estimators=200), max_features=20)\n",
    "\t# learn relationship from training data\n",
    "\tfs.fit(X_train, y_train)\n",
    "\t# transform train input data\n",
    "\tX_train_fs = fs.transform(X_train)\n",
    "\t# transform test input data\n",
    "\tX_test_fs = fs.transform(X_test)\n",
    "\treturn X_train_fs, X_test_fs, fs\n",
    "\n",
    "# feature selection\n",
    "X_train_fs, X_test_fs, fs = select_features(X_train, y_train, X_test)"
   ]
  },
  {
   "cell_type": "code",
   "execution_count": 14,
   "metadata": {},
   "outputs": [],
   "source": [
    "# normal logistic with all data\n",
    "from sklearn.linear_model import LogisticRegression\n",
    "lr = LogisticRegression( solver = 'liblinear', random_state = 42)\n",
    "lr.fit(X_train,y_train)\n",
    "y_pred_LR = lr.predict(X_test)\n"
   ]
  },
  {
   "cell_type": "code",
   "execution_count": 16,
   "metadata": {},
   "outputs": [
    {
     "name": "stdout",
     "output_type": "stream",
     "text": [
      "[[1585   99]\n",
      " [ 776  109]]\n",
      "0.8768361581920904\n",
      "Accuracy: 65.94\n"
     ]
    }
   ],
   "source": [
    "CM = confusion_matrix(y_test, y_pred_LR)\n",
    "print(confusion_matrix(y_test, y_pred_LR))\n",
    "TN = CM[0][0]\n",
    "FN = CM[1][0]\n",
    "TP = CM[1][1]\n",
    "FP = CM[0][1]\n",
    "FNR = FN / (TP + FN)\n",
    "print(FNR)\n",
    "accuracy = accuracy_score(y_test, y_pred_LR)\n",
    "print('Accuracy: %.2f' % (accuracy*100))"
   ]
  },
  {
   "cell_type": "code",
   "execution_count": 18,
   "metadata": {},
   "outputs": [
    {
     "name": "stdout",
     "output_type": "stream",
     "text": [
      "[[1435  249]\n",
      " [ 604  281]]\n",
      "0.6824858757062147\n",
      "Accuracy: 66.80\n"
     ]
    }
   ],
   "source": [
    "# model with FS\n",
    "# fit the model\n",
    "model = LogisticRegression(solver='liblinear')\n",
    "model.fit(X_train_fs, y_train)\n",
    "# evaluate the model\n",
    "yhat = model.predict(X_test_fs)\n",
    "# evaluate predictions\n",
    "CM = confusion_matrix(y_test, yhat)\n",
    "print(confusion_matrix(y_test, yhat))\n",
    "TN = CM[0][0]\n",
    "FN = CM[1][0]\n",
    "TP = CM[1][1]\n",
    "FP = CM[0][1]\n",
    "FNR = FN / (TP + FN)\n",
    "print(FNR)\n",
    "accuracy = accuracy_score(y_test, yhat)\n",
    "print('Accuracy: %.2f' % (accuracy*100))"
   ]
  },
  {
   "cell_type": "code",
   "execution_count": 20,
   "metadata": {},
   "outputs": [],
   "source": [
    "# grid search CV\n",
    "# define models and parameters\n",
    "from sklearn.model_selection import RepeatedStratifiedKFold\n",
    "from sklearn.model_selection import GridSearchCV\n",
    "model = LogisticRegression()\n",
    "solvers = ['liblinear']\n",
    "penalty = ['l2']\n",
    "c_values = [100, 10, 1.0, 0.1, 0.01]\n",
    "# define grid search\n",
    "grid = dict(solver=solvers,penalty=penalty,C=c_values)\n",
    "cv = RepeatedStratifiedKFold(n_splits=10, n_repeats=3, random_state=1)\n",
    "grid_search = GridSearchCV(estimator=model, param_grid=grid, n_jobs=1, cv=cv, scoring='recall',error_score=0)\n",
    "grid_result = grid_search.fit(X, y)"
   ]
  },
  {
   "cell_type": "code",
   "execution_count": 21,
   "metadata": {},
   "outputs": [
    {
     "name": "stdout",
     "output_type": "stream",
     "text": [
      "Best: 0.158154 using {'C': 10, 'penalty': 'l2', 'solver': 'liblinear'}\n",
      "0.155340 (0.027330) with: {'C': 100, 'penalty': 'l2', 'solver': 'liblinear'}\n",
      "0.158154 (0.029733) with: {'C': 10, 'penalty': 'l2', 'solver': 'liblinear'}\n",
      "0.152005 (0.020080) with: {'C': 1.0, 'penalty': 'l2', 'solver': 'liblinear'}\n",
      "0.158073 (0.029830) with: {'C': 0.1, 'penalty': 'l2', 'solver': 'liblinear'}\n",
      "0.157114 (0.025303) with: {'C': 0.01, 'penalty': 'l2', 'solver': 'liblinear'}\n"
     ]
    }
   ],
   "source": [
    "print(\"Best: %f using %s\" % (grid_result.best_score_, grid_result.best_params_))\n",
    "means = grid_result.cv_results_['mean_test_score']\n",
    "stds = grid_result.cv_results_['std_test_score']\n",
    "params = grid_result.cv_results_['params']\n",
    "for mean, stdev, param in zip(means, stds, params):\n",
    "    print(\"%f (%f) with: %r\" % (mean, stdev, param))"
   ]
  },
  {
   "cell_type": "code",
   "execution_count": 23,
   "metadata": {},
   "outputs": [],
   "source": [
    "# best c is 10. \n",
    "from sklearn.linear_model import LogisticRegression\n",
    "lr_2 = LogisticRegression(C = 10, solver = 'liblinear', random_state = 42)\n",
    "lr_2.fit(X_train,y_train)\n",
    "y_pred_val = lr_2.predict(X_val)"
   ]
  },
  {
   "cell_type": "code",
   "execution_count": 25,
   "metadata": {},
   "outputs": [
    {
     "name": "stdout",
     "output_type": "stream",
     "text": [
      "[[1559   92]\n",
      " [ 820   97]]\n",
      "0.8942202835332607\n",
      "Accuracy: 64.49\n"
     ]
    }
   ],
   "source": [
    "CM = confusion_matrix(y_val, y_pred_val)\n",
    "print(confusion_matrix(y_val, y_pred_val))\n",
    "TN = CM[0][0]\n",
    "FN = CM[1][0]\n",
    "TP = CM[1][1]\n",
    "FP = CM[0][1]\n",
    "FNR = FN / (TP + FN)\n",
    "print(FNR)\n",
    "accuracy = accuracy_score(y_val, y_pred_val)\n",
    "print('Accuracy: %.2f' % (accuracy*100))"
   ]
  },
  {
   "cell_type": "code",
   "execution_count": 26,
   "metadata": {},
   "outputs": [],
   "source": [
    "from sklearn.linear_model import LogisticRegression\n",
    "lr_2 = LogisticRegression(C = 10, solver = 'liblinear', random_state = 42)\n",
    "lr_2.fit(X_train_fs,y_train)\n",
    "y_pred_val_fs = lr_2.predict(X_test_fs)"
   ]
  },
  {
   "cell_type": "code",
   "execution_count": 27,
   "metadata": {},
   "outputs": [
    {
     "name": "stdout",
     "output_type": "stream",
     "text": [
      "[[1436  248]\n",
      " [ 602  283]]\n",
      "0.6802259887005649\n",
      "Accuracy: 66.91\n"
     ]
    }
   ],
   "source": [
    "CM = confusion_matrix(y_test, y_pred_val_fs)\n",
    "print(confusion_matrix(y_test, y_pred_val_fs))\n",
    "TN = CM[0][0]\n",
    "FN = CM[1][0]\n",
    "TP = CM[1][1]\n",
    "FP = CM[0][1]\n",
    "FNR = FN / (TP + FN)\n",
    "print(FNR)\n",
    "accuracy = accuracy_score(y_test, y_pred_val_fs)\n",
    "print('Accuracy: %.2f' % (accuracy*100))"
   ]
  },
  {
   "cell_type": "code",
   "execution_count": 28,
   "metadata": {},
   "outputs": [
    {
     "data": {
      "text/plain": [
       "DecisionTreeClassifier(random_state=42)"
      ]
     },
     "execution_count": 28,
     "metadata": {},
     "output_type": "execute_result"
    }
   ],
   "source": [
    "# Decision Trees\n",
    "from sklearn.tree import DecisionTreeClassifier\n",
    "classifier = DecisionTreeClassifier(random_state = 42)\n",
    "classifier.fit(X_train, y_train)"
   ]
  },
  {
   "cell_type": "code",
   "execution_count": 29,
   "metadata": {},
   "outputs": [],
   "source": [
    "y_pred_DT = classifier.predict(X_test)"
   ]
  },
  {
   "cell_type": "code",
   "execution_count": 30,
   "metadata": {},
   "outputs": [
    {
     "name": "stdout",
     "output_type": "stream",
     "text": [
      "[[1192  492]\n",
      " [ 492  393]]\n",
      "0.5559322033898305\n",
      "Accuracy: 61.70\n"
     ]
    }
   ],
   "source": [
    "CM = confusion_matrix(y_test, y_pred_DT)\n",
    "print(confusion_matrix(y_test, y_pred_DT))\n",
    "TN = CM[0][0]\n",
    "FN = CM[1][0]\n",
    "TP = CM[1][1]\n",
    "FP = CM[0][1]\n",
    "FNR = FN / (TP + FN)\n",
    "print(FNR)\n",
    "accuracy = accuracy_score(y_test, y_pred_DT)\n",
    "print('Accuracy: %.2f' % (accuracy*100))"
   ]
  },
  {
   "cell_type": "code",
   "execution_count": 31,
   "metadata": {},
   "outputs": [],
   "source": [
    "classifier_fs = DecisionTreeClassifier(random_state = 42)\n",
    "classifier_fs.fit(X_train_fs, y_train)\n",
    "y_pred_DT2 = classifier_fs.predict(X_test_fs)"
   ]
  },
  {
   "cell_type": "code",
   "execution_count": 32,
   "metadata": {},
   "outputs": [
    {
     "name": "stdout",
     "output_type": "stream",
     "text": [
      "[[1215  469]\n",
      " [ 513  372]]\n",
      "0.5796610169491525\n",
      "Accuracy: 61.78\n"
     ]
    }
   ],
   "source": [
    "CM = confusion_matrix(y_test, y_pred_DT2)\n",
    "print(confusion_matrix(y_test, y_pred_DT2))\n",
    "TN = CM[0][0]\n",
    "FN = CM[1][0]\n",
    "TP = CM[1][1]\n",
    "FP = CM[0][1]\n",
    "FNR = FN / (TP + FN)\n",
    "print(FNR)\n",
    "accuracy = accuracy_score(y_test, y_pred_DT2)\n",
    "print('Accuracy: %.2f' % (accuracy*100))"
   ]
  },
  {
   "cell_type": "code",
   "execution_count": null,
   "metadata": {},
   "outputs": [],
   "source": [
    "# Grid search for Decision Trees\n",
    "from sklearn import tree\n",
    "from sklearn.model_selection import GridSearchCV\n",
    "import random\n",
    "from random import randint\n",
    "max_depth_range = range(1,10)\n",
    "min_samples_leaf_range = range(1,10)\n",
    "parameters = {'criterion': ['gini'], 'max_depth': max_depth_range, 'min_samples_leaf': min_samples_leaf_range}\n",
    "clf = GridSearchCV(DecisionTreeClassifier(), parameters, n_jobs=4, cv= 5)\n",
    "clf.fit(X=X, y=y)\n",
    "tree_model = clf.best_estimator_\n",
    "print (clf.best_score_, clf.best_params_)"
   ]
  },
  {
   "cell_type": "code",
   "execution_count": 33,
   "metadata": {},
   "outputs": [],
   "source": [
    "from sklearn.tree import DecisionTreeClassifier\n",
    "classifier2 = DecisionTreeClassifier(max_depth = 2, min_samples_leaf = 1, random_state = 42)\n",
    "classifier2.fit(X_train, y_train)\n",
    "y_pred_val = classifier2.predict(X_val)"
   ]
  },
  {
   "cell_type": "code",
   "execution_count": 34,
   "metadata": {},
   "outputs": [
    {
     "name": "stdout",
     "output_type": "stream",
     "text": [
      "[[1184  467]\n",
      " [ 377  540]]\n",
      "0.411123227917121\n",
      "Accuracy: 67.13\n"
     ]
    }
   ],
   "source": [
    "CM = confusion_matrix(y_val, y_pred_val)\n",
    "print(confusion_matrix(y_val, y_pred_val))\n",
    "TN = CM[0][0]\n",
    "FN = CM[1][0]\n",
    "TP = CM[1][1]\n",
    "FP = CM[0][1]\n",
    "FNR = FN / (TP + FN)\n",
    "print(FNR)\n",
    "accuracy = accuracy_score(y_val, y_pred_val)\n",
    "print('Accuracy: %.2f' % (accuracy*100))"
   ]
  },
  {
   "cell_type": "code",
   "execution_count": 36,
   "metadata": {},
   "outputs": [],
   "source": [
    "from sklearn.tree import DecisionTreeClassifier\n",
    "classifier2 = DecisionTreeClassifier(max_depth = 2, min_samples_leaf = 1, random_state = 42)\n",
    "classifier2.fit(X_train_fs, y_train)\n",
    "y_pred_fs2 = classifier2.predict(X_test_fs)"
   ]
  },
  {
   "cell_type": "code",
   "execution_count": 39,
   "metadata": {},
   "outputs": [
    {
     "name": "stdout",
     "output_type": "stream",
     "text": [
      "[[1660   24]\n",
      " [ 861   24]]\n",
      "0.9728813559322034\n",
      "Accuracy: 65.55\n"
     ]
    }
   ],
   "source": [
    "CM = confusion_matrix(y_test, y_pred_fs2)\n",
    "print(confusion_matrix(y_test, y_pred_fs2))\n",
    "TN = CM[0][0]\n",
    "FN = CM[1][0]\n",
    "TP = CM[1][1]\n",
    "FP = CM[0][1]\n",
    "FNR = FN / (TP + FN)\n",
    "print(FNR)\n",
    "accuracy = accuracy_score(y_test, y_pred_fs2)\n",
    "print('Accuracy: %.2f' % (accuracy*100))"
   ]
  },
  {
   "cell_type": "code",
   "execution_count": 40,
   "metadata": {},
   "outputs": [],
   "source": [
    "\n",
    "# random forests\n",
    "from sklearn.ensemble import RandomForestClassifier\n",
    "rf = RandomForestClassifier()    "
   ]
  },
  {
   "cell_type": "code",
   "execution_count": 41,
   "metadata": {},
   "outputs": [
    {
     "name": "stdout",
     "output_type": "stream",
     "text": [
      "[[1512  172]\n",
      " [ 636  249]]\n",
      "0.7186440677966102\n",
      "Accuracy: 68.55\n"
     ]
    }
   ],
   "source": [
    "clf = RandomForestClassifier(max_depth=2, random_state=0)\n",
    "clf.fit(X, y)\n",
    "y_rf = clf.predict(X_test)\n",
    "CM = confusion_matrix(y_test, y_rf)\n",
    "print(confusion_matrix(y_test, y_rf))\n",
    "TN = CM[0][0]\n",
    "FN = CM[1][0]\n",
    "TP = CM[1][1]\n",
    "FP = CM[0][1]\n",
    "FNR = FN / (TP + FN)\n",
    "print(FNR)\n",
    "accuracy = accuracy_score(y_test, y_rf)\n",
    "print('Accuracy: %.2f' % (accuracy*100))"
   ]
  },
  {
   "cell_type": "code",
   "execution_count": 43,
   "metadata": {},
   "outputs": [
    {
     "name": "stdout",
     "output_type": "stream",
     "text": [
      "[[1604   80]\n",
      " [ 788   97]]\n",
      "0.8903954802259887\n",
      "Accuracy: 66.21\n"
     ]
    }
   ],
   "source": [
    "clf = RandomForestClassifier(max_depth=2, random_state=0)\n",
    "clf.fit(X_train_fs, y_train)\n",
    "y_rf = clf.predict(X_test_fs)\n",
    "CM = confusion_matrix(y_test, y_rf)\n",
    "print(confusion_matrix(y_test, y_rf))\n",
    "TN = CM[0][0]\n",
    "FN = CM[1][0]\n",
    "TP = CM[1][1]\n",
    "FP = CM[0][1]\n",
    "FNR = FN / (TP + FN)\n",
    "print(FNR)\n",
    "accuracy = accuracy_score(y_test, y_rf)\n",
    "print('Accuracy: %.2f' % (accuracy*100))"
   ]
  },
  {
   "cell_type": "code",
   "execution_count": 55,
   "metadata": {},
   "outputs": [
    {
     "name": "stdout",
     "output_type": "stream",
     "text": [
      "[[1383  301]\n",
      " [ 527  358]]\n",
      "0.5954802259887005\n",
      "Accuracy: 67.77\n"
     ]
    }
   ],
   "source": [
    "from sklearn.preprocessing import StandardScaler\n",
    "\n",
    "scaler = StandardScaler()\n",
    "X_train_scaled = scaler.fit_transform(X_train)\n",
    "X_test_scaled = scaler.transform(X_test)\n",
    "\n",
    "X_train_scaled_fs = scaler.fit_transform(X_train_fs)\n",
    "X_test_scaled_fs = scaler.transform(X_test_fs)\n",
    "\n",
    "\n",
    "from sklearn.svm import SVC\n",
    "\n",
    "lin_svc = SVC(max_iter=100000,random_state=42)\n",
    "lin_svc.fit(X_train_scaled, y_train)\n",
    "y_pred = lin_svc.predict(X_test_scaled)\n",
    "CM = confusion_matrix(y_test, y_pred)\n",
    "print(confusion_matrix(y_test, y_pred))\n",
    "TN = CM[0][0]\n",
    "FN = CM[1][0]\n",
    "TP = CM[1][1]\n",
    "FP = CM[0][1]\n",
    "FNR = FN / (TP + FN)\n",
    "print(FNR)\n",
    "accuracy = accuracy_score(y_test, y_pred)\n",
    "print('Accuracy: %.2f' % (accuracy*100))\n"
   ]
  },
  {
   "cell_type": "code",
   "execution_count": null,
   "metadata": {},
   "outputs": [],
   "source": []
  },
  {
   "cell_type": "code",
   "execution_count": 52,
   "metadata": {},
   "outputs": [],
   "source": [
    "# 'gamma': 'scale', 'kernel': 'sigmoid'}\n",
    "from sklearn.svm import SVC\n",
    "lin_svc = SVC(max_iter=100000,C = 50, gamma='scale', kernel='sigmoid', random_state=42)\n",
    "lin_svc.fit(X_train_scaled_fs, y_train)\n",
    "y_pred_fs = lin_svc.predict(X_test_scaled_fs)"
   ]
  },
  {
   "cell_type": "code",
   "execution_count": 54,
   "metadata": {},
   "outputs": [
    {
     "name": "stdout",
     "output_type": "stream",
     "text": [
      "[[1151  533]\n",
      " [ 514  371]]\n",
      "0.5807909604519774\n",
      "Accuracy: 59.24\n"
     ]
    }
   ],
   "source": [
    "CM = confusion_matrix(y_test, y_pred_fs)\n",
    "print(confusion_matrix(y_test, y_pred_fs))\n",
    "TN = CM[0][0]\n",
    "FN = CM[1][0]\n",
    "TP = CM[1][1]\n",
    "FP = CM[0][1]\n",
    "FNR = FN / (TP + FN)\n",
    "print(FNR)\n",
    "accuracy = accuracy_score(y_test, y_pred_fs)\n",
    "print('Accuracy: %.2f' % (accuracy*100))"
   ]
  },
  {
   "cell_type": "code",
   "execution_count": null,
   "metadata": {},
   "outputs": [],
   "source": []
  }
 ],
 "metadata": {
  "kernelspec": {
   "display_name": "Python 3",
   "language": "python",
   "name": "python3"
  },
  "language_info": {
   "codemirror_mode": {
    "name": "ipython",
    "version": 3
   },
   "file_extension": ".py",
   "mimetype": "text/x-python",
   "name": "python",
   "nbconvert_exporter": "python",
   "pygments_lexer": "ipython3",
   "version": "3.8.3"
  }
 },
 "nbformat": 4,
 "nbformat_minor": 4
}
