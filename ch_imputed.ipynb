{
 "cells": [
  {
   "cell_type": "code",
   "execution_count": 4,
   "metadata": {},
   "outputs": [],
   "source": [
    "# Python ≥3.5 is required\n",
    "import sys\n",
    "assert sys.version_info >= (3, 5)\n",
    "\n",
    "# Scikit-Learn ≥0.20 is required\n",
    "import sklearn\n",
    "assert sklearn.__version__ >= \"0.20\"\n",
    "\n",
    "# Common imports\n",
    "import numpy as np\n",
    "import os\n",
    "\n",
    "# to make this notebook's output stable across runs\n",
    "np.random.seed(42)"
   ]
  },
  {
   "cell_type": "code",
   "execution_count": 5,
   "metadata": {},
   "outputs": [],
   "source": [
    "%matplotlib inline\n",
    "import matplotlib as mpl\n",
    "import matplotlib.pyplot as plt\n",
    "mpl.rc('axes', labelsize=14)\n",
    "mpl.rc('xtick', labelsize=12)\n",
    "mpl.rc('ytick', labelsize=12)\n",
    "\n",
    "# Where to save the figures\n",
    "PROJECT_ROOT_DIR = \"/Users/vishali/Desktop/SPRING 2021/project-ml/ML\"\n",
    "CHAPTER_ID = \"Project-MidTerm\"\n",
    "IMAGES_PATH = os.path.join(PROJECT_ROOT_DIR, \"images\", CHAPTER_ID)\n",
    "os.makedirs(IMAGES_PATH, exist_ok=True)\n",
    "\n",
    "def save_fig(fig_id, tight_layout=True, fig_extension=\"png\", resolution=300):\n",
    "    path = os.path.join(IMAGES_PATH, fig_id + \".\" + fig_extension)\n",
    "    print(\"Saving figure\", fig_id)\n",
    "    if tight_layout:\n",
    "        plt.tight_layout()\n",
    "    plt.savefig(path, format=fig_extension, dpi=resolution)\n",
    "\n",
    "np.random.seed(2042)"
   ]
  },
  {
   "cell_type": "code",
   "execution_count": 40,
   "metadata": {},
   "outputs": [],
   "source": [
    "import pandas as pd\n",
    "class StringConverter(dict):\n",
    "\n",
    "    def __contains__(self, item):\n",
    "\n",
    "        return True\n",
    "\n",
    "    def __getitem__(self, item):\n",
    "\n",
    "        return str\n",
    "\n",
    "    def get(self, default=None):\n",
    "\n",
    "        return str\n",
    "\n",
    "def load_data(data_path = \"/Users/vishali/Desktop/SPRING 2021/project-ml\"):\n",
    "    csv_path = os.path.join(data_path, \"ch_imputed.csv\")\n",
    "    return pd.read_csv(csv_path, low_memory = False)"
   ]
  },
  {
   "cell_type": "code",
   "execution_count": 41,
   "metadata": {},
   "outputs": [],
   "source": [
    "ch = load_data()"
   ]
  },
  {
   "cell_type": "code",
   "execution_count": 42,
   "metadata": {},
   "outputs": [
    {
     "data": {
      "text/html": [
       "<div>\n",
       "<style scoped>\n",
       "    .dataframe tbody tr th:only-of-type {\n",
       "        vertical-align: middle;\n",
       "    }\n",
       "\n",
       "    .dataframe tbody tr th {\n",
       "        vertical-align: top;\n",
       "    }\n",
       "\n",
       "    .dataframe thead th {\n",
       "        text-align: right;\n",
       "    }\n",
       "</style>\n",
       "<table border=\"1\" class=\"dataframe\">\n",
       "  <thead>\n",
       "    <tr style=\"text-align: right;\">\n",
       "      <th></th>\n",
       "      <th>Unnamed: 0</th>\n",
       "      <th>X</th>\n",
       "      <th>sd1</th>\n",
       "      <th>hv204</th>\n",
       "      <th>hv206</th>\n",
       "      <th>hv207</th>\n",
       "      <th>hv208</th>\n",
       "      <th>hv209</th>\n",
       "      <th>hv210</th>\n",
       "      <th>hv211</th>\n",
       "      <th>...</th>\n",
       "      <th>PET_2015</th>\n",
       "      <th>Proximity_to_tiol_Borders</th>\n",
       "      <th>Proximity_to_Protected_Areas</th>\n",
       "      <th>Proximity_to_Water</th>\n",
       "      <th>Rainfall_2015</th>\n",
       "      <th>Travel_Times_2015</th>\n",
       "      <th>UN_Population_Density_2015</th>\n",
       "      <th>Wet_Days_2015</th>\n",
       "      <th>washhands</th>\n",
       "      <th>smoke</th>\n",
       "    </tr>\n",
       "  </thead>\n",
       "  <tbody>\n",
       "    <tr>\n",
       "      <th>count</th>\n",
       "      <td>9395.000000</td>\n",
       "      <td>9395.000000</td>\n",
       "      <td>9395.000000</td>\n",
       "      <td>9395.000000</td>\n",
       "      <td>9395.000000</td>\n",
       "      <td>9395.000000</td>\n",
       "      <td>9395.000000</td>\n",
       "      <td>9395.000000</td>\n",
       "      <td>9395.000000</td>\n",
       "      <td>9395.000000</td>\n",
       "      <td>...</td>\n",
       "      <td>9395.000000</td>\n",
       "      <td>9395.000000</td>\n",
       "      <td>9395.000000</td>\n",
       "      <td>9395.000000</td>\n",
       "      <td>9395.000000</td>\n",
       "      <td>9395.000000</td>\n",
       "      <td>9395.000000</td>\n",
       "      <td>9395.000000</td>\n",
       "      <td>9395.000000</td>\n",
       "      <td>9395.000000</td>\n",
       "    </tr>\n",
       "    <tr>\n",
       "      <th>mean</th>\n",
       "      <td>4698.000000</td>\n",
       "      <td>22262.091964</td>\n",
       "      <td>0.482278</td>\n",
       "      <td>128.520809</td>\n",
       "      <td>0.219372</td>\n",
       "      <td>0.531985</td>\n",
       "      <td>0.112826</td>\n",
       "      <td>0.017030</td>\n",
       "      <td>0.168175</td>\n",
       "      <td>0.019159</td>\n",
       "      <td>...</td>\n",
       "      <td>2.861483</td>\n",
       "      <td>23235.013448</td>\n",
       "      <td>29222.281985</td>\n",
       "      <td>22814.013185</td>\n",
       "      <td>1079.743748</td>\n",
       "      <td>38.247741</td>\n",
       "      <td>1003.719147</td>\n",
       "      <td>16.182889</td>\n",
       "      <td>0.108675</td>\n",
       "      <td>0.825652</td>\n",
       "    </tr>\n",
       "    <tr>\n",
       "      <th>std</th>\n",
       "      <td>2712.247223</td>\n",
       "      <td>12738.764883</td>\n",
       "      <td>0.499712</td>\n",
       "      <td>286.127055</td>\n",
       "      <td>0.413843</td>\n",
       "      <td>0.499002</td>\n",
       "      <td>0.316397</td>\n",
       "      <td>0.129391</td>\n",
       "      <td>0.374041</td>\n",
       "      <td>0.137091</td>\n",
       "      <td>...</td>\n",
       "      <td>0.188219</td>\n",
       "      <td>14578.638448</td>\n",
       "      <td>18926.488291</td>\n",
       "      <td>13932.925922</td>\n",
       "      <td>219.290823</td>\n",
       "      <td>27.971789</td>\n",
       "      <td>1533.360813</td>\n",
       "      <td>0.627466</td>\n",
       "      <td>0.311247</td>\n",
       "      <td>0.379429</td>\n",
       "    </tr>\n",
       "    <tr>\n",
       "      <th>min</th>\n",
       "      <td>1.000000</td>\n",
       "      <td>1.000000</td>\n",
       "      <td>0.000000</td>\n",
       "      <td>2.000000</td>\n",
       "      <td>0.000000</td>\n",
       "      <td>0.000000</td>\n",
       "      <td>0.000000</td>\n",
       "      <td>0.000000</td>\n",
       "      <td>0.000000</td>\n",
       "      <td>0.000000</td>\n",
       "      <td>...</td>\n",
       "      <td>2.450000</td>\n",
       "      <td>225.640000</td>\n",
       "      <td>0.000000</td>\n",
       "      <td>0.000000</td>\n",
       "      <td>740.600000</td>\n",
       "      <td>0.000000</td>\n",
       "      <td>145.520000</td>\n",
       "      <td>15.180000</td>\n",
       "      <td>0.000000</td>\n",
       "      <td>0.000000</td>\n",
       "    </tr>\n",
       "    <tr>\n",
       "      <th>25%</th>\n",
       "      <td>2349.500000</td>\n",
       "      <td>11275.500000</td>\n",
       "      <td>0.000000</td>\n",
       "      <td>15.000000</td>\n",
       "      <td>0.000000</td>\n",
       "      <td>0.000000</td>\n",
       "      <td>0.000000</td>\n",
       "      <td>0.000000</td>\n",
       "      <td>0.000000</td>\n",
       "      <td>0.000000</td>\n",
       "      <td>...</td>\n",
       "      <td>2.690000</td>\n",
       "      <td>10497.340000</td>\n",
       "      <td>12487.380000</td>\n",
       "      <td>11861.150000</td>\n",
       "      <td>872.000000</td>\n",
       "      <td>16.640000</td>\n",
       "      <td>458.850000</td>\n",
       "      <td>15.630000</td>\n",
       "      <td>0.000000</td>\n",
       "      <td>1.000000</td>\n",
       "    </tr>\n",
       "    <tr>\n",
       "      <th>50%</th>\n",
       "      <td>4698.000000</td>\n",
       "      <td>22154.000000</td>\n",
       "      <td>0.000000</td>\n",
       "      <td>30.000000</td>\n",
       "      <td>0.000000</td>\n",
       "      <td>1.000000</td>\n",
       "      <td>0.000000</td>\n",
       "      <td>0.000000</td>\n",
       "      <td>0.000000</td>\n",
       "      <td>0.000000</td>\n",
       "      <td>...</td>\n",
       "      <td>2.890000</td>\n",
       "      <td>21882.130000</td>\n",
       "      <td>26923.400000</td>\n",
       "      <td>22821.100000</td>\n",
       "      <td>1053.330000</td>\n",
       "      <td>35.330000</td>\n",
       "      <td>552.060000</td>\n",
       "      <td>16.390000</td>\n",
       "      <td>0.000000</td>\n",
       "      <td>1.000000</td>\n",
       "    </tr>\n",
       "    <tr>\n",
       "      <th>75%</th>\n",
       "      <td>7046.500000</td>\n",
       "      <td>32813.000000</td>\n",
       "      <td>1.000000</td>\n",
       "      <td>60.000000</td>\n",
       "      <td>0.000000</td>\n",
       "      <td>1.000000</td>\n",
       "      <td>0.000000</td>\n",
       "      <td>0.000000</td>\n",
       "      <td>0.000000</td>\n",
       "      <td>0.000000</td>\n",
       "      <td>...</td>\n",
       "      <td>3.000000</td>\n",
       "      <td>36685.810000</td>\n",
       "      <td>45813.810000</td>\n",
       "      <td>32177.580000</td>\n",
       "      <td>1243.900000</td>\n",
       "      <td>53.950000</td>\n",
       "      <td>738.380000</td>\n",
       "      <td>16.560000</td>\n",
       "      <td>0.000000</td>\n",
       "      <td>1.000000</td>\n",
       "    </tr>\n",
       "    <tr>\n",
       "      <th>max</th>\n",
       "      <td>9395.000000</td>\n",
       "      <td>44985.000000</td>\n",
       "      <td>1.000000</td>\n",
       "      <td>996.000000</td>\n",
       "      <td>1.000000</td>\n",
       "      <td>1.000000</td>\n",
       "      <td>1.000000</td>\n",
       "      <td>1.000000</td>\n",
       "      <td>1.000000</td>\n",
       "      <td>1.000000</td>\n",
       "      <td>...</td>\n",
       "      <td>3.170000</td>\n",
       "      <td>55444.900000</td>\n",
       "      <td>71428.820000</td>\n",
       "      <td>65493.430000</td>\n",
       "      <td>1621.000000</td>\n",
       "      <td>175.810000</td>\n",
       "      <td>10562.060000</td>\n",
       "      <td>17.310000</td>\n",
       "      <td>1.000000</td>\n",
       "      <td>1.000000</td>\n",
       "    </tr>\n",
       "  </tbody>\n",
       "</table>\n",
       "<p>8 rows × 40 columns</p>\n",
       "</div>"
      ],
      "text/plain": [
       "        Unnamed: 0             X          sd1        hv204        hv206  \\\n",
       "count  9395.000000   9395.000000  9395.000000  9395.000000  9395.000000   \n",
       "mean   4698.000000  22262.091964     0.482278   128.520809     0.219372   \n",
       "std    2712.247223  12738.764883     0.499712   286.127055     0.413843   \n",
       "min       1.000000      1.000000     0.000000     2.000000     0.000000   \n",
       "25%    2349.500000  11275.500000     0.000000    15.000000     0.000000   \n",
       "50%    4698.000000  22154.000000     0.000000    30.000000     0.000000   \n",
       "75%    7046.500000  32813.000000     1.000000    60.000000     0.000000   \n",
       "max    9395.000000  44985.000000     1.000000   996.000000     1.000000   \n",
       "\n",
       "             hv207        hv208        hv209        hv210        hv211  ...  \\\n",
       "count  9395.000000  9395.000000  9395.000000  9395.000000  9395.000000  ...   \n",
       "mean      0.531985     0.112826     0.017030     0.168175     0.019159  ...   \n",
       "std       0.499002     0.316397     0.129391     0.374041     0.137091  ...   \n",
       "min       0.000000     0.000000     0.000000     0.000000     0.000000  ...   \n",
       "25%       0.000000     0.000000     0.000000     0.000000     0.000000  ...   \n",
       "50%       1.000000     0.000000     0.000000     0.000000     0.000000  ...   \n",
       "75%       1.000000     0.000000     0.000000     0.000000     0.000000  ...   \n",
       "max       1.000000     1.000000     1.000000     1.000000     1.000000  ...   \n",
       "\n",
       "          PET_2015  Proximity_to_tiol_Borders  Proximity_to_Protected_Areas  \\\n",
       "count  9395.000000                9395.000000                   9395.000000   \n",
       "mean      2.861483               23235.013448                  29222.281985   \n",
       "std       0.188219               14578.638448                  18926.488291   \n",
       "min       2.450000                 225.640000                      0.000000   \n",
       "25%       2.690000               10497.340000                  12487.380000   \n",
       "50%       2.890000               21882.130000                  26923.400000   \n",
       "75%       3.000000               36685.810000                  45813.810000   \n",
       "max       3.170000               55444.900000                  71428.820000   \n",
       "\n",
       "       Proximity_to_Water  Rainfall_2015  Travel_Times_2015  \\\n",
       "count         9395.000000    9395.000000        9395.000000   \n",
       "mean         22814.013185    1079.743748          38.247741   \n",
       "std          13932.925922     219.290823          27.971789   \n",
       "min              0.000000     740.600000           0.000000   \n",
       "25%          11861.150000     872.000000          16.640000   \n",
       "50%          22821.100000    1053.330000          35.330000   \n",
       "75%          32177.580000    1243.900000          53.950000   \n",
       "max          65493.430000    1621.000000         175.810000   \n",
       "\n",
       "       UN_Population_Density_2015  Wet_Days_2015    washhands        smoke  \n",
       "count                 9395.000000    9395.000000  9395.000000  9395.000000  \n",
       "mean                  1003.719147      16.182889     0.108675     0.825652  \n",
       "std                   1533.360813       0.627466     0.311247     0.379429  \n",
       "min                    145.520000      15.180000     0.000000     0.000000  \n",
       "25%                    458.850000      15.630000     0.000000     1.000000  \n",
       "50%                    552.060000      16.390000     0.000000     1.000000  \n",
       "75%                    738.380000      16.560000     0.000000     1.000000  \n",
       "max                  10562.060000      17.310000     1.000000     1.000000  \n",
       "\n",
       "[8 rows x 40 columns]"
      ]
     },
     "execution_count": 42,
     "metadata": {},
     "output_type": "execute_result"
    }
   ],
   "source": [
    "ch.describe()"
   ]
  },
  {
   "cell_type": "code",
   "execution_count": 44,
   "metadata": {},
   "outputs": [
    {
     "name": "stdout",
     "output_type": "stream",
     "text": [
      "<class 'pandas.core.frame.DataFrame'>\n",
      "RangeIndex: 9395 entries, 0 to 9394\n",
      "Data columns (total 42 columns):\n",
      " #   Column                          Non-Null Count  Dtype  \n",
      "---  ------                          --------------  -----  \n",
      " 0   Unnamed: 0                      9395 non-null   int64  \n",
      " 1   X                               9395 non-null   int64  \n",
      " 2   whsd                            9395 non-null   object \n",
      " 3   sd1                             9395 non-null   int64  \n",
      " 4   hv204                           9395 non-null   int64  \n",
      " 5   hv206                           9395 non-null   int64  \n",
      " 6   hv207                           9395 non-null   int64  \n",
      " 7   hv208                           9395 non-null   int64  \n",
      " 8   hv209                           9395 non-null   int64  \n",
      " 9   hv210                           9395 non-null   int64  \n",
      " 10  hv211                           9395 non-null   int64  \n",
      " 11  hv212                           9395 non-null   int64  \n",
      " 12  hv216                           9395 non-null   int64  \n",
      " 13  hv225                           9395 non-null   int64  \n",
      " 14  hv227                           9395 non-null   int64  \n",
      " 15  hv237                           9395 non-null   int64  \n",
      " 16  hv243a                          9395 non-null   int64  \n",
      " 17  hml1                            9395 non-null   int64  \n",
      " 18  Annual_Precipitation_2015       9395 non-null   float64\n",
      " 19  Aridity_2015                    9395 non-null   float64\n",
      " 20  Day_Land_Surface_Temp_2015      9395 non-null   float64\n",
      " 21  Diurl_Temperature_Range_2015    9395 non-null   float64\n",
      " 22  Enhanced_Vegetation_Index_2015  9395 non-null   float64\n",
      " 23  Global_Human_Footprint          9395 non-null   float64\n",
      " 24  Growing_Season_Length           9395 non-null   int64  \n",
      " 25  Irrigation                      9395 non-null   float64\n",
      " 26  Land_Surface_Temperature_2015   9395 non-null   float64\n",
      " 27  ITN_Coverage_2015               9395 non-null   float64\n",
      " 28  Mean_Temperature_2015           9395 non-null   float64\n",
      " 29  Nightlights_Composite           9395 non-null   float64\n",
      " 30  Night_Land_Surface_Temp_2015    9395 non-null   float64\n",
      " 31  PET_2015                        9395 non-null   float64\n",
      " 32  Proximity_to_tiol_Borders       9395 non-null   float64\n",
      " 33  Proximity_to_Protected_Areas    9395 non-null   float64\n",
      " 34  Proximity_to_Water              9395 non-null   float64\n",
      " 35  Rainfall_2015                   9395 non-null   float64\n",
      " 36  Travel_Times_2015               9395 non-null   float64\n",
      " 37  UN_Population_Density_2015      9395 non-null   float64\n",
      " 38  Wet_Days_2015                   9395 non-null   float64\n",
      " 39  v025                            9395 non-null   object \n",
      " 40  washhands                       9395 non-null   int64  \n",
      " 41  smoke                           9395 non-null   int64  \n",
      "dtypes: float64(20), int64(20), object(2)\n",
      "memory usage: 3.0+ MB\n"
     ]
    }
   ],
   "source": [
    "ch.info()"
   ]
  },
  {
   "cell_type": "code",
   "execution_count": 45,
   "metadata": {},
   "outputs": [],
   "source": [
    "# drop object dtypes\n",
    "del ch['whsd']\n",
    "del ch['v025']"
   ]
  },
  {
   "cell_type": "code",
   "execution_count": 46,
   "metadata": {},
   "outputs": [
    {
     "name": "stdout",
     "output_type": "stream",
     "text": [
      "<class 'pandas.core.frame.DataFrame'>\n",
      "RangeIndex: 9395 entries, 0 to 9394\n",
      "Data columns (total 40 columns):\n",
      " #   Column                          Non-Null Count  Dtype  \n",
      "---  ------                          --------------  -----  \n",
      " 0   Unnamed: 0                      9395 non-null   int64  \n",
      " 1   X                               9395 non-null   int64  \n",
      " 2   sd1                             9395 non-null   int64  \n",
      " 3   hv204                           9395 non-null   int64  \n",
      " 4   hv206                           9395 non-null   int64  \n",
      " 5   hv207                           9395 non-null   int64  \n",
      " 6   hv208                           9395 non-null   int64  \n",
      " 7   hv209                           9395 non-null   int64  \n",
      " 8   hv210                           9395 non-null   int64  \n",
      " 9   hv211                           9395 non-null   int64  \n",
      " 10  hv212                           9395 non-null   int64  \n",
      " 11  hv216                           9395 non-null   int64  \n",
      " 12  hv225                           9395 non-null   int64  \n",
      " 13  hv227                           9395 non-null   int64  \n",
      " 14  hv237                           9395 non-null   int64  \n",
      " 15  hv243a                          9395 non-null   int64  \n",
      " 16  hml1                            9395 non-null   int64  \n",
      " 17  Annual_Precipitation_2015       9395 non-null   float64\n",
      " 18  Aridity_2015                    9395 non-null   float64\n",
      " 19  Day_Land_Surface_Temp_2015      9395 non-null   float64\n",
      " 20  Diurl_Temperature_Range_2015    9395 non-null   float64\n",
      " 21  Enhanced_Vegetation_Index_2015  9395 non-null   float64\n",
      " 22  Global_Human_Footprint          9395 non-null   float64\n",
      " 23  Growing_Season_Length           9395 non-null   int64  \n",
      " 24  Irrigation                      9395 non-null   float64\n",
      " 25  Land_Surface_Temperature_2015   9395 non-null   float64\n",
      " 26  ITN_Coverage_2015               9395 non-null   float64\n",
      " 27  Mean_Temperature_2015           9395 non-null   float64\n",
      " 28  Nightlights_Composite           9395 non-null   float64\n",
      " 29  Night_Land_Surface_Temp_2015    9395 non-null   float64\n",
      " 30  PET_2015                        9395 non-null   float64\n",
      " 31  Proximity_to_tiol_Borders       9395 non-null   float64\n",
      " 32  Proximity_to_Protected_Areas    9395 non-null   float64\n",
      " 33  Proximity_to_Water              9395 non-null   float64\n",
      " 34  Rainfall_2015                   9395 non-null   float64\n",
      " 35  Travel_Times_2015               9395 non-null   float64\n",
      " 36  UN_Population_Density_2015      9395 non-null   float64\n",
      " 37  Wet_Days_2015                   9395 non-null   float64\n",
      " 38  washhands                       9395 non-null   int64  \n",
      " 39  smoke                           9395 non-null   int64  \n",
      "dtypes: float64(20), int64(20)\n",
      "memory usage: 2.9 MB\n"
     ]
    }
   ],
   "source": [
    "ch.info()"
   ]
  },
  {
   "cell_type": "code",
   "execution_count": 48,
   "metadata": {},
   "outputs": [],
   "source": [
    "X = ch.drop('sd1', axis=1)\n",
    "y = ch['sd1']"
   ]
  },
  {
   "cell_type": "code",
   "execution_count": 49,
   "metadata": {},
   "outputs": [],
   "source": [
    "from sklearn.model_selection import train_test_split"
   ]
  },
  {
   "cell_type": "code",
   "execution_count": 50,
   "metadata": {},
   "outputs": [],
   "source": [
    "X_train, X_test, y_train, y_test = train_test_split(X, y, test_size=0.2, random_state=1)\n",
    "\n",
    "X_train, X_val, y_train, y_val = train_test_split(X_train, y_train, test_size=0.25, random_state=1) "
   ]
  },
  {
   "cell_type": "code",
   "execution_count": 51,
   "metadata": {},
   "outputs": [
    {
     "data": {
      "text/plain": [
       "DecisionTreeClassifier()"
      ]
     },
     "execution_count": 51,
     "metadata": {},
     "output_type": "execute_result"
    }
   ],
   "source": [
    "from sklearn.tree import DecisionTreeClassifier\n",
    "classifier = DecisionTreeClassifier()\n",
    "classifier.fit(X_train, y_train)"
   ]
  },
  {
   "cell_type": "code",
   "execution_count": 52,
   "metadata": {},
   "outputs": [],
   "source": [
    "y_pred = classifier.predict(X_test)"
   ]
  },
  {
   "cell_type": "code",
   "execution_count": 53,
   "metadata": {},
   "outputs": [
    {
     "name": "stdout",
     "output_type": "stream",
     "text": [
      "[[888  89]\n",
      " [ 83 819]]\n",
      "              precision    recall  f1-score   support\n",
      "\n",
      "           0       0.91      0.91      0.91       977\n",
      "           1       0.90      0.91      0.90       902\n",
      "\n",
      "    accuracy                           0.91      1879\n",
      "   macro avg       0.91      0.91      0.91      1879\n",
      "weighted avg       0.91      0.91      0.91      1879\n",
      "\n"
     ]
    }
   ],
   "source": [
    "from sklearn.metrics import classification_report, confusion_matrix\n",
    "CM = confusion_matrix(y_test, y_pred)\n",
    "print(confusion_matrix(y_test, y_pred))\n",
    "print(classification_report(y_test, y_pred))"
   ]
  },
  {
   "cell_type": "code",
   "execution_count": 106,
   "metadata": {},
   "outputs": [
    {
     "name": "stdout",
     "output_type": "stream",
     "text": [
      "0.09201773835920177\n",
      "0.09109518935516889\n",
      "0.9079822616407982\n"
     ]
    }
   ],
   "source": [
    "TN = CM[0][0]\n",
    "FN = CM[1][0]\n",
    "TP = CM[1][1]\n",
    "FP = CM[0][1]\n",
    "\n",
    "FNR = FN/(TP+FN)\n",
    "FPR = FP/(FP+TN)\n",
    "TPR = TP/(TP+FN)\n",
    "print(FNR)\n",
    "print(FPR)\n",
    "print(TPR)"
   ]
  },
  {
   "cell_type": "code",
   "execution_count": 109,
   "metadata": {},
   "outputs": [
    {
     "ename": "TypeError",
     "evalue": "Singleton array 0.09109518935516889 cannot be considered a valid collection.",
     "output_type": "error",
     "traceback": [
      "\u001b[0;31m---------------------------------------------------------------------------\u001b[0m",
      "\u001b[0;31mTypeError\u001b[0m                                 Traceback (most recent call last)",
      "\u001b[0;32m<ipython-input-109-8767916b3752>\u001b[0m in \u001b[0;36m<module>\u001b[0;34m\u001b[0m\n\u001b[1;32m      1\u001b[0m \u001b[0;32mfrom\u001b[0m \u001b[0msklearn\u001b[0m \u001b[0;32mimport\u001b[0m \u001b[0mmetrics\u001b[0m\u001b[0;34m\u001b[0m\u001b[0;34m\u001b[0m\u001b[0m\n\u001b[0;32m----> 2\u001b[0;31m \u001b[0mroc_curve\u001b[0m \u001b[0;34m=\u001b[0m \u001b[0mmetrics\u001b[0m\u001b[0;34m.\u001b[0m\u001b[0mauc\u001b[0m\u001b[0;34m(\u001b[0m\u001b[0mFPR\u001b[0m\u001b[0;34m,\u001b[0m \u001b[0mTPR\u001b[0m\u001b[0;34m)\u001b[0m\u001b[0;34m\u001b[0m\u001b[0;34m\u001b[0m\u001b[0m\n\u001b[0m",
      "\u001b[0;32m~/opt/anaconda3/lib/python3.8/site-packages/sklearn/metrics/_ranking.py\u001b[0m in \u001b[0;36mauc\u001b[0;34m(x, y)\u001b[0m\n\u001b[1;32m     77\u001b[0m         \u001b[0mCompute\u001b[0m \u001b[0mprecision\u001b[0m\u001b[0;34m-\u001b[0m\u001b[0mrecall\u001b[0m \u001b[0mpairs\u001b[0m \u001b[0;32mfor\u001b[0m \u001b[0mdifferent\u001b[0m \u001b[0mprobability\u001b[0m \u001b[0mthresholds\u001b[0m\u001b[0;34m\u001b[0m\u001b[0;34m\u001b[0m\u001b[0m\n\u001b[1;32m     78\u001b[0m     \"\"\"\n\u001b[0;32m---> 79\u001b[0;31m     \u001b[0mcheck_consistent_length\u001b[0m\u001b[0;34m(\u001b[0m\u001b[0mx\u001b[0m\u001b[0;34m,\u001b[0m \u001b[0my\u001b[0m\u001b[0;34m)\u001b[0m\u001b[0;34m\u001b[0m\u001b[0;34m\u001b[0m\u001b[0m\n\u001b[0m\u001b[1;32m     80\u001b[0m     \u001b[0mx\u001b[0m \u001b[0;34m=\u001b[0m \u001b[0mcolumn_or_1d\u001b[0m\u001b[0;34m(\u001b[0m\u001b[0mx\u001b[0m\u001b[0;34m)\u001b[0m\u001b[0;34m\u001b[0m\u001b[0;34m\u001b[0m\u001b[0m\n\u001b[1;32m     81\u001b[0m     \u001b[0my\u001b[0m \u001b[0;34m=\u001b[0m \u001b[0mcolumn_or_1d\u001b[0m\u001b[0;34m(\u001b[0m\u001b[0my\u001b[0m\u001b[0;34m)\u001b[0m\u001b[0;34m\u001b[0m\u001b[0;34m\u001b[0m\u001b[0m\n",
      "\u001b[0;32m~/opt/anaconda3/lib/python3.8/site-packages/sklearn/utils/validation.py\u001b[0m in \u001b[0;36mcheck_consistent_length\u001b[0;34m(*arrays)\u001b[0m\n\u001b[1;32m    251\u001b[0m     \"\"\"\n\u001b[1;32m    252\u001b[0m \u001b[0;34m\u001b[0m\u001b[0m\n\u001b[0;32m--> 253\u001b[0;31m     \u001b[0mlengths\u001b[0m \u001b[0;34m=\u001b[0m \u001b[0;34m[\u001b[0m\u001b[0m_num_samples\u001b[0m\u001b[0;34m(\u001b[0m\u001b[0mX\u001b[0m\u001b[0;34m)\u001b[0m \u001b[0;32mfor\u001b[0m \u001b[0mX\u001b[0m \u001b[0;32min\u001b[0m \u001b[0marrays\u001b[0m \u001b[0;32mif\u001b[0m \u001b[0mX\u001b[0m \u001b[0;32mis\u001b[0m \u001b[0;32mnot\u001b[0m \u001b[0;32mNone\u001b[0m\u001b[0;34m]\u001b[0m\u001b[0;34m\u001b[0m\u001b[0;34m\u001b[0m\u001b[0m\n\u001b[0m\u001b[1;32m    254\u001b[0m     \u001b[0muniques\u001b[0m \u001b[0;34m=\u001b[0m \u001b[0mnp\u001b[0m\u001b[0;34m.\u001b[0m\u001b[0munique\u001b[0m\u001b[0;34m(\u001b[0m\u001b[0mlengths\u001b[0m\u001b[0;34m)\u001b[0m\u001b[0;34m\u001b[0m\u001b[0;34m\u001b[0m\u001b[0m\n\u001b[1;32m    255\u001b[0m     \u001b[0;32mif\u001b[0m \u001b[0mlen\u001b[0m\u001b[0;34m(\u001b[0m\u001b[0muniques\u001b[0m\u001b[0;34m)\u001b[0m \u001b[0;34m>\u001b[0m \u001b[0;36m1\u001b[0m\u001b[0;34m:\u001b[0m\u001b[0;34m\u001b[0m\u001b[0;34m\u001b[0m\u001b[0m\n",
      "\u001b[0;32m~/opt/anaconda3/lib/python3.8/site-packages/sklearn/utils/validation.py\u001b[0m in \u001b[0;36m<listcomp>\u001b[0;34m(.0)\u001b[0m\n\u001b[1;32m    251\u001b[0m     \"\"\"\n\u001b[1;32m    252\u001b[0m \u001b[0;34m\u001b[0m\u001b[0m\n\u001b[0;32m--> 253\u001b[0;31m     \u001b[0mlengths\u001b[0m \u001b[0;34m=\u001b[0m \u001b[0;34m[\u001b[0m\u001b[0m_num_samples\u001b[0m\u001b[0;34m(\u001b[0m\u001b[0mX\u001b[0m\u001b[0;34m)\u001b[0m \u001b[0;32mfor\u001b[0m \u001b[0mX\u001b[0m \u001b[0;32min\u001b[0m \u001b[0marrays\u001b[0m \u001b[0;32mif\u001b[0m \u001b[0mX\u001b[0m \u001b[0;32mis\u001b[0m \u001b[0;32mnot\u001b[0m \u001b[0;32mNone\u001b[0m\u001b[0;34m]\u001b[0m\u001b[0;34m\u001b[0m\u001b[0;34m\u001b[0m\u001b[0m\n\u001b[0m\u001b[1;32m    254\u001b[0m     \u001b[0muniques\u001b[0m \u001b[0;34m=\u001b[0m \u001b[0mnp\u001b[0m\u001b[0;34m.\u001b[0m\u001b[0munique\u001b[0m\u001b[0;34m(\u001b[0m\u001b[0mlengths\u001b[0m\u001b[0;34m)\u001b[0m\u001b[0;34m\u001b[0m\u001b[0;34m\u001b[0m\u001b[0m\n\u001b[1;32m    255\u001b[0m     \u001b[0;32mif\u001b[0m \u001b[0mlen\u001b[0m\u001b[0;34m(\u001b[0m\u001b[0muniques\u001b[0m\u001b[0;34m)\u001b[0m \u001b[0;34m>\u001b[0m \u001b[0;36m1\u001b[0m\u001b[0;34m:\u001b[0m\u001b[0;34m\u001b[0m\u001b[0;34m\u001b[0m\u001b[0m\n",
      "\u001b[0;32m~/opt/anaconda3/lib/python3.8/site-packages/sklearn/utils/validation.py\u001b[0m in \u001b[0;36m_num_samples\u001b[0;34m(x)\u001b[0m\n\u001b[1;32m    194\u001b[0m     \u001b[0;32mif\u001b[0m \u001b[0mhasattr\u001b[0m\u001b[0;34m(\u001b[0m\u001b[0mx\u001b[0m\u001b[0;34m,\u001b[0m \u001b[0;34m'shape'\u001b[0m\u001b[0;34m)\u001b[0m \u001b[0;32mand\u001b[0m \u001b[0mx\u001b[0m\u001b[0;34m.\u001b[0m\u001b[0mshape\u001b[0m \u001b[0;32mis\u001b[0m \u001b[0;32mnot\u001b[0m \u001b[0;32mNone\u001b[0m\u001b[0;34m:\u001b[0m\u001b[0;34m\u001b[0m\u001b[0;34m\u001b[0m\u001b[0m\n\u001b[1;32m    195\u001b[0m         \u001b[0;32mif\u001b[0m \u001b[0mlen\u001b[0m\u001b[0;34m(\u001b[0m\u001b[0mx\u001b[0m\u001b[0;34m.\u001b[0m\u001b[0mshape\u001b[0m\u001b[0;34m)\u001b[0m \u001b[0;34m==\u001b[0m \u001b[0;36m0\u001b[0m\u001b[0;34m:\u001b[0m\u001b[0;34m\u001b[0m\u001b[0;34m\u001b[0m\u001b[0m\n\u001b[0;32m--> 196\u001b[0;31m             raise TypeError(\"Singleton array %r cannot be considered\"\n\u001b[0m\u001b[1;32m    197\u001b[0m                             \" a valid collection.\" % x)\n\u001b[1;32m    198\u001b[0m         \u001b[0;31m# Check that shape is returning an integer or default to len\u001b[0m\u001b[0;34m\u001b[0m\u001b[0;34m\u001b[0m\u001b[0;34m\u001b[0m\u001b[0m\n",
      "\u001b[0;31mTypeError\u001b[0m: Singleton array 0.09109518935516889 cannot be considered a valid collection."
     ]
    }
   ],
   "source": [
    "from sklearn import metrics\n",
    "roc_curve = metrics.auc(FPR, TPR)"
   ]
  },
  {
   "cell_type": "code",
   "execution_count": 18,
   "metadata": {},
   "outputs": [],
   "source": []
  },
  {
   "cell_type": "code",
   "execution_count": 19,
   "metadata": {},
   "outputs": [
    {
     "name": "stdout",
     "output_type": "stream",
     "text": [
      "[[182 780]\n",
      " [141 776]]\n",
      "              precision    recall  f1-score   support\n",
      "\n",
      "           0       0.56      0.19      0.28       962\n",
      "           1       0.50      0.85      0.63       917\n",
      "\n",
      "    accuracy                           0.51      1879\n",
      "   macro avg       0.53      0.52      0.46      1879\n",
      "weighted avg       0.53      0.51      0.45      1879\n",
      "\n"
     ]
    }
   ],
   "source": []
  },
  {
   "cell_type": "code",
   "execution_count": 20,
   "metadata": {},
   "outputs": [
    {
     "data": {
      "text/plain": [
       "DecisionTreeClassifier(max_depth=10, random_state=42)"
      ]
     },
     "execution_count": 20,
     "metadata": {},
     "output_type": "execute_result"
    }
   ],
   "source": [
    "\n"
   ]
  },
  {
   "cell_type": "code",
   "execution_count": 21,
   "metadata": {},
   "outputs": [],
   "source": []
  },
  {
   "cell_type": "code",
   "execution_count": 22,
   "metadata": {},
   "outputs": [
    {
     "name": "stdout",
     "output_type": "stream",
     "text": [
      "[[901  61]\n",
      " [604 313]]\n",
      "              precision    recall  f1-score   support\n",
      "\n",
      "           0       0.60      0.94      0.73       962\n",
      "           1       0.84      0.34      0.48       917\n",
      "\n",
      "    accuracy                           0.65      1879\n",
      "   macro avg       0.72      0.64      0.61      1879\n",
      "weighted avg       0.71      0.65      0.61      1879\n",
      "\n"
     ]
    }
   ],
   "source": []
  },
  {
   "cell_type": "code",
   "execution_count": 23,
   "metadata": {},
   "outputs": [
    {
     "ename": "NameError",
     "evalue": "name 'randint' is not defined",
     "output_type": "error",
     "traceback": [
      "\u001b[0;31m---------------------------------------------------------------------------\u001b[0m",
      "\u001b[0;31mNameError\u001b[0m                                 Traceback (most recent call last)",
      "\u001b[0;32m<ipython-input-23-dfdcf99bc123>\u001b[0m in \u001b[0;36m<module>\u001b[0;34m\u001b[0m\n\u001b[1;32m      1\u001b[0m \u001b[0;31m# Setup the parameters and distributions to sample from: param_dist\u001b[0m\u001b[0;34m\u001b[0m\u001b[0;34m\u001b[0m\u001b[0;34m\u001b[0m\u001b[0m\n\u001b[1;32m      2\u001b[0m param_dist = {\"max_depth\": [3, None],\n\u001b[0;32m----> 3\u001b[0;31m               \u001b[0;34m\"max_features\"\u001b[0m\u001b[0;34m:\u001b[0m \u001b[0mrandint\u001b[0m\u001b[0;34m(\u001b[0m\u001b[0;36m1\u001b[0m\u001b[0;34m,\u001b[0m \u001b[0;36m9\u001b[0m\u001b[0;34m)\u001b[0m\u001b[0;34m,\u001b[0m\u001b[0;34m\u001b[0m\u001b[0;34m\u001b[0m\u001b[0m\n\u001b[0m\u001b[1;32m      4\u001b[0m               \u001b[0;34m\"min_samples_leaf\"\u001b[0m\u001b[0;34m:\u001b[0m \u001b[0mrandint\u001b[0m\u001b[0;34m(\u001b[0m\u001b[0;36m1\u001b[0m\u001b[0;34m,\u001b[0m \u001b[0;36m9\u001b[0m\u001b[0;34m)\u001b[0m\u001b[0;34m,\u001b[0m\u001b[0;34m\u001b[0m\u001b[0;34m\u001b[0m\u001b[0m\n\u001b[1;32m      5\u001b[0m               \"criterion\": [\"gini\", \"entropy\"]}\n",
      "\u001b[0;31mNameError\u001b[0m: name 'randint' is not defined"
     ]
    }
   ],
   "source": []
  },
  {
   "cell_type": "code",
   "execution_count": 65,
   "metadata": {},
   "outputs": [],
   "source": [
    "from sklearn import tree\n",
    "from sklearn.model_selection import GridSearchCV\n",
    "import random\n",
    "from random import randint"
   ]
  },
  {
   "cell_type": "code",
   "execution_count": 101,
   "metadata": {},
   "outputs": [
    {
     "name": "stdout",
     "output_type": "stream",
     "text": [
      "0.5002660989888238 {'min_samples_leaf': 2}\n"
     ]
    }
   ],
   "source": [
    "parameters = {\"min_samples_leaf\": range(1, 9)}\n",
    "clf = GridSearchCV(tree.DecisionTreeClassifier(), parameters, n_jobs=4)\n",
    "clf.fit(X=X, y=y)\n",
    "tree_model = clf.best_estimator_\n",
    "print (clf.best_score_, clf.best_params_) "
   ]
  },
  {
   "cell_type": "code",
   "execution_count": 102,
   "metadata": {},
   "outputs": [
    {
     "data": {
      "text/plain": [
       "DecisionTreeClassifier(max_depth=2)"
      ]
     },
     "execution_count": 102,
     "metadata": {},
     "output_type": "execute_result"
    }
   ],
   "source": [
    "from sklearn.tree import DecisionTreeClassifier\n",
    "classifier4 = DecisionTreeClassifier(max_depth = 2)\n",
    "classifier4.fit(X_train, y_train)"
   ]
  },
  {
   "cell_type": "code",
   "execution_count": 103,
   "metadata": {},
   "outputs": [],
   "source": [
    "y_pred = classifier3.predict(X_val)"
   ]
  },
  {
   "cell_type": "code",
   "execution_count": 104,
   "metadata": {},
   "outputs": [
    {
     "name": "stdout",
     "output_type": "stream",
     "text": [
      "[[933  52]\n",
      " [578 316]]\n",
      "              precision    recall  f1-score   support\n",
      "\n",
      "           0       0.62      0.95      0.75       985\n",
      "           1       0.86      0.35      0.50       894\n",
      "\n",
      "    accuracy                           0.66      1879\n",
      "   macro avg       0.74      0.65      0.62      1879\n",
      "weighted avg       0.73      0.66      0.63      1879\n",
      "\n"
     ]
    }
   ],
   "source": [
    "from sklearn.metrics import classification_report, confusion_matrix\n",
    "CM2 = confusion_matrix(y_val, y_pred)\n",
    "print(confusion_matrix(y_val, y_pred))\n",
    "print(classification_report(y_val, y_pred))"
   ]
  },
  {
   "cell_type": "code",
   "execution_count": 105,
   "metadata": {},
   "outputs": [
    {
     "name": "stdout",
     "output_type": "stream",
     "text": [
      "0.6465324384787472\n",
      "0.05279187817258883\n"
     ]
    }
   ],
   "source": [
    "TN = CM2[0][0]\n",
    "FN = CM2[1][0]\n",
    "TP = CM2[1][1]\n",
    "FP = CM2[0][1]\n",
    "\n",
    "FNR = FN/(TP+FN)\n",
    "FPR = FP/(FP+TN)\n",
    "print(FNR)\n",
    "print(FPR)"
   ]
  },
  {
   "cell_type": "code",
   "execution_count": null,
   "metadata": {},
   "outputs": [],
   "source": []
  }
 ],
 "metadata": {
  "kernelspec": {
   "display_name": "Python 3",
   "language": "python",
   "name": "python3"
  },
  "language_info": {
   "codemirror_mode": {
    "name": "ipython",
    "version": 3
   },
   "file_extension": ".py",
   "mimetype": "text/x-python",
   "name": "python",
   "nbconvert_exporter": "python",
   "pygments_lexer": "ipython3",
   "version": "3.8.3"
  }
 },
 "nbformat": 4,
 "nbformat_minor": 4
}
