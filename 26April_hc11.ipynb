{
 "cells": [
  {
   "cell_type": "code",
   "execution_count": 41,
   "metadata": {},
   "outputs": [],
   "source": [
    "import sys\n",
    "assert sys.version_info >= (3, 5)\n",
    "\n",
    "# Scikit-Learn ≥0.20 is required\n",
    "import sklearn\n",
    "assert sklearn.__version__ >= \"0.20\"\n",
    "\n",
    "# Common imports\n",
    "import numpy as np\n",
    "import os\n",
    "\n",
    "# to make this notebook's output stable across runs\n",
    "np.random.seed(42)"
   ]
  },
  {
   "cell_type": "code",
   "execution_count": 42,
   "metadata": {},
   "outputs": [],
   "source": [
    "import pandas as pd\n",
    "class StringConverter(dict):\n",
    "\n",
    "    def __contains__(self, item):\n",
    "\n",
    "        return True\n",
    "\n",
    "    def __getitem__(self, item):\n",
    "\n",
    "        return str\n",
    "\n",
    "    def get(self, default=None):\n",
    "\n",
    "        return str\n",
    "\n",
    "def load_data(data_path = \"/Users/vishali/Desktop/SPRING 2021/project-ml\"):\n",
    "    csv_path = os.path.join(data_path, \"hc11final.csv\")\n",
    "    return pd.read_csv(csv_path, low_memory = False)"
   ]
  },
  {
   "cell_type": "code",
   "execution_count": 43,
   "metadata": {},
   "outputs": [],
   "source": [
    "new = load_data()"
   ]
  },
  {
   "cell_type": "code",
   "execution_count": 44,
   "metadata": {},
   "outputs": [
    {
     "name": "stdout",
     "output_type": "stream",
     "text": [
      "<class 'pandas.core.frame.DataFrame'>\n",
      "RangeIndex: 83645 entries, 0 to 83644\n",
      "Data columns (total 58 columns):\n",
      " #   Column                          Non-Null Count  Dtype  \n",
      "---  ------                          --------------  -----  \n",
      " 0   hv201                           9857 non-null   float64\n",
      " 1   ha57                            0 non-null      float64\n",
      " 2   hc11                            9857 non-null   float64\n",
      " 3   hv204                           9857 non-null   float64\n",
      " 4   hv205                           9857 non-null   float64\n",
      " 5   hv206                           9857 non-null   float64\n",
      " 6   hv207                           9857 non-null   float64\n",
      " 7   hv208                           9857 non-null   float64\n",
      " 8   hv209                           9857 non-null   float64\n",
      " 9   hv210                           9857 non-null   float64\n",
      " 10  hv211                           9857 non-null   float64\n",
      " 11  hv212                           9857 non-null   float64\n",
      " 12  hv213                           9857 non-null   float64\n",
      " 13  hv214                           9857 non-null   float64\n",
      " 14  hv215                           9857 non-null   float64\n",
      " 15  hv216                           9857 non-null   float64\n",
      " 16  hv221                           9857 non-null   float64\n",
      " 17  hv226                           9857 non-null   float64\n",
      " 18  hv227                           9857 non-null   float64\n",
      " 19  hv230a                          9857 non-null   float64\n",
      " 20  hv237                           9857 non-null   float64\n",
      " 21  hv243a                          9857 non-null   float64\n",
      " 22  hv247                           9857 non-null   float64\n",
      " 23  hv252                           9857 non-null   float64\n",
      " 24  hml1                            9857 non-null   float64\n",
      " 25  DHSCLUST                        9857 non-null   float64\n",
      " 26  DHSCC                           9857 non-null   object \n",
      " 27  All_Population_Count_2015       9857 non-null   float64\n",
      " 28  Annual_Precipitation_2015       9857 non-null   float64\n",
      " 29  Aridity_2010                    9857 non-null   float64\n",
      " 30  BUILT_Population_2014           9857 non-null   float64\n",
      " 31  Day_Land_Surface_Temp_2015      9857 non-null   float64\n",
      " 32  Diurnal_Temperature_Range_2015  9857 non-null   float64\n",
      " 33  Enhanced_Vegetation_Index_2015  9857 non-null   float64\n",
      " 34  Frost_Days_2015                 9857 non-null   float64\n",
      " 35  Global_Human_Footprint          9857 non-null   float64\n",
      " 36  Gross_Cell_Production           9857 non-null   float64\n",
      " 37  Growing_Season_Length           9857 non-null   float64\n",
      " 38  Irrigation                      9857 non-null   float64\n",
      " 39  ITN_Coverage_2015               9857 non-null   float64\n",
      " 40  Land_Surface_Temperature_2015   9857 non-null   float64\n",
      " 41  Malaria_Incidence_2015          9857 non-null   float64\n",
      " 42  Malaria_Prevalence_2015         9857 non-null   float64\n",
      " 43  Maximum_Temperature_2015        9857 non-null   float64\n",
      " 44  Mean_Temperature_2015           9857 non-null   float64\n",
      " 45  Minimum_Temperature_2015        9857 non-null   float64\n",
      " 46  Nightlights_Composite           9857 non-null   float64\n",
      " 47  Night_Land_Surface_Temp2015     9857 non-null   float64\n",
      " 48  PET_2015                        9857 non-null   float64\n",
      " 49  Proximity_to_Water              9857 non-null   float64\n",
      " 50  Rainfall_2015                   9857 non-null   float64\n",
      " 51  SMOD_Population_2015            9857 non-null   float64\n",
      " 52  Travel_Times_2015               9857 non-null   float64\n",
      " 53  U5_Population_2005              9857 non-null   float64\n",
      " 54  U5_Population_2015              9857 non-null   float64\n",
      " 55  UN_Population_Count_2015        9857 non-null   float64\n",
      " 56  UN_Population_Density_2015      9857 non-null   float64\n",
      " 57  Wet_Days_2015                   9857 non-null   float64\n",
      "dtypes: float64(57), object(1)\n",
      "memory usage: 37.0+ MB\n"
     ]
    }
   ],
   "source": [
    "new.info()"
   ]
  },
  {
   "cell_type": "code",
   "execution_count": 45,
   "metadata": {},
   "outputs": [
    {
     "data": {
      "image/png": "[encoded data removed]",
      "text/plain": [
       "<Figure size 864x576 with 2 Axes>"
      ]
     },
     "metadata": {
      "needs_background": "light"
     },
     "output_type": "display_data"
    }
   ],
   "source": [
    "ax = new.hist(column='hc11', by = \"DHSCC\", grid=False, figsize=(12,8), color='#86bf91', zorder=2, rwidth=0.9)"
   ]
  },
  {
   "cell_type": "code",
   "execution_count": 46,
   "metadata": {},
   "outputs": [],
   "source": [
    "new = new.dropna(subset=['hc11'])"
   ]
  },
  {
   "cell_type": "code",
   "execution_count": 47,
   "metadata": {},
   "outputs": [],
   "source": [
    "new['hc11'] = pd.Categorical(new.hc11)"
   ]
  },
  {
   "cell_type": "code",
   "execution_count": 48,
   "metadata": {},
   "outputs": [],
   "source": [
    "y = new['hc11']"
   ]
  },
  {
   "cell_type": "code",
   "execution_count": 49,
   "metadata": {},
   "outputs": [
    {
     "data": {
      "text/plain": [
       "count     9857.0\n",
       "unique       2.0\n",
       "top          0.0\n",
       "freq      5459.0\n",
       "Name: hc11, dtype: float64"
      ]
     },
     "execution_count": 49,
     "metadata": {},
     "output_type": "execute_result"
    }
   ],
   "source": [
    "y.describe()"
   ]
  },
  {
   "cell_type": "code",
   "execution_count": 50,
   "metadata": {},
   "outputs": [],
   "source": [
    "X = new.drop(['ha57', 'hc11','DHSCC', 'DHSCLUST'], axis = 1)"
   ]
  },
  {
   "cell_type": "code",
   "execution_count": 51,
   "metadata": {},
   "outputs": [
    {
     "data": {
      "text/html": [
       "<div>\n",
       "<style scoped>\n",
       "    .dataframe tbody tr th:only-of-type {\n",
       "        vertical-align: middle;\n",
       "    }\n",
       "\n",
       "    .dataframe tbody tr th {\n",
       "        vertical-align: top;\n",
       "    }\n",
       "\n",
       "    .dataframe thead th {\n",
       "        text-align: right;\n",
       "    }\n",
       "</style>\n",
       "<table border=\"1\" class=\"dataframe\">\n",
       "  <thead>\n",
       "    <tr style=\"text-align: right;\">\n",
       "      <th></th>\n",
       "      <th>hv201</th>\n",
       "      <th>hv204</th>\n",
       "      <th>hv205</th>\n",
       "      <th>hv206</th>\n",
       "      <th>hv207</th>\n",
       "      <th>hv208</th>\n",
       "      <th>hv209</th>\n",
       "      <th>hv210</th>\n",
       "      <th>hv211</th>\n",
       "      <th>hv212</th>\n",
       "      <th>...</th>\n",
       "      <th>PET_2015</th>\n",
       "      <th>Proximity_to_Water</th>\n",
       "      <th>Rainfall_2015</th>\n",
       "      <th>SMOD_Population_2015</th>\n",
       "      <th>Travel_Times_2015</th>\n",
       "      <th>U5_Population_2005</th>\n",
       "      <th>U5_Population_2015</th>\n",
       "      <th>UN_Population_Count_2015</th>\n",
       "      <th>UN_Population_Density_2015</th>\n",
       "      <th>Wet_Days_2015</th>\n",
       "    </tr>\n",
       "  </thead>\n",
       "  <tbody>\n",
       "    <tr>\n",
       "      <th>count</th>\n",
       "      <td>9857.000000</td>\n",
       "      <td>9857.000000</td>\n",
       "      <td>9857.000000</td>\n",
       "      <td>9857.000000</td>\n",
       "      <td>9857.000000</td>\n",
       "      <td>9857.000000</td>\n",
       "      <td>9857.000000</td>\n",
       "      <td>9857.000000</td>\n",
       "      <td>9857.000000</td>\n",
       "      <td>9857.000000</td>\n",
       "      <td>...</td>\n",
       "      <td>9857.000000</td>\n",
       "      <td>9857.000000</td>\n",
       "      <td>9857.000000</td>\n",
       "      <td>9857.000000</td>\n",
       "      <td>9857.000000</td>\n",
       "      <td>9857.000000</td>\n",
       "      <td>9857.000000</td>\n",
       "      <td>9857.000000</td>\n",
       "      <td>9857.000000</td>\n",
       "      <td>9857.000000</td>\n",
       "    </tr>\n",
       "    <tr>\n",
       "      <th>mean</th>\n",
       "      <td>3.421629</td>\n",
       "      <td>42.293801</td>\n",
       "      <td>8.596835</td>\n",
       "      <td>0.093639</td>\n",
       "      <td>0.467586</td>\n",
       "      <td>0.068175</td>\n",
       "      <td>0.014203</td>\n",
       "      <td>0.420108</td>\n",
       "      <td>0.063508</td>\n",
       "      <td>0.007609</td>\n",
       "      <td>...</td>\n",
       "      <td>3.425293</td>\n",
       "      <td>55517.106429</td>\n",
       "      <td>1043.129662</td>\n",
       "      <td>0.409151</td>\n",
       "      <td>99.113978</td>\n",
       "      <td>51.410989</td>\n",
       "      <td>67.806841</td>\n",
       "      <td>77550.892585</td>\n",
       "      <td>487.805653</td>\n",
       "      <td>12.641624</td>\n",
       "    </tr>\n",
       "    <tr>\n",
       "      <th>std</th>\n",
       "      <td>4.587242</td>\n",
       "      <td>50.077792</td>\n",
       "      <td>10.929888</td>\n",
       "      <td>0.303619</td>\n",
       "      <td>0.498974</td>\n",
       "      <td>0.279542</td>\n",
       "      <td>0.145973</td>\n",
       "      <td>0.500946</td>\n",
       "      <td>0.258430</td>\n",
       "      <td>0.121889</td>\n",
       "      <td>...</td>\n",
       "      <td>0.460958</td>\n",
       "      <td>57009.284133</td>\n",
       "      <td>298.927536</td>\n",
       "      <td>0.776121</td>\n",
       "      <td>91.406992</td>\n",
       "      <td>126.488757</td>\n",
       "      <td>165.068030</td>\n",
       "      <td>99402.835730</td>\n",
       "      <td>1121.713620</td>\n",
       "      <td>2.913997</td>\n",
       "    </tr>\n",
       "    <tr>\n",
       "      <th>min</th>\n",
       "      <td>1.000000</td>\n",
       "      <td>2.000000</td>\n",
       "      <td>0.000000</td>\n",
       "      <td>0.000000</td>\n",
       "      <td>0.000000</td>\n",
       "      <td>0.000000</td>\n",
       "      <td>0.000000</td>\n",
       "      <td>0.000000</td>\n",
       "      <td>0.000000</td>\n",
       "      <td>0.000000</td>\n",
       "      <td>...</td>\n",
       "      <td>2.450000</td>\n",
       "      <td>0.000000</td>\n",
       "      <td>373.818182</td>\n",
       "      <td>0.000000</td>\n",
       "      <td>0.000000</td>\n",
       "      <td>0.279527</td>\n",
       "      <td>0.382598</td>\n",
       "      <td>47.931122</td>\n",
       "      <td>0.151325</td>\n",
       "      <td>6.175833</td>\n",
       "    </tr>\n",
       "    <tr>\n",
       "      <th>25%</th>\n",
       "      <td>1.000000</td>\n",
       "      <td>15.000000</td>\n",
       "      <td>1.000000</td>\n",
       "      <td>0.000000</td>\n",
       "      <td>0.000000</td>\n",
       "      <td>0.000000</td>\n",
       "      <td>0.000000</td>\n",
       "      <td>0.000000</td>\n",
       "      <td>0.000000</td>\n",
       "      <td>0.000000</td>\n",
       "      <td>...</td>\n",
       "      <td>2.958333</td>\n",
       "      <td>16585.734710</td>\n",
       "      <td>853.000000</td>\n",
       "      <td>0.000000</td>\n",
       "      <td>34.861413</td>\n",
       "      <td>7.495979</td>\n",
       "      <td>10.260002</td>\n",
       "      <td>16749.287109</td>\n",
       "      <td>78.112438</td>\n",
       "      <td>10.164166</td>\n",
       "    </tr>\n",
       "    <tr>\n",
       "      <th>50%</th>\n",
       "      <td>2.000000</td>\n",
       "      <td>30.000000</td>\n",
       "      <td>1.000000</td>\n",
       "      <td>0.000000</td>\n",
       "      <td>0.000000</td>\n",
       "      <td>0.000000</td>\n",
       "      <td>0.000000</td>\n",
       "      <td>0.000000</td>\n",
       "      <td>0.000000</td>\n",
       "      <td>0.000000</td>\n",
       "      <td>...</td>\n",
       "      <td>3.550000</td>\n",
       "      <td>35413.540810</td>\n",
       "      <td>1007.000000</td>\n",
       "      <td>0.000000</td>\n",
       "      <td>72.744624</td>\n",
       "      <td>19.474722</td>\n",
       "      <td>26.552991</td>\n",
       "      <td>41639.468750</td>\n",
       "      <td>173.855009</td>\n",
       "      <td>12.008333</td>\n",
       "    </tr>\n",
       "    <tr>\n",
       "      <th>75%</th>\n",
       "      <td>2.000000</td>\n",
       "      <td>60.000000</td>\n",
       "      <td>24.000000</td>\n",
       "      <td>0.000000</td>\n",
       "      <td>1.000000</td>\n",
       "      <td>0.000000</td>\n",
       "      <td>0.000000</td>\n",
       "      <td>1.000000</td>\n",
       "      <td>0.000000</td>\n",
       "      <td>0.000000</td>\n",
       "      <td>...</td>\n",
       "      <td>3.816667</td>\n",
       "      <td>73282.150420</td>\n",
       "      <td>1180.333333</td>\n",
       "      <td>1.000000</td>\n",
       "      <td>133.455764</td>\n",
       "      <td>53.912835</td>\n",
       "      <td>69.655068</td>\n",
       "      <td>118533.296875</td>\n",
       "      <td>494.077231</td>\n",
       "      <td>15.849167</td>\n",
       "    </tr>\n",
       "    <tr>\n",
       "      <th>max</th>\n",
       "      <td>14.000000</td>\n",
       "      <td>500.000000</td>\n",
       "      <td>24.000000</td>\n",
       "      <td>9.000000</td>\n",
       "      <td>1.000000</td>\n",
       "      <td>9.000000</td>\n",
       "      <td>9.000000</td>\n",
       "      <td>9.000000</td>\n",
       "      <td>9.000000</td>\n",
       "      <td>9.000000</td>\n",
       "      <td>...</td>\n",
       "      <td>4.283333</td>\n",
       "      <td>295739.776600</td>\n",
       "      <td>2589.000000</td>\n",
       "      <td>3.000000</td>\n",
       "      <td>628.839142</td>\n",
       "      <td>1574.178850</td>\n",
       "      <td>2028.777204</td>\n",
       "      <td>913433.375000</td>\n",
       "      <td>16723.025670</td>\n",
       "      <td>18.550833</td>\n",
       "    </tr>\n",
       "  </tbody>\n",
       "</table>\n",
       "<p>8 rows × 54 columns</p>\n",
       "</div>"
      ],
      "text/plain": [
       "             hv201        hv204        hv205        hv206        hv207  \\\n",
       "count  9857.000000  9857.000000  9857.000000  9857.000000  9857.000000   \n",
       "mean      3.421629    42.293801     8.596835     0.093639     0.467586   \n",
       "std       4.587242    50.077792    10.929888     0.303619     0.498974   \n",
       "min       1.000000     2.000000     0.000000     0.000000     0.000000   \n",
       "25%       1.000000    15.000000     1.000000     0.000000     0.000000   \n",
       "50%       2.000000    30.000000     1.000000     0.000000     0.000000   \n",
       "75%       2.000000    60.000000    24.000000     0.000000     1.000000   \n",
       "max      14.000000   500.000000    24.000000     9.000000     1.000000   \n",
       "\n",
       "             hv208        hv209        hv210        hv211        hv212  ...  \\\n",
       "count  9857.000000  9857.000000  9857.000000  9857.000000  9857.000000  ...   \n",
       "mean      0.068175     0.014203     0.420108     0.063508     0.007609  ...   \n",
       "std       0.279542     0.145973     0.500946     0.258430     0.121889  ...   \n",
       "min       0.000000     0.000000     0.000000     0.000000     0.000000  ...   \n",
       "25%       0.000000     0.000000     0.000000     0.000000     0.000000  ...   \n",
       "50%       0.000000     0.000000     0.000000     0.000000     0.000000  ...   \n",
       "75%       0.000000     0.000000     1.000000     0.000000     0.000000  ...   \n",
       "max       9.000000     9.000000     9.000000     9.000000     9.000000  ...   \n",
       "\n",
       "          PET_2015  Proximity_to_Water  Rainfall_2015  SMOD_Population_2015  \\\n",
       "count  9857.000000         9857.000000    9857.000000           9857.000000   \n",
       "mean      3.425293        55517.106429    1043.129662              0.409151   \n",
       "std       0.460958        57009.284133     298.927536              0.776121   \n",
       "min       2.450000            0.000000     373.818182              0.000000   \n",
       "25%       2.958333        16585.734710     853.000000              0.000000   \n",
       "50%       3.550000        35413.540810    1007.000000              0.000000   \n",
       "75%       3.816667        73282.150420    1180.333333              1.000000   \n",
       "max       4.283333       295739.776600    2589.000000              3.000000   \n",
       "\n",
       "       Travel_Times_2015  U5_Population_2005  U5_Population_2015  \\\n",
       "count        9857.000000         9857.000000         9857.000000   \n",
       "mean           99.113978           51.410989           67.806841   \n",
       "std            91.406992          126.488757          165.068030   \n",
       "min             0.000000            0.279527            0.382598   \n",
       "25%            34.861413            7.495979           10.260002   \n",
       "50%            72.744624           19.474722           26.552991   \n",
       "75%           133.455764           53.912835           69.655068   \n",
       "max           628.839142         1574.178850         2028.777204   \n",
       "\n",
       "       UN_Population_Count_2015  UN_Population_Density_2015  Wet_Days_2015  \n",
       "count               9857.000000                 9857.000000    9857.000000  \n",
       "mean               77550.892585                  487.805653      12.641624  \n",
       "std                99402.835730                 1121.713620       2.913997  \n",
       "min                   47.931122                    0.151325       6.175833  \n",
       "25%                16749.287109                   78.112438      10.164166  \n",
       "50%                41639.468750                  173.855009      12.008333  \n",
       "75%               118533.296875                  494.077231      15.849167  \n",
       "max               913433.375000                16723.025670      18.550833  \n",
       "\n",
       "[8 rows x 54 columns]"
      ]
     },
     "execution_count": 51,
     "metadata": {},
     "output_type": "execute_result"
    }
   ],
   "source": [
    "X.describe()"
   ]
  },
  {
   "cell_type": "code",
   "execution_count": 52,
   "metadata": {},
   "outputs": [],
   "source": [
    "from sklearn.model_selection import train_test_split\n",
    "X_train, X_test, y_train, y_test = train_test_split(X, y, test_size=0.2, random_state=1)\n",
    "X_train, X_val, y_train, y_val = train_test_split(X_train, y_train, test_size=0.25, random_state=1)"
   ]
  },
  {
   "cell_type": "code",
   "execution_count": 53,
   "metadata": {},
   "outputs": [
    {
     "data": {
      "text/plain": [
       "LogisticRegression(random_state=42, solver='liblinear')"
      ]
     },
     "execution_count": 53,
     "metadata": {},
     "output_type": "execute_result"
    }
   ],
   "source": [
    "from sklearn.linear_model import LogisticRegression\n",
    "lr = LogisticRegression( solver = 'liblinear', random_state = 42)\n",
    "lr.fit(X_train,y_train)"
   ]
  },
  {
   "cell_type": "code",
   "execution_count": 54,
   "metadata": {},
   "outputs": [],
   "source": [
    "y_pred_LR = lr.predict(X_test)"
   ]
  },
  {
   "cell_type": "code",
   "execution_count": 55,
   "metadata": {},
   "outputs": [
    {
     "name": "stdout",
     "output_type": "stream",
     "text": [
      "[[838 289]\n",
      " [501 344]]\n",
      "              precision    recall  f1-score   support\n",
      "\n",
      "         0.0       0.63      0.74      0.68      1127\n",
      "         1.0       0.54      0.41      0.47       845\n",
      "\n",
      "    accuracy                           0.60      1972\n",
      "   macro avg       0.58      0.58      0.57      1972\n",
      "weighted avg       0.59      0.60      0.59      1972\n",
      "\n",
      "0.6258401792382375\n"
     ]
    },
    {
     "data": {
      "text/plain": [
       "array([0.62584018, 0.54344392])"
      ]
     },
     "execution_count": 55,
     "metadata": {},
     "output_type": "execute_result"
    }
   ],
   "source": [
    "from sklearn.metrics import classification_report, confusion_matrix\n",
    "CM = confusion_matrix(y_test, y_pred_LR)\n",
    "print(confusion_matrix(y_test, y_pred_LR))\n",
    "print(classification_report(y_test, y_pred_LR))\n",
    "\n",
    "\n",
    "TN = CM[0][0]\n",
    "FN = CM[1][0]\n",
    "TP = CM[1][1]\n",
    "FP = CM[0][1]\n",
    "\n",
    "# True Negative Rate | Specificity\n",
    "\n",
    "TNR = TN / (TN + FN)\n",
    "print(TNR)\n",
    "\n",
    "# When true positive + false positive == 0, precision returns 0 and raises UndefinedMetricWarning. This behavior can be modified with zero_division.\n",
    "\n",
    "from sklearn.metrics import precision_score\n",
    "precision_score(y_test, y_pred_LR, average=None, zero_division=1)"
   ]
  },
  {
   "cell_type": "code",
   "execution_count": 63,
   "metadata": {},
   "outputs": [],
   "source": [
    "import matplotlib.pyplot as plt\n",
    "def plot_precision_recall_vs_threshold(precisions, recalls, thresholds):\n",
    "    \"\"\"\n",
    "    Modified from:\n",
    "    Hands-On Machine learning with Scikit-Learn\n",
    "    and TensorFlow; p.89\n",
    "    \"\"\"\n",
    "    plt.figure(figsize=(8, 8))\n",
    "    plt.title(\"Precision and Recall Scores as a function of the decision threshold\")\n",
    "    plt.plot(thresholds, precisions[:-1], \"b--\", label=\"Precision\")\n",
    "    plt.plot(thresholds, recalls[:-1], \"g-\", label=\"Recall\")\n",
    "    plt.ylabel(\"Score\")\n",
    "    plt.xlabel(\"Decision Threshold\")\n",
    "    plt.legend(loc='best')\n",
    "    "
   ]
  },
  {
   "cell_type": "code",
   "execution_count": 64,
   "metadata": {},
   "outputs": [
    {
     "data": {
      "image/png": "[encoded data removed]",
      "text/plain": [
       "<Figure size 576x576 with 1 Axes>"
      ]
     },
     "metadata": {
      "needs_background": "light"
     },
     "output_type": "display_data"
    }
   ],
   "source": [
    "import numpy as np\n",
    "from sklearn.metrics import precision_recall_curve\n",
    "p, r, thresholds = precision_recall_curve(y_test, y_pred_LR)\n",
    "plot_precision_recall_vs_threshold(p, r, thresholds)"
   ]
  },
  {
   "cell_type": "code",
   "execution_count": 75,
   "metadata": {},
   "outputs": [],
   "source": [
    "# define models and parameters\n",
    "from sklearn.model_selection import RepeatedStratifiedKFold\n",
    "from sklearn.model_selection import GridSearchCV\n",
    "model = LogisticRegression()\n",
    "solvers = ['liblinear']\n",
    "penalty = ['l2']\n",
    "c_values = [100, 10, 1.0, 0.1, 0.01]\n",
    "# define grid search\n",
    "grid = dict(solver=solvers,penalty=penalty,C=c_values)\n",
    "cv = RepeatedStratifiedKFold(n_splits=10, n_repeats=3, random_state=1)\n",
    "grid_search = GridSearchCV(estimator=model, param_grid=grid, n_jobs=1, cv=cv, scoring='recall',error_score=0)\n",
    "grid_result = grid_search.fit(X, y)"
   ]
  },
  {
   "cell_type": "code",
   "execution_count": 76,
   "metadata": {},
   "outputs": [
    {
     "name": "stdout",
     "output_type": "stream",
     "text": [
      "Best: 0.354402 using {'C': 0.1, 'penalty': 'l2', 'solver': 'liblinear'}\n",
      "0.348111 (0.023075) with: {'C': 100, 'penalty': 'l2', 'solver': 'liblinear'}\n",
      "0.352354 (0.025494) with: {'C': 10, 'penalty': 'l2', 'solver': 'liblinear'}\n",
      "0.347650 (0.025120) with: {'C': 1.0, 'penalty': 'l2', 'solver': 'liblinear'}\n",
      "0.354402 (0.023526) with: {'C': 0.1, 'penalty': 'l2', 'solver': 'liblinear'}\n",
      "0.352960 (0.027318) with: {'C': 0.01, 'penalty': 'l2', 'solver': 'liblinear'}\n"
     ]
    }
   ],
   "source": [
    "print(\"Best: %f using %s\" % (grid_result.best_score_, grid_result.best_params_))\n",
    "means = grid_result.cv_results_['mean_test_score']\n",
    "stds = grid_result.cv_results_['std_test_score']\n",
    "params = grid_result.cv_results_['params']\n",
    "for mean, stdev, param in zip(means, stds, params):\n",
    "    print(\"%f (%f) with: %r\" % (mean, stdev, param))"
   ]
  },
  {
   "cell_type": "code",
   "execution_count": 77,
   "metadata": {},
   "outputs": [
    {
     "data": {
      "text/plain": [
       "LogisticRegression(C=0.1, random_state=42, solver='liblinear')"
      ]
     },
     "execution_count": 77,
     "metadata": {},
     "output_type": "execute_result"
    }
   ],
   "source": [
    "# best c is 0.1, runnning with that value. \n",
    "from sklearn.linear_model import LogisticRegression\n",
    "lr_2 = LogisticRegression(C = 0.1, solver = 'liblinear', random_state = 42)\n",
    "lr_2.fit(X_train,y_train)"
   ]
  },
  {
   "cell_type": "code",
   "execution_count": 80,
   "metadata": {},
   "outputs": [],
   "source": [
    "# compare this to validation\n",
    "y_pred_val = lr_2.predict(X_val)"
   ]
  },
  {
   "cell_type": "code",
   "execution_count": 81,
   "metadata": {},
   "outputs": [
    {
     "name": "stdout",
     "output_type": "stream",
     "text": [
      "[[837 264]\n",
      " [571 300]]\n",
      "              precision    recall  f1-score   support\n",
      "\n",
      "         0.0       0.59      0.76      0.67      1101\n",
      "         1.0       0.53      0.34      0.42       871\n",
      "\n",
      "    accuracy                           0.58      1972\n",
      "   macro avg       0.56      0.55      0.54      1972\n",
      "weighted avg       0.57      0.58      0.56      1972\n",
      "\n",
      "0.5944602272727273\n"
     ]
    },
    {
     "data": {
      "text/plain": [
       "array([0.59446023, 0.53191489])"
      ]
     },
     "execution_count": 81,
     "metadata": {},
     "output_type": "execute_result"
    }
   ],
   "source": [
    "from sklearn.metrics import classification_report, confusion_matrix\n",
    "CM = confusion_matrix(y_val, y_pred_val)\n",
    "print(confusion_matrix(y_val, y_pred_val))\n",
    "print(classification_report(y_val, y_pred_val))\n",
    "\n",
    "\n",
    "TN = CM[0][0]\n",
    "FN = CM[1][0]\n",
    "TP = CM[1][1]\n",
    "FP = CM[0][1]\n",
    "\n",
    "# True Negative Rate | Specificity\n",
    "\n",
    "TNR = TN / (TN + FN)\n",
    "print(TNR)\n",
    "\n",
    "# When true positive + false positive == 0, precision returns 0 and raises UndefinedMetricWarning. This behavior can be modified with zero_division.\n",
    "\n",
    "from sklearn.metrics import precision_score\n",
    "precision_score(y_val, y_pred_val, average=None, zero_division=1)"
   ]
  },
  {
   "cell_type": "code",
   "execution_count": 82,
   "metadata": {},
   "outputs": [
    {
     "data": {
      "text/plain": [
       "DecisionTreeClassifier(random_state=42)"
      ]
     },
     "execution_count": 82,
     "metadata": {},
     "output_type": "execute_result"
    }
   ],
   "source": [
    "# Decision Trees\n",
    "from sklearn.tree import DecisionTreeClassifier\n",
    "classifier = DecisionTreeClassifier(random_state = 42)\n",
    "classifier.fit(X_train, y_train)"
   ]
  },
  {
   "cell_type": "code",
   "execution_count": 83,
   "metadata": {},
   "outputs": [],
   "source": [
    "y_pred_DT = classifier.predict(X_test)"
   ]
  },
  {
   "cell_type": "code",
   "execution_count": 84,
   "metadata": {},
   "outputs": [
    {
     "name": "stdout",
     "output_type": "stream",
     "text": [
      "[[729 398]\n",
      " [425 420]]\n",
      "              precision    recall  f1-score   support\n",
      "\n",
      "         0.0       0.63      0.65      0.64      1127\n",
      "         1.0       0.51      0.50      0.51       845\n",
      "\n",
      "    accuracy                           0.58      1972\n",
      "   macro avg       0.57      0.57      0.57      1972\n",
      "weighted avg       0.58      0.58      0.58      1972\n",
      "\n",
      "0.6317157712305026\n",
      "0.5826572008113591\n",
      "[0.63171577 0.51344743]\n"
     ]
    }
   ],
   "source": [
    "from sklearn.metrics import classification_report, confusion_matrix\n",
    "CM = confusion_matrix(y_test, y_pred_DT)\n",
    "print(confusion_matrix(y_test, y_pred_DT))\n",
    "print(classification_report(y_test, y_pred_DT))\n",
    "\n",
    "\n",
    "TN = CM[0][0]\n",
    "FN = CM[1][0]\n",
    "TP = CM[1][1]\n",
    "FP = CM[0][1]\n",
    "\n",
    "\n",
    "# True Negative Rate | Specificity\n",
    "\n",
    "TNR = TN / (TN + FN)\n",
    "print(TNR)\n",
    "\n",
    "\n",
    "# or using accuracy scores\n",
    "from sklearn.metrics import accuracy_score\n",
    "print(accuracy_score(y_test, y_pred_DT))\n",
    "from sklearn.metrics import precision_score\n",
    "print(precision_score(y_test, y_pred_DT, average=None, zero_division=1))\n"
   ]
  },
  {
   "cell_type": "code",
   "execution_count": 89,
   "metadata": {},
   "outputs": [
    {
     "data": {
      "image/png": "[encoded data removed]",
      "text/plain": [
       "<Figure size 576x576 with 1 Axes>"
      ]
     },
     "metadata": {
      "needs_background": "light"
     },
     "output_type": "display_data"
    }
   ],
   "source": [
    "p, r, thresholds = precision_recall_curve(y_test, y_pred_DT)\n",
    "plot_precision_recall_vs_threshold(p, r, thresholds)"
   ]
  },
  {
   "cell_type": "code",
   "execution_count": 85,
   "metadata": {},
   "outputs": [
    {
     "name": "stdout",
     "output_type": "stream",
     "text": [
      "0.4798470314489098 {'criterion': 'gini', 'max_depth': 1, 'min_samples_leaf': 1}\n"
     ]
    }
   ],
   "source": [
    "# Grid search for Decision Trees\n",
    "from sklearn import tree\n",
    "from sklearn.model_selection import GridSearchCV\n",
    "import random\n",
    "from random import randint\n",
    "max_depth_range = range(1,10)\n",
    "min_samples_leaf_range = range(1,10)\n",
    "parameters = {'criterion': ['gini'], 'max_depth': max_depth_range, 'min_samples_leaf': min_samples_leaf_range}\n",
    "clf = GridSearchCV(DecisionTreeClassifier(), parameters, n_jobs=4, cv= 5)\n",
    "clf.fit(X=X, y=y)\n",
    "tree_model = clf.best_estimator_\n",
    "print (clf.best_score_, clf.best_params_)"
   ]
  },
  {
   "cell_type": "code",
   "execution_count": 86,
   "metadata": {},
   "outputs": [
    {
     "data": {
      "text/plain": [
       "DecisionTreeClassifier(max_depth=1, random_state=42)"
      ]
     },
     "execution_count": 86,
     "metadata": {},
     "output_type": "execute_result"
    }
   ],
   "source": [
    "from sklearn.tree import DecisionTreeClassifier\n",
    "classifier2 = DecisionTreeClassifier(max_depth = 1, min_samples_leaf = 1, random_state = 42)\n",
    "classifier2.fit(X_train, y_train)"
   ]
  },
  {
   "cell_type": "code",
   "execution_count": 87,
   "metadata": {},
   "outputs": [],
   "source": [
    "y_pred_val = classifier2.predict(X_val)"
   ]
  },
  {
   "cell_type": "code",
   "execution_count": 88,
   "metadata": {},
   "outputs": [
    {
     "name": "stdout",
     "output_type": "stream",
     "text": [
      "[[502 599]\n",
      " [249 622]]\n",
      "              precision    recall  f1-score   support\n",
      "\n",
      "         0.0       0.67      0.46      0.54      1101\n",
      "         1.0       0.51      0.71      0.59       871\n",
      "\n",
      "    accuracy                           0.57      1972\n",
      "   macro avg       0.59      0.59      0.57      1972\n",
      "weighted avg       0.60      0.57      0.57      1972\n",
      "\n",
      "0.6684420772303595\n"
     ]
    },
    {
     "data": {
      "text/plain": [
       "array([0.66844208, 0.50941851])"
      ]
     },
     "execution_count": 88,
     "metadata": {},
     "output_type": "execute_result"
    }
   ],
   "source": [
    "from sklearn.metrics import classification_report, confusion_matrix\n",
    "CM = confusion_matrix(y_val, y_pred_val)\n",
    "print(confusion_matrix(y_val, y_pred_val))\n",
    "print(classification_report(y_val, y_pred_val))\n",
    "\n",
    "\n",
    "TN = CM[0][0]\n",
    "FN = CM[1][0]\n",
    "TP = CM[1][1]\n",
    "FP = CM[0][1]\n",
    "\n",
    "\n",
    "# True Negative Rate | Specificity\n",
    "\n",
    "TNR = TN / (TN + FN)\n",
    "print(TNR)\n",
    "\n",
    "\n",
    "# or using accuracy scores\n",
    "from sklearn.metrics import accuracy_score\n",
    "accuracy_score(y_val, y_pred_val)\n",
    "from sklearn.metrics import precision_score\n",
    "precision_score(y_val, y_pred_val, average=None, zero_division=1)"
   ]
  },
  {
   "cell_type": "code",
   "execution_count": 90,
   "metadata": {},
   "outputs": [],
   "source": [
    "from sklearn.preprocessing import StandardScaler\n",
    "scaler = StandardScaler()\n",
    "X_train_scaled = scaler.fit_transform(X_train)\n",
    "X_test_scaled = scaler.transform(X_test)"
   ]
  },
  {
   "cell_type": "code",
   "execution_count": 91,
   "metadata": {},
   "outputs": [],
   "source": [
    "from sklearn.svm import LinearSVC\n",
    "lin_svc = LinearSVC(max_iter=100000,random_state=42)\n",
    "lin_svc.fit(X_train_scaled, y_train)\n",
    "y_pred = lin_svc.predict(X_test_scaled)"
   ]
  },
  {
   "cell_type": "code",
   "execution_count": 92,
   "metadata": {},
   "outputs": [
    {
     "name": "stdout",
     "output_type": "stream",
     "text": [
      "[[822 305]\n",
      " [487 358]]\n",
      "              precision    recall  f1-score   support\n",
      "\n",
      "         0.0       0.63      0.73      0.67      1127\n",
      "         1.0       0.54      0.42      0.47       845\n",
      "\n",
      "    accuracy                           0.60      1972\n",
      "   macro avg       0.58      0.58      0.57      1972\n",
      "weighted avg       0.59      0.60      0.59      1972\n",
      "\n",
      "0.6279602750190986\n",
      "0.5983772819472617\n",
      "[0.62796028 0.53996983]\n"
     ]
    }
   ],
   "source": [
    "from sklearn.metrics import classification_report, confusion_matrix\n",
    "CM = confusion_matrix(y_test, y_pred)\n",
    "print(confusion_matrix(y_test, y_pred))\n",
    "print(classification_report(y_test, y_pred))\n",
    "\n",
    "\n",
    "TN = CM[0][0]\n",
    "FN = CM[1][0]\n",
    "TP = CM[1][1]\n",
    "FP = CM[0][1]\n",
    "\n",
    "\n",
    "# True Negative Rate | Specificity\n",
    "\n",
    "TNR = TN / (TN + FN)\n",
    "print(TNR)\n",
    "\n",
    "\n",
    "# or using accuracy scores\n",
    "from sklearn.metrics import accuracy_score\n",
    "print(accuracy_score(y_test, y_pred))\n",
    "from sklearn.metrics import precision_score\n",
    "print(precision_score(y_test, y_pred, average=None, zero_division=1))"
   ]
  },
  {
   "cell_type": "code",
   "execution_count": 94,
   "metadata": {},
   "outputs": [
    {
     "ename": "KeyboardInterrupt",
     "evalue": "",
     "output_type": "error",
     "traceback": [
      "\u001b[0;31m---------------------------------------------------------------------------\u001b[0m",
      "\u001b[0;31mKeyboardInterrupt\u001b[0m                         Traceback (most recent call last)",
      "\u001b[0;32m<ipython-input-94-9069b49b028a>\u001b[0m in \u001b[0;36m<module>\u001b[0;34m\u001b[0m\n\u001b[1;32m     13\u001b[0m \u001b[0mcv\u001b[0m \u001b[0;34m=\u001b[0m \u001b[0mRepeatedStratifiedKFold\u001b[0m\u001b[0;34m(\u001b[0m\u001b[0mn_splits\u001b[0m\u001b[0;34m=\u001b[0m\u001b[0;36m10\u001b[0m\u001b[0;34m,\u001b[0m \u001b[0mn_repeats\u001b[0m\u001b[0;34m=\u001b[0m\u001b[0;36m3\u001b[0m\u001b[0;34m,\u001b[0m \u001b[0mrandom_state\u001b[0m\u001b[0;34m=\u001b[0m\u001b[0;36m1\u001b[0m\u001b[0;34m)\u001b[0m\u001b[0;34m\u001b[0m\u001b[0;34m\u001b[0m\u001b[0m\n\u001b[1;32m     14\u001b[0m \u001b[0mgrid_search\u001b[0m \u001b[0;34m=\u001b[0m \u001b[0mGridSearchCV\u001b[0m\u001b[0;34m(\u001b[0m\u001b[0mestimator\u001b[0m\u001b[0;34m=\u001b[0m\u001b[0mmodel\u001b[0m\u001b[0;34m,\u001b[0m \u001b[0mparam_grid\u001b[0m\u001b[0;34m=\u001b[0m\u001b[0mgrid\u001b[0m\u001b[0;34m,\u001b[0m \u001b[0mn_jobs\u001b[0m\u001b[0;34m=\u001b[0m\u001b[0;34m-\u001b[0m\u001b[0;36m1\u001b[0m\u001b[0;34m,\u001b[0m \u001b[0mcv\u001b[0m\u001b[0;34m=\u001b[0m\u001b[0mcv\u001b[0m\u001b[0;34m,\u001b[0m \u001b[0mscoring\u001b[0m\u001b[0;34m=\u001b[0m\u001b[0;34m'recall'\u001b[0m\u001b[0;34m,\u001b[0m\u001b[0merror_score\u001b[0m\u001b[0;34m=\u001b[0m\u001b[0;36m0\u001b[0m\u001b[0;34m)\u001b[0m\u001b[0;34m\u001b[0m\u001b[0;34m\u001b[0m\u001b[0m\n\u001b[0;32m---> 15\u001b[0;31m \u001b[0mgrid_result\u001b[0m \u001b[0;34m=\u001b[0m \u001b[0mgrid_search\u001b[0m\u001b[0;34m.\u001b[0m\u001b[0mfit\u001b[0m\u001b[0;34m(\u001b[0m\u001b[0mX_train\u001b[0m\u001b[0;34m,\u001b[0m \u001b[0my_train\u001b[0m\u001b[0;34m)\u001b[0m\u001b[0;34m\u001b[0m\u001b[0;34m\u001b[0m\u001b[0m\n\u001b[0m\u001b[1;32m     16\u001b[0m \u001b[0;31m# summarize results\u001b[0m\u001b[0;34m\u001b[0m\u001b[0;34m\u001b[0m\u001b[0;34m\u001b[0m\u001b[0m\n\u001b[1;32m     17\u001b[0m \u001b[0mprint\u001b[0m\u001b[0;34m(\u001b[0m\u001b[0;34m\"Best: %f using %s\"\u001b[0m \u001b[0;34m%\u001b[0m \u001b[0;34m(\u001b[0m\u001b[0mgrid_result\u001b[0m\u001b[0;34m.\u001b[0m\u001b[0mbest_score_\u001b[0m\u001b[0;34m,\u001b[0m \u001b[0mgrid_result\u001b[0m\u001b[0;34m.\u001b[0m\u001b[0mbest_params_\u001b[0m\u001b[0;34m)\u001b[0m\u001b[0;34m)\u001b[0m\u001b[0;34m\u001b[0m\u001b[0;34m\u001b[0m\u001b[0m\n",
      "\u001b[0;32m~/opt/anaconda3/lib/python3.8/site-packages/sklearn/utils/validation.py\u001b[0m in \u001b[0;36minner_f\u001b[0;34m(*args, **kwargs)\u001b[0m\n\u001b[1;32m     71\u001b[0m                           FutureWarning)\n\u001b[1;32m     72\u001b[0m         \u001b[0mkwargs\u001b[0m\u001b[0;34m.\u001b[0m\u001b[0mupdate\u001b[0m\u001b[0;34m(\u001b[0m\u001b[0;34m{\u001b[0m\u001b[0mk\u001b[0m\u001b[0;34m:\u001b[0m \u001b[0marg\u001b[0m \u001b[0;32mfor\u001b[0m \u001b[0mk\u001b[0m\u001b[0;34m,\u001b[0m \u001b[0marg\u001b[0m \u001b[0;32min\u001b[0m \u001b[0mzip\u001b[0m\u001b[0;34m(\u001b[0m\u001b[0msig\u001b[0m\u001b[0;34m.\u001b[0m\u001b[0mparameters\u001b[0m\u001b[0;34m,\u001b[0m \u001b[0margs\u001b[0m\u001b[0;34m)\u001b[0m\u001b[0;34m}\u001b[0m\u001b[0;34m)\u001b[0m\u001b[0;34m\u001b[0m\u001b[0;34m\u001b[0m\u001b[0m\n\u001b[0;32m---> 73\u001b[0;31m         \u001b[0;32mreturn\u001b[0m \u001b[0mf\u001b[0m\u001b[0;34m(\u001b[0m\u001b[0;34m**\u001b[0m\u001b[0mkwargs\u001b[0m\u001b[0;34m)\u001b[0m\u001b[0;34m\u001b[0m\u001b[0;34m\u001b[0m\u001b[0m\n\u001b[0m\u001b[1;32m     74\u001b[0m     \u001b[0;32mreturn\u001b[0m \u001b[0minner_f\u001b[0m\u001b[0;34m\u001b[0m\u001b[0;34m\u001b[0m\u001b[0m\n\u001b[1;32m     75\u001b[0m \u001b[0;34m\u001b[0m\u001b[0m\n",
      "\u001b[0;32m~/opt/anaconda3/lib/python3.8/site-packages/sklearn/model_selection/_search.py\u001b[0m in \u001b[0;36mfit\u001b[0;34m(self, X, y, groups, **fit_params)\u001b[0m\n\u001b[1;32m    734\u001b[0m                 \u001b[0;32mreturn\u001b[0m \u001b[0mresults\u001b[0m\u001b[0;34m\u001b[0m\u001b[0;34m\u001b[0m\u001b[0m\n\u001b[1;32m    735\u001b[0m \u001b[0;34m\u001b[0m\u001b[0m\n\u001b[0;32m--> 736\u001b[0;31m             \u001b[0mself\u001b[0m\u001b[0;34m.\u001b[0m\u001b[0m_run_search\u001b[0m\u001b[0;34m(\u001b[0m\u001b[0mevaluate_candidates\u001b[0m\u001b[0;34m)\u001b[0m\u001b[0;34m\u001b[0m\u001b[0;34m\u001b[0m\u001b[0m\n\u001b[0m\u001b[1;32m    737\u001b[0m \u001b[0;34m\u001b[0m\u001b[0m\n\u001b[1;32m    738\u001b[0m         \u001b[0;31m# For multi-metric evaluation, store the best_index_, best_params_ and\u001b[0m\u001b[0;34m\u001b[0m\u001b[0;34m\u001b[0m\u001b[0;34m\u001b[0m\u001b[0m\n",
      "\u001b[0;32m~/opt/anaconda3/lib/python3.8/site-packages/sklearn/model_selection/_search.py\u001b[0m in \u001b[0;36m_run_search\u001b[0;34m(self, evaluate_candidates)\u001b[0m\n\u001b[1;32m   1186\u001b[0m     \u001b[0;32mdef\u001b[0m \u001b[0m_run_search\u001b[0m\u001b[0;34m(\u001b[0m\u001b[0mself\u001b[0m\u001b[0;34m,\u001b[0m \u001b[0mevaluate_candidates\u001b[0m\u001b[0;34m)\u001b[0m\u001b[0;34m:\u001b[0m\u001b[0;34m\u001b[0m\u001b[0;34m\u001b[0m\u001b[0m\n\u001b[1;32m   1187\u001b[0m         \u001b[0;34m\"\"\"Search all candidates in param_grid\"\"\"\u001b[0m\u001b[0;34m\u001b[0m\u001b[0;34m\u001b[0m\u001b[0m\n\u001b[0;32m-> 1188\u001b[0;31m         \u001b[0mevaluate_candidates\u001b[0m\u001b[0;34m(\u001b[0m\u001b[0mParameterGrid\u001b[0m\u001b[0;34m(\u001b[0m\u001b[0mself\u001b[0m\u001b[0;34m.\u001b[0m\u001b[0mparam_grid\u001b[0m\u001b[0;34m)\u001b[0m\u001b[0;34m)\u001b[0m\u001b[0;34m\u001b[0m\u001b[0;34m\u001b[0m\u001b[0m\n\u001b[0m\u001b[1;32m   1189\u001b[0m \u001b[0;34m\u001b[0m\u001b[0m\n\u001b[1;32m   1190\u001b[0m \u001b[0;34m\u001b[0m\u001b[0m\n",
      "\u001b[0;32m~/opt/anaconda3/lib/python3.8/site-packages/sklearn/model_selection/_search.py\u001b[0m in \u001b[0;36mevaluate_candidates\u001b[0;34m(candidate_params)\u001b[0m\n\u001b[1;32m    706\u001b[0m                               n_splits, n_candidates, n_candidates * n_splits))\n\u001b[1;32m    707\u001b[0m \u001b[0;34m\u001b[0m\u001b[0m\n\u001b[0;32m--> 708\u001b[0;31m                 out = parallel(delayed(_fit_and_score)(clone(base_estimator),\n\u001b[0m\u001b[1;32m    709\u001b[0m                                                        \u001b[0mX\u001b[0m\u001b[0;34m,\u001b[0m \u001b[0my\u001b[0m\u001b[0;34m,\u001b[0m\u001b[0;34m\u001b[0m\u001b[0;34m\u001b[0m\u001b[0m\n\u001b[1;32m    710\u001b[0m                                                        \u001b[0mtrain\u001b[0m\u001b[0;34m=\u001b[0m\u001b[0mtrain\u001b[0m\u001b[0;34m,\u001b[0m \u001b[0mtest\u001b[0m\u001b[0;34m=\u001b[0m\u001b[0mtest\u001b[0m\u001b[0;34m,\u001b[0m\u001b[0;34m\u001b[0m\u001b[0;34m\u001b[0m\u001b[0m\n",
      "\u001b[0;32m~/opt/anaconda3/lib/python3.8/site-packages/joblib/parallel.py\u001b[0m in \u001b[0;36m__call__\u001b[0;34m(self, iterable)\u001b[0m\n\u001b[1;32m   1040\u001b[0m \u001b[0;34m\u001b[0m\u001b[0m\n\u001b[1;32m   1041\u001b[0m             \u001b[0;32mwith\u001b[0m \u001b[0mself\u001b[0m\u001b[0;34m.\u001b[0m\u001b[0m_backend\u001b[0m\u001b[0;34m.\u001b[0m\u001b[0mretrieval_context\u001b[0m\u001b[0;34m(\u001b[0m\u001b[0;34m)\u001b[0m\u001b[0;34m:\u001b[0m\u001b[0;34m\u001b[0m\u001b[0;34m\u001b[0m\u001b[0m\n\u001b[0;32m-> 1042\u001b[0;31m                 \u001b[0mself\u001b[0m\u001b[0;34m.\u001b[0m\u001b[0mretrieve\u001b[0m\u001b[0;34m(\u001b[0m\u001b[0;34m)\u001b[0m\u001b[0;34m\u001b[0m\u001b[0;34m\u001b[0m\u001b[0m\n\u001b[0m\u001b[1;32m   1043\u001b[0m             \u001b[0;31m# Make sure that we get a last message telling us we are done\u001b[0m\u001b[0;34m\u001b[0m\u001b[0;34m\u001b[0m\u001b[0;34m\u001b[0m\u001b[0m\n\u001b[1;32m   1044\u001b[0m             \u001b[0melapsed_time\u001b[0m \u001b[0;34m=\u001b[0m \u001b[0mtime\u001b[0m\u001b[0;34m.\u001b[0m\u001b[0mtime\u001b[0m\u001b[0;34m(\u001b[0m\u001b[0;34m)\u001b[0m \u001b[0;34m-\u001b[0m \u001b[0mself\u001b[0m\u001b[0;34m.\u001b[0m\u001b[0m_start_time\u001b[0m\u001b[0;34m\u001b[0m\u001b[0;34m\u001b[0m\u001b[0m\n",
      "\u001b[0;32m~/opt/anaconda3/lib/python3.8/site-packages/joblib/parallel.py\u001b[0m in \u001b[0;36mretrieve\u001b[0;34m(self)\u001b[0m\n\u001b[1;32m    919\u001b[0m             \u001b[0;32mtry\u001b[0m\u001b[0;34m:\u001b[0m\u001b[0;34m\u001b[0m\u001b[0;34m\u001b[0m\u001b[0m\n\u001b[1;32m    920\u001b[0m                 \u001b[0;32mif\u001b[0m \u001b[0mgetattr\u001b[0m\u001b[0;34m(\u001b[0m\u001b[0mself\u001b[0m\u001b[0;34m.\u001b[0m\u001b[0m_backend\u001b[0m\u001b[0;34m,\u001b[0m \u001b[0;34m'supports_timeout'\u001b[0m\u001b[0;34m,\u001b[0m \u001b[0;32mFalse\u001b[0m\u001b[0;34m)\u001b[0m\u001b[0;34m:\u001b[0m\u001b[0;34m\u001b[0m\u001b[0;34m\u001b[0m\u001b[0m\n\u001b[0;32m--> 921\u001b[0;31m                     \u001b[0mself\u001b[0m\u001b[0;34m.\u001b[0m\u001b[0m_output\u001b[0m\u001b[0;34m.\u001b[0m\u001b[0mextend\u001b[0m\u001b[0;34m(\u001b[0m\u001b[0mjob\u001b[0m\u001b[0;34m.\u001b[0m\u001b[0mget\u001b[0m\u001b[0;34m(\u001b[0m\u001b[0mtimeout\u001b[0m\u001b[0;34m=\u001b[0m\u001b[0mself\u001b[0m\u001b[0;34m.\u001b[0m\u001b[0mtimeout\u001b[0m\u001b[0;34m)\u001b[0m\u001b[0;34m)\u001b[0m\u001b[0;34m\u001b[0m\u001b[0;34m\u001b[0m\u001b[0m\n\u001b[0m\u001b[1;32m    922\u001b[0m                 \u001b[0;32melse\u001b[0m\u001b[0;34m:\u001b[0m\u001b[0;34m\u001b[0m\u001b[0;34m\u001b[0m\u001b[0m\n\u001b[1;32m    923\u001b[0m                     \u001b[0mself\u001b[0m\u001b[0;34m.\u001b[0m\u001b[0m_output\u001b[0m\u001b[0;34m.\u001b[0m\u001b[0mextend\u001b[0m\u001b[0;34m(\u001b[0m\u001b[0mjob\u001b[0m\u001b[0;34m.\u001b[0m\u001b[0mget\u001b[0m\u001b[0;34m(\u001b[0m\u001b[0;34m)\u001b[0m\u001b[0;34m)\u001b[0m\u001b[0;34m\u001b[0m\u001b[0;34m\u001b[0m\u001b[0m\n",
      "\u001b[0;32m~/opt/anaconda3/lib/python3.8/site-packages/joblib/_parallel_backends.py\u001b[0m in \u001b[0;36mwrap_future_result\u001b[0;34m(future, timeout)\u001b[0m\n\u001b[1;32m    540\u001b[0m         AsyncResults.get from multiprocessing.\"\"\"\n\u001b[1;32m    541\u001b[0m         \u001b[0;32mtry\u001b[0m\u001b[0;34m:\u001b[0m\u001b[0;34m\u001b[0m\u001b[0;34m\u001b[0m\u001b[0m\n\u001b[0;32m--> 542\u001b[0;31m             \u001b[0;32mreturn\u001b[0m \u001b[0mfuture\u001b[0m\u001b[0;34m.\u001b[0m\u001b[0mresult\u001b[0m\u001b[0;34m(\u001b[0m\u001b[0mtimeout\u001b[0m\u001b[0;34m=\u001b[0m\u001b[0mtimeout\u001b[0m\u001b[0;34m)\u001b[0m\u001b[0;34m\u001b[0m\u001b[0;34m\u001b[0m\u001b[0m\n\u001b[0m\u001b[1;32m    543\u001b[0m         \u001b[0;32mexcept\u001b[0m \u001b[0mCfTimeoutError\u001b[0m \u001b[0;32mas\u001b[0m \u001b[0me\u001b[0m\u001b[0;34m:\u001b[0m\u001b[0;34m\u001b[0m\u001b[0;34m\u001b[0m\u001b[0m\n\u001b[1;32m    544\u001b[0m             \u001b[0;32mraise\u001b[0m \u001b[0mTimeoutError\u001b[0m \u001b[0;32mfrom\u001b[0m \u001b[0me\u001b[0m\u001b[0;34m\u001b[0m\u001b[0;34m\u001b[0m\u001b[0m\n",
      "\u001b[0;32m~/opt/anaconda3/lib/python3.8/concurrent/futures/_base.py\u001b[0m in \u001b[0;36mresult\u001b[0;34m(self, timeout)\u001b[0m\n\u001b[1;32m    432\u001b[0m                 \u001b[0;32mreturn\u001b[0m \u001b[0mself\u001b[0m\u001b[0;34m.\u001b[0m\u001b[0m__get_result\u001b[0m\u001b[0;34m(\u001b[0m\u001b[0;34m)\u001b[0m\u001b[0;34m\u001b[0m\u001b[0;34m\u001b[0m\u001b[0m\n\u001b[1;32m    433\u001b[0m \u001b[0;34m\u001b[0m\u001b[0m\n\u001b[0;32m--> 434\u001b[0;31m             \u001b[0mself\u001b[0m\u001b[0;34m.\u001b[0m\u001b[0m_condition\u001b[0m\u001b[0;34m.\u001b[0m\u001b[0mwait\u001b[0m\u001b[0;34m(\u001b[0m\u001b[0mtimeout\u001b[0m\u001b[0;34m)\u001b[0m\u001b[0;34m\u001b[0m\u001b[0;34m\u001b[0m\u001b[0m\n\u001b[0m\u001b[1;32m    435\u001b[0m \u001b[0;34m\u001b[0m\u001b[0m\n\u001b[1;32m    436\u001b[0m             \u001b[0;32mif\u001b[0m \u001b[0mself\u001b[0m\u001b[0;34m.\u001b[0m\u001b[0m_state\u001b[0m \u001b[0;32min\u001b[0m \u001b[0;34m[\u001b[0m\u001b[0mCANCELLED\u001b[0m\u001b[0;34m,\u001b[0m \u001b[0mCANCELLED_AND_NOTIFIED\u001b[0m\u001b[0;34m]\u001b[0m\u001b[0;34m:\u001b[0m\u001b[0;34m\u001b[0m\u001b[0;34m\u001b[0m\u001b[0m\n",
      "\u001b[0;32m~/opt/anaconda3/lib/python3.8/threading.py\u001b[0m in \u001b[0;36mwait\u001b[0;34m(self, timeout)\u001b[0m\n\u001b[1;32m    300\u001b[0m         \u001b[0;32mtry\u001b[0m\u001b[0;34m:\u001b[0m    \u001b[0;31m# restore state no matter what (e.g., KeyboardInterrupt)\u001b[0m\u001b[0;34m\u001b[0m\u001b[0;34m\u001b[0m\u001b[0m\n\u001b[1;32m    301\u001b[0m             \u001b[0;32mif\u001b[0m \u001b[0mtimeout\u001b[0m \u001b[0;32mis\u001b[0m \u001b[0;32mNone\u001b[0m\u001b[0;34m:\u001b[0m\u001b[0;34m\u001b[0m\u001b[0;34m\u001b[0m\u001b[0m\n\u001b[0;32m--> 302\u001b[0;31m                 \u001b[0mwaiter\u001b[0m\u001b[0;34m.\u001b[0m\u001b[0macquire\u001b[0m\u001b[0;34m(\u001b[0m\u001b[0;34m)\u001b[0m\u001b[0;34m\u001b[0m\u001b[0;34m\u001b[0m\u001b[0m\n\u001b[0m\u001b[1;32m    303\u001b[0m                 \u001b[0mgotit\u001b[0m \u001b[0;34m=\u001b[0m \u001b[0;32mTrue\u001b[0m\u001b[0;34m\u001b[0m\u001b[0;34m\u001b[0m\u001b[0m\n\u001b[1;32m    304\u001b[0m             \u001b[0;32melse\u001b[0m\u001b[0;34m:\u001b[0m\u001b[0;34m\u001b[0m\u001b[0;34m\u001b[0m\u001b[0m\n",
      "\u001b[0;31mKeyboardInterrupt\u001b[0m: "
     ]
    }
   ],
   "source": [
    "# gridsearch SVM\n",
    "# example of grid searching key hyperparametres for SVC\n",
    "from sklearn.model_selection import RepeatedStratifiedKFold\n",
    "from sklearn.model_selection import GridSearchCV\n",
    "from sklearn.svm import SVC\n",
    "# define model and parameters\n",
    "model = SVC()\n",
    "kernel = ['poly', 'rbf', 'sigmoid']\n",
    "C = [50, 10, 1.0, 0.1, 0.01]\n",
    "gamma = ['scale']\n",
    "# define grid search\n",
    "grid = dict(kernel=kernel,C=C,gamma=gamma)\n",
    "cv = RepeatedStratifiedKFold(n_splits=10, n_repeats=3, random_state=1)\n",
    "grid_search = GridSearchCV(estimator=model, param_grid=grid, n_jobs=-1, cv=cv, scoring='recall',error_score=0)\n",
    "grid_result = grid_search.fit(X_train, y_train)\n",
    "# summarize results\n",
    "print(\"Best: %f using %s\" % (grid_result.best_score_, grid_result.best_params_))\n",
    "means = grid_result.cv_results_['mean_test_score']\n",
    "stds = grid_result.cv_results_['std_test_score']\n",
    "params = grid_result.cv_results_['params']\n",
    "for mean, stdev, param in zip(means, stds, params):\n",
    "    print(\"%f (%f) with: %r\" % (mean, stdev, param))"
   ]
  },
  {
   "cell_type": "code",
   "execution_count": 95,
   "metadata": {},
   "outputs": [
    {
     "name": "stdout",
     "output_type": "stream",
     "text": [
      "Full dimensionality: 54\n",
      "Reduced dimensionality: 2\n"
     ]
    }
   ],
   "source": [
    "# dimensionality reduction\n",
    "\n",
    "from sklearn.decomposition import PCA\n",
    "pca = PCA(n_components=0.95)\n",
    "X_red = pca.fit_transform(X)\n",
    "\n",
    "from sklearn.model_selection import train_test_split\n",
    "X_train, X_test, y_train, y_test = train_test_split(X_red, y, test_size=0.2, random_state=1)\n",
    "X_train, X_val, y_train, y_val = train_test_split(X_train, y_train, test_size=0.25, random_state=1)\n",
    "\n",
    "\n",
    "print(\"Full dimensionality: {}\".format(X.shape[1]))\n",
    "print(\"Reduced dimensionality: {}\".format(X_red.shape[1]))\n",
    "\n"
   ]
  },
  {
   "cell_type": "code",
   "execution_count": 96,
   "metadata": {},
   "outputs": [
    {
     "data": {
      "text/plain": [
       "LogisticRegression(random_state=42, solver='liblinear')"
      ]
     },
     "execution_count": 96,
     "metadata": {},
     "output_type": "execute_result"
    }
   ],
   "source": [
    "from sklearn.linear_model import LogisticRegression\n",
    "lr = LogisticRegression(solver = 'liblinear', random_state = 42)\n",
    "lr.fit(X_train, y_train)"
   ]
  },
  {
   "cell_type": "code",
   "execution_count": 97,
   "metadata": {},
   "outputs": [],
   "source": [
    "y_pred_LR = lr.predict(X_test)"
   ]
  },
  {
   "cell_type": "code",
   "execution_count": 98,
   "metadata": {},
   "outputs": [
    {
     "name": "stdout",
     "output_type": "stream",
     "text": [
      "[[488 639]\n",
      " [251 594]]\n",
      "              precision    recall  f1-score   support\n",
      "\n",
      "         0.0       0.66      0.43      0.52      1127\n",
      "         1.0       0.48      0.70      0.57       845\n",
      "\n",
      "    accuracy                           0.55      1972\n",
      "   macro avg       0.57      0.57      0.55      1972\n",
      "weighted avg       0.58      0.55      0.54      1972\n",
      "\n",
      "0.6603518267929634\n"
     ]
    },
    {
     "data": {
      "text/plain": [
       "array([0.66035183, 0.48175182])"
      ]
     },
     "execution_count": 98,
     "metadata": {},
     "output_type": "execute_result"
    }
   ],
   "source": [
    "from sklearn.metrics import classification_report, confusion_matrix\n",
    "CM = confusion_matrix(y_test, y_pred_LR)\n",
    "print(confusion_matrix(y_test, y_pred_LR))\n",
    "print(classification_report(y_test, y_pred_LR))\n",
    "\n",
    "\n",
    "TN = CM[0][0]\n",
    "FN = CM[1][0]\n",
    "TP = CM[1][1]\n",
    "FP = CM[0][1]\n",
    "\n",
    "# True Negative Rate | Specificity\n",
    "\n",
    "TNR = TN / (TN + FN)\n",
    "print(TNR)\n",
    "\n",
    "# When true positive + false positive == 0, precision returns 0 and raises UndefinedMetricWarning. This behavior can be modified with zero_division.\n",
    "\n",
    "from sklearn.metrics import precision_score\n",
    "precision_score(y_test, y_pred_LR, average=None, zero_division=1)"
   ]
  },
  {
   "cell_type": "code",
   "execution_count": 99,
   "metadata": {},
   "outputs": [
    {
     "data": {
      "text/plain": [
       "DecisionTreeClassifier(random_state=42)"
      ]
     },
     "execution_count": 99,
     "metadata": {},
     "output_type": "execute_result"
    }
   ],
   "source": [
    "# Decision Trees\n",
    "from sklearn.tree import DecisionTreeClassifier\n",
    "classifier = DecisionTreeClassifier(random_state = 42)\n",
    "classifier.fit(X_train, y_train)"
   ]
  },
  {
   "cell_type": "code",
   "execution_count": 100,
   "metadata": {},
   "outputs": [],
   "source": [
    "y_pred_DT = classifier.predict(X_test)"
   ]
  },
  {
   "cell_type": "code",
   "execution_count": null,
   "metadata": {},
   "outputs": [],
   "source": []
  }
 ],
 "metadata": {
  "kernelspec": {
   "display_name": "Python 3",
   "language": "python",
   "name": "python3"
  }
 },
 "nbformat": 4,
 "nbformat_minor": 4
}
