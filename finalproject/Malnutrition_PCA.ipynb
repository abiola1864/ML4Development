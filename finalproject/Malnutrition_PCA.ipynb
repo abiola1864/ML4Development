{
 "cells": [
  {
   "cell_type": "code",
   "execution_count": 1,
   "metadata": {},
   "outputs": [],
   "source": [
    "import sys\n",
    "assert sys.version_info >= (3, 5)\n",
    "\n",
    "# Scikit-Learn ≥0.20 is required\n",
    "import sklearn\n",
    "assert sklearn.__version__ >= \"0.20\"\n",
    "\n",
    "# Common imports\n",
    "import numpy as np\n",
    "import os\n",
    "\n",
    "# to make this notebook's output stable across runs\n",
    "np.random.seed(42)"
   ]
  },
  {
   "cell_type": "code",
   "execution_count": 2,
   "metadata": {},
   "outputs": [],
   "source": [
    "import pandas as pd\n",
    "class StringConverter(dict):\n",
    "\n",
    "    def __contains__(self, item):\n",
    "\n",
    "        return True\n",
    "\n",
    "    def __getitem__(self, item):\n",
    "\n",
    "        return str\n",
    "\n",
    "    def get(self, default=None):\n",
    "\n",
    "        return str\n",
    "\n",
    "def load_data(data_path = \"/Users/vishali/Desktop/SPRING 2021/project-ml\"):\n",
    "    csv_path = os.path.join(data_path, \"hc11final.csv\")\n",
    "    return pd.read_csv(csv_path, low_memory = False)"
   ]
  },
  {
   "cell_type": "code",
   "execution_count": 3,
   "metadata": {},
   "outputs": [],
   "source": [
    "new = load_data()"
   ]
  },
  {
   "cell_type": "code",
   "execution_count": 42,
   "metadata": {},
   "outputs": [],
   "source": [
    "new = new.dropna(subset=['hc11'])"
   ]
  },
  {
   "cell_type": "code",
   "execution_count": 43,
   "metadata": {},
   "outputs": [],
   "source": [
    "new['hc11'] = pd.Categorical(new.hc11)"
   ]
  },
  {
   "cell_type": "code",
   "execution_count": 45,
   "metadata": {},
   "outputs": [],
   "source": [
    "y = new['hc11']"
   ]
  },
  {
   "cell_type": "code",
   "execution_count": 46,
   "metadata": {},
   "outputs": [],
   "source": [
    "X = new.drop(['ha57', 'hc11','DHSCC', 'DHSCLUST'], axis = 1)"
   ]
  },
  {
   "cell_type": "code",
   "execution_count": 47,
   "metadata": {},
   "outputs": [],
   "source": [
    "from sklearn.model_selection import train_test_split\n",
    "# test_size: what proportion of original data is used for test set\n",
    "X_train, X_test, y_train, y_test = train_test_split(X, y, test_size=0.2, random_state=1)"
   ]
  },
  {
   "cell_type": "code",
   "execution_count": 48,
   "metadata": {},
   "outputs": [],
   "source": [
    "from sklearn.preprocessing import StandardScaler\n",
    "scaler = StandardScaler()\n",
    "# Fit on training set only.\n",
    "scaler.fit(X_train)\n",
    "# Apply transform to both the training set and the test set.\n",
    "X_train = scaler.transform(X_train)\n",
    "X_test = scaler.transform(X_test)"
   ]
  },
  {
   "cell_type": "code",
   "execution_count": 49,
   "metadata": {},
   "outputs": [],
   "source": [
    "from sklearn.decomposition import PCA\n",
    "# Make an instance of the Model\n",
    "pca = PCA(.95)"
   ]
  },
  {
   "cell_type": "code",
   "execution_count": 50,
   "metadata": {},
   "outputs": [
    {
     "data": {
      "text/plain": [
       "PCA(n_components=0.95)"
      ]
     },
     "execution_count": 50,
     "metadata": {},
     "output_type": "execute_result"
    }
   ],
   "source": [
    "pca.fit(X_train)"
   ]
  },
  {
   "cell_type": "code",
   "execution_count": 51,
   "metadata": {},
   "outputs": [],
   "source": [
    "X_train = pca.transform(X_train)\n",
    "X_test = pca.transform(X_test)"
   ]
  },
  {
   "cell_type": "code",
   "execution_count": 52,
   "metadata": {},
   "outputs": [],
   "source": [
    "from sklearn.linear_model import LogisticRegression"
   ]
  },
  {
   "cell_type": "code",
   "execution_count": 53,
   "metadata": {},
   "outputs": [],
   "source": [
    "# all parameters not specified are set to their defaults\n",
    "# default solver is incredibly slow which is why it was changed to 'lbfgs'\n",
    "logisticRegr = LogisticRegression(solver = 'liblinear')"
   ]
  },
  {
   "cell_type": "code",
   "execution_count": 54,
   "metadata": {},
   "outputs": [
    {
     "data": {
      "text/plain": [
       "LogisticRegression(solver='liblinear')"
      ]
     },
     "execution_count": 54,
     "metadata": {},
     "output_type": "execute_result"
    }
   ],
   "source": [
    "logisticRegr.fit(X_train, y_train)"
   ]
  },
  {
   "cell_type": "code",
   "execution_count": 55,
   "metadata": {},
   "outputs": [],
   "source": [
    "y_pred_LR = logisticRegr.predict(X_test)"
   ]
  },
  {
   "cell_type": "code",
   "execution_count": 56,
   "metadata": {},
   "outputs": [
    {
     "name": "stdout",
     "output_type": "stream",
     "text": [
      "[[810 317]\n",
      " [496 349]]\n",
      "              precision    recall  f1-score   support\n",
      "\n",
      "         0.0       0.62      0.72      0.67      1127\n",
      "         1.0       0.52      0.41      0.46       845\n",
      "\n",
      "    accuracy                           0.59      1972\n",
      "   macro avg       0.57      0.57      0.56      1972\n",
      "weighted avg       0.58      0.59      0.58      1972\n",
      "\n",
      "0.7187222715173026\n",
      "0.5877281947261663\n"
     ]
    }
   ],
   "source": [
    "from sklearn.metrics import classification_report, confusion_matrix\n",
    "CM = confusion_matrix(y_test, y_pred_LR)\n",
    "print(confusion_matrix(y_test, y_pred_LR))\n",
    "print(classification_report(y_test, y_pred_LR))\n",
    "\n",
    "\n",
    "TN = CM[0][0]\n",
    "FN = CM[1][0]\n",
    "TP = CM[1][1]\n",
    "FP = CM[0][1]\n",
    "\n",
    "# True Negative Rate | Specificity\n",
    "\n",
    "FPR = TN / (TN + FP)\n",
    "print(FPR)\n",
    "\n",
    "# When true positive + false positive == 0, precision returns 0 and raises UndefinedMetricWarning. This behavior can be modified with zero_division.\n",
    "\n",
    "from sklearn.metrics import accuracy_score\n",
    "print(accuracy_score(y_test, y_pred_LR))"
   ]
  },
  {
   "cell_type": "code",
   "execution_count": 57,
   "metadata": {},
   "outputs": [
    {
     "name": "stdout",
     "output_type": "stream",
     "text": [
      "[[743 384]\n",
      " [451 394]]\n",
      "              precision    recall  f1-score   support\n",
      "\n",
      "         0.0       0.62      0.66      0.64      1127\n",
      "         1.0       0.51      0.47      0.49       845\n",
      "\n",
      "    accuracy                           0.58      1972\n",
      "   macro avg       0.56      0.56      0.56      1972\n",
      "weighted avg       0.57      0.58      0.57      1972\n",
      "\n",
      "0.6592724046140195\n",
      "0.5765720081135902\n"
     ]
    }
   ],
   "source": [
    "# Decision Trees\n",
    "from sklearn.tree import DecisionTreeClassifier\n",
    "classifier = DecisionTreeClassifier(random_state = 42)\n",
    "classifier.fit(X_train, y_train)\n",
    "y_pred_DT = classifier.predict(X_test)\n",
    "from sklearn.metrics import classification_report, confusion_matrix\n",
    "CM = confusion_matrix(y_test, y_pred_DT)\n",
    "print(confusion_matrix(y_test, y_pred_DT))\n",
    "print(classification_report(y_test, y_pred_DT))\n",
    "\n",
    "\n",
    "TN = CM[0][0]\n",
    "FN = CM[1][0]\n",
    "TP = CM[1][1]\n",
    "FP = CM[0][1]\n",
    "\n",
    "# True Negative Rate | Specificity\n",
    "\n",
    "FPR = TN / (TN + FP)\n",
    "print(FPR)\n",
    "\n",
    "# When true positive + false positive == 0, precision returns 0 and raises UndefinedMetricWarning. This behavior can be modified with zero_division.\n",
    "\n",
    "from sklearn.metrics import accuracy_score\n",
    "print(accuracy_score(y_test, y_pred_DT))"
   ]
  },
  {
   "cell_type": "code",
   "execution_count": 58,
   "metadata": {},
   "outputs": [
    {
     "name": "stdout",
     "output_type": "stream",
     "text": [
      "[[810 317]\n",
      " [499 346]]\n",
      "              precision    recall  f1-score   support\n",
      "\n",
      "         0.0       0.62      0.72      0.67      1127\n",
      "         1.0       0.52      0.41      0.46       845\n",
      "\n",
      "    accuracy                           0.59      1972\n",
      "   macro avg       0.57      0.56      0.56      1972\n",
      "weighted avg       0.58      0.59      0.58      1972\n",
      "\n",
      "0.5862068965517241\n"
     ]
    }
   ],
   "source": [
    "from sklearn.svm import LinearSVC\n",
    "lin_svc = LinearSVC(max_iter=100000,random_state=42)\n",
    "lin_svc.fit(X_train, y_train)\n",
    "y_pred = lin_svc.predict(X_test)\n",
    "from sklearn.metrics import classification_report, confusion_matrix\n",
    "CM = confusion_matrix(y_test, y_pred)\n",
    "print(confusion_matrix(y_test, y_pred))\n",
    "print(classification_report(y_test, y_pred))\n",
    "\n",
    "TN = CM[0][0]\n",
    "FN = CM[1][0]\n",
    "TP = CM[1][1]\n",
    "FP = CM[0][1]\n",
    "\n",
    "# or using accuracy scores\n",
    "from sklearn.metrics import accuracy_score\n",
    "print(accuracy_score(y_test, y_pred))"
   ]
  },
  {
   "cell_type": "code",
   "execution_count": null,
   "metadata": {},
   "outputs": [],
   "source": []
  }
 ],
 "metadata": {
  "kernelspec": {
   "display_name": "Python 3",
   "language": "python",
   "name": "python3"
  },
  "language_info": {
   "codemirror_mode": {
    "name": "ipython",
    "version": 3
   },
   "file_extension": ".py",
   "mimetype": "text/x-python",
   "name": "python",
   "nbconvert_exporter": "python",
   "pygments_lexer": "ipython3",
   "version": "3.8.3"
  }
 },
 "nbformat": 4,
 "nbformat_minor": 4
}
